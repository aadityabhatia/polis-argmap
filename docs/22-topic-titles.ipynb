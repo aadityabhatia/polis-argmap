{
 "cells": [
  {
   "cell_type": "raw",
   "metadata": {},
   "source": [
    "---\n",
    "title: Topic Titles using LLMs\n",
    "author: Sonny Bhatia\n",
    "description: Test various language models to generate appealing and representative topic titles\n",
    "image: /images/22-topic-model.webp\n",
    "date: 2024-02-18\n",
    "---"
   ]
  },
  {
   "cell_type": "markdown",
   "metadata": {},
   "source": [
    "## Import Packages and Setup Environment"
   ]
  },
  {
   "cell_type": "code",
   "execution_count": null,
   "metadata": {
    "notebookRunGroups": {
     "groupValue": "1"
    },
    "vscode": {
     "languageId": "python"
    }
   },
   "outputs": [],
   "source": [
    "from polis.data_model import Comments, Topics, HierarchicalTopics, Arguments, ArgumentCommentMap, Summary\n",
    "import math\n",
    "import sys\n",
    "import os\n",
    "from pprint import pprint\n",
    "from tqdm.notebook import tqdm\n",
    "\n",
    "import polars as pl\n",
    "from argmap.dataModel import DataModel, Summary, Comments\n",
    "\n",
    "from dotenv import load_dotenv\n",
    "load_dotenv()\n",
    "\n",
    "# this allows categorical data from various sources to be combined and handled gracefully; performance cost is acceptable\n",
    "pl.enable_string_cache()"
   ]
  },
  {
   "cell_type": "code",
   "execution_count": 2,
   "metadata": {
    "notebookRunGroups": {
     "groupValue": "2"
    },
    "tags": [],
    "vscode": {
     "languageId": "python"
    }
   },
   "outputs": [],
   "source": [
    "import guidance\n",
    "from guidance import models, gen, select, instruction, one_or_more, zero_or_more"
   ]
  },
  {
   "cell_type": "markdown",
   "metadata": {},
   "source": [
    "## Load Dataset"
   ]
  },
  {
   "cell_type": "code",
   "execution_count": 7,
   "metadata": {
    "notebookRunGroups": {
     "groupValue": "1"
    },
    "tags": [],
    "vscode": {
     "languageId": "python"
    }
   },
   "outputs": [],
   "source": [
    "from IPython.display import display_markdown\n",
    "\n",
    "# for now, work with one source\n",
    "DATASET = \"american-assembly.bowling-green\"\n",
    "# \"scoop-hivemind.biodiversity\"\n",
    "# \"scoop-hivemind.freshwater\"\n",
    "# \"scoop-hivemind.taxes\"\n",
    "# \"scoop-hivemind.ubi\"\n",
    "# \"scoop-hivemind.affordable-housing\"\n",
    "# \"london.youth.policing\"\n",
    "# \"canadian-electoral-reform\"\n",
    "# \"brexit-consensus\"\n",
    "# \"ssis.land-bank-farmland.2rumnecbeh.2021-08-01\"\n",
    "\n",
    "summary = Summary(DATASET)\n",
    "\n",
    "comments = Comments(DATASET).load_from_parquet()\n",
    "topics = Topics(DATASET).load_from_parquet()\n",
    "hierarchicalTopics = HierarchicalTopics(DATASET).load_from_parquet()\n",
    "\n",
    "display_markdown(f\"\"\"\n",
    "### Dataset: {DATASET}\n",
    "#### {summary.topic}\n",
    "#### {summary.get('conversation-description')}\n",
    "#### Full Report: [{summary.url}]({summary.url})\n",
    "#### Topic Count: {topics.df.height}\n",
    "\"\"\", raw=True)\n",
    "\n",
    "print(\"Topics Dataset Overview:\")\n",
    "topics.glimpse()"
   ]
  },
  {
   "cell_type": "markdown",
   "metadata": {},
   "source": [
    "## Grammar Specification for Text Generation"
   ]
  },
  {
   "cell_type": "code",
   "execution_count": 4,
   "metadata": {
    "notebookRunGroups": {
     "groupValue": "2"
    },
    "tags": [],
    "vscode": {
     "languageId": "python"
    }
   },
   "outputs": [],
   "source": [
    "@guidance(stateless=True)\n",
    "def generate_line(lm, name: str, max_tokens=50, temperature=0):\n",
    "    return lm + gen(name=name, max_tokens=max_tokens, temperature=temperature, list_append=True, stop=['\\n'])\n",
    "\n",
    "@guidance(stateless=True)\n",
    "def generate_phrase(lm, name: str, max_tokens=50, temperature=0):\n",
    "    return lm + gen(name=name, max_tokens=max_tokens, temperature=temperature, list_append=True, stop=['\\n', '.'])\n",
    "\n",
    "@guidance(stateless=True)\n",
    "def generate_number(lm, name: str, min: int, max: int):\n",
    "    return lm + select(list(range(min, max+1)), name=name, list_append=True)"
   ]
  },
  {
   "cell_type": "code",
   "execution_count": 5,
   "metadata": {
    "notebookRunGroups": {
     "groupValue": "2"
    },
    "tags": [],
    "vscode": {
     "languageId": "python"
    }
   },
   "outputs": [],
   "source": [
    "@guidance\n",
    "def generate_topic_titles(lm, main_title, question, df):\n",
    "    lm += f\"\"\"\\\n",
    "    The following is a dataset of comments from an online discussion about {main_title}. Assign a terse title to each topic based on the given keywords. Avoid repetitive phrases.\n",
    "\n",
    "    Question: {question}\n",
    "    \"\"\"\n",
    "\n",
    "    for topic, keywords, docs in df.rows():\n",
    "        lm += f\"\"\"\n",
    "        Topic {topic}:\n",
    "        Keywords: {', '.join(keywords)}\n",
    "        Example Comments: {'; '.join(docs)}\n",
    "        Topic Title: \"\"\" + gen(name='topic_title', list_append=True, stop=['\\n', '.'], max_tokens=20, temperature=1) + \"\\n\"\n",
    "\n",
    "    return lm"
   ]
  },
  {
   "cell_type": "markdown",
   "metadata": {},
   "source": [
    "## Initialize Language Model"
   ]
  },
  {
   "cell_type": "code",
   "execution_count": 9,
   "metadata": {
    "notebookRunGroups": {
     "groupValue": "2"
    },
    "tags": [
     "model"
    ],
    "vscode": {
     "languageId": "python"
    }
   },
   "outputs": [
    {
     "data": {
      "application/vnd.jupyter.widget-view+json": {
       "model_id": "4f50590438964fcea31f298804315b43",
       "version_major": 2,
       "version_minor": 0
      },
      "text/plain": [
       "Loading checkpoint shards:   0%|          | 0/3 [00:00<?, ?it/s]"
      ]
     },
     "metadata": {},
     "output_type": "display_data"
    }
   ],
   "source": [
    "import torch\n",
    "\n",
    "if not torch.cuda.is_available():\n",
    "\traise Exception(\"No CUDA device found\")\n",
    "\n",
    "mistral = models.TransformersChat(\"mistralai/Mistral-7B-Instruct-v0.2\", device_map=\"auto\") # ~31GB RAM\n",
    "\n",
    "# mistral1 = models.TransformersChat(\"mistralai/Mistral-7B-v0.1\", device_map=\"auto\") ~26GB RAM\n",
    "# llama = models.TransformersChat(\"meta-llama/Llama-2-13b-chat-hf\", device_map=\"auto\") # ~50GB RAM\n",
    "# olmo = models.TransformersChat(\"allenai/OLMo-7B\", device_map=\"auto\") # unable to run without breaking environment\n",
    "# mixtral = models.TransformersChat(\"TheBloke/Mixtral-8x7B-Instruct-v0.1-GPTQ\", device_map=\"auto\") # #26GB RAM\n",
    "# gpt2 = models.TransformersChat(\"openai-community/gpt2-large\", device_map=\"auto\") # ~4GB RAM"
   ]
  },
  {
   "cell_type": "markdown",
   "metadata": {},
   "source": [
    "## Generate Topic Titles"
   ]
  },
  {
   "cell_type": "markdown",
   "metadata": {},
   "source": [
    "### TheBloke/Mixtral-8x7B-Instruct-v0.1-GPTQ"
   ]
  },
  {
   "cell_type": "code",
   "execution_count": 13,
   "metadata": {
    "vscode": {
     "languageId": "python"
    }
   },
   "outputs": [
    {
     "data": {
      "text/html": [
       "<pre style='margin: 0px; padding: 0px; padding-left: 8px; margin-left: -8px; border-radius: 0px; border-left: 1px solid rgba(127, 127, 127, 0.2); white-space: pre-wrap; font-family: ColfaxAI, Arial; font-size: 15px; line-height: 23px;'>The following is a dataset of comments from an online discussion about Improving Bowling Green / Warren County. Assign a terse title to each topic based on the given keywords. Avoid repetitive phrases.\n",
       "\n",
       "Question: What do you believe should change in Bowling Green/Warren County in order to make it a better place to live, work and spend time?\n",
       "\n",
       "Topic 0:\n",
       "Keywords: road, drivers, traffic, lane, roads, bypass, intersection, turn, congestion, cemetery\n",
       "Example Comments: Widen Cemetry Road, Russellville Road, Lover’s Lane, Campbell Lane, The Old ByPass, and Scotsville Road from old ByPass to Natcher Parkway.; Smallhouse Rd (at Campbell Ln) heading into town needs to be widened to have room for three lanes (left turn, straight, right turn).; Access Rd, east side of Scottsville Rd. in shopping dist causes congestion. Give right of way to access road or cross streets, not a mix!\n",
       "Topic Title:<span style='background-color: rgba(0, 165, 0, 0.15); border-radius: 3px;' title='0.0'> W</span><span style='background-color: rgba(0, 165, 0, 0.15); border-radius: 3px;' title='0.0'>iden</span><span style='background-color: rgba(0, 165, 0, 0.15); border-radius: 3px;' title='0.0'> roads</span><span style='background-color: rgba(0, 165, 0, 0.15); border-radius: 3px;' title='0.0'> and</span><span style='background-color: rgba(0, 165, 0, 0.15); border-radius: 3px;' title='0.0'> manage</span><span style='background-color: rgba(0, 165, 0, 0.15); border-radius: 3px;' title='0.0'> traffic</span>\n",
       "\n",
       "Topic 1:\n",
       "Keywords: fairness, ordinance, noise, improvement, city, separation, lawns, code, food, ideas\n",
       "Example Comments: City officials need to work with WKU admin. to address the noise &amp; public nuisance problems with the frat houses and homeowners downtown.; NO to the &quot;Fairness&quot; Ordinance. Current law is sufficient.  ZERO reported instances where LGBTQ people have been discriminated against in BG; The city should craft a very simple fairness ordinance, saying no discrimination acquiring housing, but not giving LGBTQ EEOC Bypass @work\n",
       "Topic Title:<span style='background-color: rgba(0, 165, 0, 0.15); border-radius: 3px;' title='0.0'> En</span><span style='background-color: rgba(0, 165, 0, 0.15); border-radius: 3px;' title='0.0'>act</span><span style='background-color: rgba(0, 165, 0, 0.15); border-radius: 3px;' title='0.0'> fair</span><span style='background-color: rgba(0, 165, 0, 0.15); border-radius: 3px;' title='0.0'>ness</span><span style='background-color: rgba(0, 165, 0, 0.15); border-radius: 3px;' title='0.0'> and</span><span style='background-color: rgba(0, 165, 0, 0.15); border-radius: 3px;' title='0.0'> noise</span><span style='background-color: rgba(0, 165, 0, 0.15); border-radius: 3px;' title='0.0'> ordin</span><span style='background-color: rgba(0, 165, 0, 0.15); border-radius: 3px;' title='0.0'>ances</span>\n",
       "\n",
       "Topic 2:\n",
       "Keywords: drug, marijuana, opioid, doctors, drugs, pain, deaths, dealers, sex, possession\n",
       "Example Comments: The fact that there is not as much coverage about African American deaths from cocaine as there is about deaths in the white community from opioids, even though there are as many of them, is evidence of institutionalized racism.; In order to combat teen pregnancy and STD rates, high schools in Bowling Green should offer comprehensive, medically accurate sex education.; In order to better combat the opioid epidemic, it is time to view drug addiction as a health problem rather than a criminal justice problem.\n",
       "Topic Title:<span style='background-color: rgba(0, 165, 0, 0.15); border-radius: 3px;' title='0.0'> Dec</span><span style='background-color: rgba(0, 165, 0, 0.15); border-radius: 3px;' title='0.0'>rim</span><span style='background-color: rgba(0, 165, 0, 0.15); border-radius: 3px;' title='0.0'>inal</span><span style='background-color: rgba(0, 165, 0, 0.15); border-radius: 3px;' title='0.0'>ize</span><span style='background-color: rgba(0, 165, 0, 0.15); border-radius: 3px;' title='0.0'> drug</span><span style='background-color: rgba(0, 165, 0, 0.15); border-radius: 3px;' title='0.0'> use</span><span style='background-color: rgba(0, 165, 0, 0.15); border-radius: 3px;' title='0.0'> and</span><span style='background-color: rgba(0, 165, 0, 0.15); border-radius: 3px;' title='0.0'> provide</span><span style='background-color: rgba(0, 165, 0, 0.15); border-radius: 3px;' title='0.0'> education</span>\n",
       "\n",
       "Topic 3:\n",
       "Keywords: homeless, parks, park, house, hangout, tiny house, community, aid, benefit, size\n",
       "Example Comments: We need to replace &quot;Room at the Inn&quot; services with temporary decent housing connected to aid agencies for the homeless; I would like to see more aid for the homeless whether: tiny house park, health clinic, rehabilitation, job readiness sources.; Homeless people deserve full size places like studio apartments.  Not tiny homes like a smurf would desire in a tiny house park.\n",
       "Topic Title:<span style='background-color: rgba(0, 165, 0, 0.15); border-radius: 3px;' title='0.0'> Prov</span><span style='background-color: rgba(0, 165, 0, 0.15); border-radius: 3px;' title='0.0'>ide</span><span style='background-color: rgba(0, 165, 0, 0.15); border-radius: 3px;' title='0.0'> larger</span><span style='background-color: rgba(0, 165, 0, 0.15); border-radius: 3px;' title='0.0'>,</span><span style='background-color: rgba(0, 165, 0, 0.15); border-radius: 3px;' title='0.0'> better</span><span style='background-color: rgba(0, 165, 0, 0.15); border-radius: 3px;' title='0.0'> housing</span><span style='background-color: rgba(0, 165, 0, 0.15); border-radius: 3px;' title='0.0'> for</span><span style='background-color: rgba(0, 165, 0, 0.15); border-radius: 3px;' title='0.0'> homeless</span>\n",
       "\n",
       "Topic 4:\n",
       "Keywords: programs, activities, weekend, training, higher education, youth, museum, credit, teenagers, job\n",
       "Example Comments: A favorite place to visit (elsewhere) is a park filled with gently used toys (donated).  It inspires imagination, creativity and sharing.; We  a true junior college which offers credit / non credit courses like many other states from basket weaving to cyber security; Need comprehesive probation rehab programs - include addiction treatment, life &amp; job skills &amp; ideas securing housing, training/job etc\n",
       "Topic Title:<span style='background-color: rgba(0, 165, 0, 0.15); border-radius: 3px;' title='0.0'> Create</span><span style='background-color: rgba(0, 165, 0, 0.15); border-radius: 3px;' title='0.0'> re</span><span style='background-color: rgba(0, 165, 0, 0.15); border-radius: 3px;' title='0.0'>hab</span><span style='background-color: rgba(0, 165, 0, 0.15); border-radius: 3px;' title='0.0'> and</span><span style='background-color: rgba(0, 165, 0, 0.15); border-radius: 3px;' title='0.0'> educational</span><span style='background-color: rgba(0, 165, 0, 0.15); border-radius: 3px;' title='0.0'> programs</span>\n",
       "\n",
       "Topic 5:\n",
       "Keywords: school, schools, parents, public schools, public school, kids, choice, education, charter, districts\n",
       "Example Comments: Future charter schools would be a financial burden to public school funding, unless they are held to accountability by local school boards.; some children with cultural differences or dietary needs cannot eat a typical lunch at school please provide special diet options.; Both school districts shamefully manipulate low economic status parents to gain Title I funding. It should stop.\n",
       "Topic Title:<span style='background-color: rgba(0, 165, 0, 0.15); border-radius: 3px;' title='0.0'> Impro</span><span style='background-color: rgba(0, 165, 0, 0.15); border-radius: 3px;' title='0.0'>ve</span><span style='background-color: rgba(0, 165, 0, 0.15); border-radius: 3px;' title='0.0'> public</span><span style='background-color: rgba(0, 165, 0, 0.15); border-radius: 3px;' title='0.0'> schools</span><span style='background-color: rgba(0, 165, 0, 0.15); border-radius: 3px;' title='0.0'> and</span><span style='background-color: rgba(0, 165, 0, 0.15); border-radius: 3px;' title='0.0'> distribute</span><span style='background-color: rgba(0, 165, 0, 0.15); border-radius: 3px;' title='0.0'> federal</span><span style='background-color: rgba(0, 165, 0, 0.15); border-radius: 3px;' title='0.0'> funds</span><span style='background-color: rgba(0, 165, 0, 0.15); border-radius: 3px;' title='0.0'> fairly</span>\n",
       "\n",
       "Topic 6:\n",
       "Keywords: vote, officials, proposal, project, power, seller, influence, local officials, funds, unelected boards\n",
       "Example Comments: Officials that use social media accounts in a professional capacity should not be allowed to block constituents except under rare conditions like being threatened.; Big names and corporations get away with too much. We need fairer regulation and level playing fields for the small and big guys alike.; Local elected government officials should not be able to hold a seat and also be on the TIF board or other unelected boards.\n",
       "Topic Title:<span style='background-color: rgba(0, 165, 0, 0.15); border-radius: 3px;' title='0.0'> Dist</span><span style='background-color: rgba(0, 165, 0, 0.15); border-radius: 3px;' title='0.0'>ribute</span><span style='background-color: rgba(0, 165, 0, 0.15); border-radius: 3px;' title='0.0'> balance</span><span style='background-color: rgba(0, 165, 0, 0.15); border-radius: 3px;' title='0.0'> of</span><span style='background-color: rgba(0, 165, 0, 0.15); border-radius: 3px;' title='0.0'> power</span><span style='background-color: rgba(0, 165, 0, 0.15); border-radius: 3px;' title='0.0'> and</span><span style='background-color: rgba(0, 165, 0, 0.15); border-radius: 3px;' title='0.0'> reg</span><span style='background-color: rgba(0, 165, 0, 0.15); border-radius: 3px;' title='0.0'>ulate</span><span style='background-color: rgba(0, 165, 0, 0.15); border-radius: 3px;' title='0.0'> how</span><span style='background-color: rgba(0, 165, 0, 0.15); border-radius: 3px;' title='0.0'> power</span><span style='background-color: rgba(0, 165, 0, 0.15); border-radius: 3px;' title='0.0'> is</span><span style='background-color: rgba(0, 165, 0, 0.15); border-radius: 3px;' title='0.0'> used</span>\n",
       "\n",
       "Topic 7:\n",
       "Keywords: campus, program, university, students, local businesses, miles, restaurants, courses, mental health, center\n",
       "Example Comments: Residential Parking Permits for areas near WKU. We can rescue our yards from parking. We pay property taxes for the students&#x27; convenience,; Provide a food assistance program for college students as students lots of times do not qualify for food stamps due to living on campus; Make areas around WKU&#x27;s campus livable for college students. Eliminating section 8 housing will lead to less crime &amp; lower cost of attendance.\n",
       "Topic Title:<span style='background-color: rgba(0, 165, 0, 0.15); border-radius: 3px;' title='0.0'> Prov</span><span style='background-color: rgba(0, 165, 0, 0.15); border-radius: 3px;' title='0.0'>ide</span><span style='background-color: rgba(0, 165, 0, 0.15); border-radius: 3px;' title='0.0'> resources</span><span style='background-color: rgba(0, 165, 0, 0.15); border-radius: 3px;' title='0.0'> for</span><span style='background-color: rgba(0, 165, 0, 0.15); border-radius: 3px;' title='0.0'> students</span><span style='background-color: rgba(0, 165, 0, 0.15); border-radius: 3px;' title='0.0'> and</span><span style='background-color: rgba(0, 165, 0, 0.15); border-radius: 3px;' title='0.0'> local</span><span style='background-color: rgba(0, 165, 0, 0.15); border-radius: 3px;' title='0.0'> businesses</span>\n",
       "\n",
       "Topic 8:\n",
       "Keywords: river, immigrants, refugees, tourists, demographic, riverfront, communities, ways, art, immigrant\n",
       "Example Comments: Need engaging art installations throughout the city. People will be able to experience art, have fun, and share on social media.; The very low number of immigrants coming to our county last year was a good thing. Saves costs: Schools, courts, social services-Our taxes!; The Barren River water front needs to be improved on both sides of the river and include  canoeing and kayaking water features in the river.\n",
       "Topic Title:<span style='background-color: rgba(0, 165, 0, 0.15); border-radius: 3px;' title='0.0'> Eng</span><span style='background-color: rgba(0, 165, 0, 0.15); border-radius: 3px;' title='0.0'>age</span><span style='background-color: rgba(0, 165, 0, 0.15); border-radius: 3px;' title='0.0'> with</span><span style='background-color: rgba(0, 165, 0, 0.15); border-radius: 3px;' title='0.0'> immigr</span><span style='background-color: rgba(0, 165, 0, 0.15); border-radius: 3px;' title='0.0'>ant</span><span style='background-color: rgba(0, 165, 0, 0.15); border-radius: 3px;' title='0.0'> communities</span><span style='background-color: rgba(0, 165, 0, 0.15); border-radius: 3px;' title='0.0'> and</span><span style='background-color: rgba(0, 165, 0, 0.15); border-radius: 3px;' title='0.0'> improve</span><span style='background-color: rgba(0, 165, 0, 0.15); border-radius: 3px;' title='0.0'> river</span><span style='background-color: rgba(0, 165, 0, 0.15); border-radius: 3px;' title='0.0'>front</span>\n",
       "\n",
       "Topic 9:\n",
       "Keywords: parking, space, garage, yard, square, shade, mall, trees, downtown, pedestrian\n",
       "Example Comments: Better parking around the square would draw in more college students who like to shop but can not find parking downtown.; Owners of large parking lots should be required to break them up with pockets of green space and trees; perhaps create a walkable green path; Build parking garage behind Spencer’s, remove some parking from Ft. Square. Add a green space on top of garage! Soccer field or rooftop food\n",
       "Topic Title:<span style='background-color: rgba(0, 165, 0, 0.15); border-radius: 3px;' title='0.0'> Design</span><span style='background-color: rgba(0, 165, 0, 0.15); border-radius: 3px;' title='0.0'> green</span><span style='background-color: rgba(0, 165, 0, 0.15); border-radius: 3px;' title='0.0'> urban</span><span style='background-color: rgba(0, 165, 0, 0.15); border-radius: 3px;' title='0.0'> spaces</span>\n",
       "\n",
       "Topic 10:\n",
       "Keywords: police, cops, parking, enforcement, traffic, accidents, cameras, officers, tickets, presence\n",
       "Example Comments: Houston &quot;courtesy police&quot; maintain safety on access rds enforcing right of way &amp; parking/litter rules, assist traffic flow - we need!; BG needs to install traffic cameras that help police intersections like Gallatin, TN.  This would reduce accidents, traffic flow and add $; BGDN should publish these BGPD stats weekly – 1) traffic citations 2) vehicle accidents reported; 3) traffic accidents resulting in injury.\n",
       "Topic Title:<span style='background-color: rgba(0, 165, 0, 0.15); border-radius: 3px;' title='0.0'> Impro</span><span style='background-color: rgba(0, 165, 0, 0.15); border-radius: 3px;' title='0.0'>ve</span><span style='background-color: rgba(0, 165, 0, 0.15); border-radius: 3px;' title='0.0'> parking</span><span style='background-color: rgba(0, 165, 0, 0.15); border-radius: 3px;' title='0.0'> enforcement</span><span style='background-color: rgba(0, 165, 0, 0.15); border-radius: 3px;' title='0.0'> and</span><span style='background-color: rgba(0, 165, 0, 0.15); border-radius: 3px;' title='0.0'> increase</span><span style='background-color: rgba(0, 165, 0, 0.15); border-radius: 3px;' title='0.0'> police</span><span style='background-color: rgba(0, 165, 0, 0.15); border-radius: 3px;' title='0.0'> presence</span>\n",
       "\n",
       "Topic 11:\n",
       "Keywords: internet, cable, fiber, competition, rates, tv, choices, option, media, companies\n",
       "Example Comments: BGMU needs to offer residential fiber internet as a UTILITY, using Chattanooga as a perfect example.; Cable companies need competition and not be allowed to raise rates of  customers. Once you sign on, that is your rate unless you upgrade.; Encourage growth of OTA tv stations. Lots of cord cutters and shavers enjoy the HD content they can get with an antenna.\n",
       "Topic Title:<span style='background-color: rgba(0, 165, 0, 0.15); border-radius: 3px;' title='0.0'> Incre</span><span style='background-color: rgba(0, 165, 0, 0.15); border-radius: 3px;' title='0.0'>ase</span><span style='background-color: rgba(0, 165, 0, 0.15); border-radius: 3px;' title='0.0'> connect</span><span style='background-color: rgba(0, 165, 0, 0.15); border-radius: 3px;' title='0.0'>ivity</span><span style='background-color: rgba(0, 165, 0, 0.15); border-radius: 3px;' title='0.0'>&#x27;</span><span style='background-color: rgba(0, 165, 0, 0.15); border-radius: 3px;' title='0.0'>s</span><span style='background-color: rgba(0, 165, 0, 0.15); border-radius: 3px;' title='0.0'> speed</span><span style='background-color: rgba(0, 165, 0, 0.15); border-radius: 3px;' title='0.0'> and</span><span style='background-color: rgba(0, 165, 0, 0.15); border-radius: 3px;' title='0.0'> afford</span><span style='background-color: rgba(0, 165, 0, 0.15); border-radius: 3px;' title='0.0'>ability</span>\n",
       "\n",
       "Topic 12:\n",
       "Keywords: temp, wage, benefits, openings, minimum, retirement, employee, employer, wages, companies\n",
       "Example Comments: Temp service need to pay higher hourly rate to temp than hiring firm pays their FTE to account for reduced economic security; City should bar garbage token health plans designed to prevent temp services paying $166/month Obamacare emp. fee. Let ppl get subsidy.; City needs to bar big COs employing from half a dozen temp services to keep 100s ineligble for FMLA due to less than 50 ppl/per &#x27;employer&#x27;\n",
       "Topic Title:<span style='background-color: rgba(0, 165, 0, 0.15); border-radius: 3px;' title='0.0'> Impro</span><span style='background-color: rgba(0, 165, 0, 0.15); border-radius: 3px;' title='0.0'>ve</span><span style='background-color: rgba(0, 165, 0, 0.15); border-radius: 3px;' title='0.0'> wage</span><span style='background-color: rgba(0, 165, 0, 0.15); border-radius: 3px;' title='0.0'> and</span><span style='background-color: rgba(0, 165, 0, 0.15); border-radius: 3px;' title='0.0'> benefits</span><span style='background-color: rgba(0, 165, 0, 0.15); border-radius: 3px;' title='0.0'> for</span><span style='background-color: rgba(0, 165, 0, 0.15); border-radius: 3px;' title='0.0'> temp</span><span style='background-color: rgba(0, 165, 0, 0.15); border-radius: 3px;' title='0.0'> workers</span>\n",
       "\n",
       "Topic 13:\n",
       "Keywords: rental, rent, renters, rental property, properties, prices, property, landlords, units, laws\n",
       "Example Comments: Rental property taxes should be reduced for private landlords to encourage them to develop more, as opposed to large ones like Chandler.; Stronger tenant and renters rights. Landlord accountability for keeping properties in good shape. So many overpriced dilapidated rentals.; Overdevelopment of rental property is detrimental to cities.  Renters do not pay property tax.  Schools suffer when the tax base is eroded.\n",
       "Topic Title:<span style='background-color: rgba(0, 165, 0, 0.15); border-radius: 3px;' title='0.0'> Man</span><span style='background-color: rgba(0, 165, 0, 0.15); border-radius: 3px;' title='0.0'>age</span><span style='background-color: rgba(0, 165, 0, 0.15); border-radius: 3px;' title='0.0'> growth</span><span style='background-color: rgba(0, 165, 0, 0.15); border-radius: 3px;' title='0.0'> of</span><span style='background-color: rgba(0, 165, 0, 0.15); border-radius: 3px;' title='0.0'> residential</span><span style='background-color: rgba(0, 165, 0, 0.15); border-radius: 3px;' title='0.0'> property</span><span style='background-color: rgba(0, 165, 0, 0.15); border-radius: 3px;' title='0.0'> market</span>\n",
       "\n",
       "Topic 14:\n",
       "Keywords: sidewalks, bike, trails, walking, trail, walkers, great addition, biking, ramps, small ramps\n",
       "Example Comments: Install new sidewalks along major roads, like Three Springs, and city-wide bike routes, to decrease likelihood of accidents; Make it a walking city. Sidewalks along the main avenues (scottsville rd, campbell ln, 31 bypass) with plants, benches, art pieces.; Have a Dual Slalom Course, Pump Track &amp; Bike Skills Course co-located by the Low Hollow Mountain Bike Trail at Weldon Peete Park.\n",
       "Topic Title:<span style='background-color: rgba(0, 165, 0, 0.15); border-radius: 3px;' title='0.0'> Connect</span><span style='background-color: rgba(0, 165, 0, 0.15); border-radius: 3px;' title='0.0'> urban</span><span style='background-color: rgba(0, 165, 0, 0.15); border-radius: 3px;' title='0.0'> spaces</span><span style='background-color: rgba(0, 165, 0, 0.15); border-radius: 3px;' title='0.0'> through</span><span style='background-color: rgba(0, 165, 0, 0.15); border-radius: 3px;' title='0.0'> bike</span><span style='background-color: rgba(0, 165, 0, 0.15); border-radius: 3px;' title='0.0'> and</span><span style='background-color: rgba(0, 165, 0, 0.15); border-radius: 3px;' title='0.0'> pedest</span><span style='background-color: rgba(0, 165, 0, 0.15); border-radius: 3px;' title='0.0'>rian</span><span style='background-color: rgba(0, 165, 0, 0.15); border-radius: 3px;' title='0.0'>-</span><span style='background-color: rgba(0, 165, 0, 0.15); border-radius: 3px;' title='0.0'>friendly</span><span style='background-color: rgba(0, 165, 0, 0.15); border-radius: 3px;' title='0.0'> infrastructure</span>\n",
       "\n",
       "Topic 15:\n",
       "Keywords: water, fire, lines, population, growth, bills, new schools, septic tanks, new roads, new subdivisions\n",
       "Example Comments: Need new schools in Warren County to keep up with population growth, CTE is falling down, Drakes and Greenwood high are way overcrowded; County needs to extend water lines in Tuckertown area. About a dozen homes don&#x27;t have county water or fire hydrants!; Tuckertown area needs fire protection. Currently rated Class 10 expensive insurance. Water lines are close by on Otter Gap &amp; Tuckertown Rds.\n",
       "Topic Title:<span style='background-color: rgba(0, 165, 0, 0.15); border-radius: 3px;' title='0.0'> Prov</span><span style='background-color: rgba(0, 165, 0, 0.15); border-radius: 3px;' title='0.0'>ide</span><span style='background-color: rgba(0, 165, 0, 0.15); border-radius: 3px;' title='0.0'> fire</span><span style='background-color: rgba(0, 165, 0, 0.15); border-radius: 3px;' title='0.0'> protection</span><span style='background-color: rgba(0, 165, 0, 0.15); border-radius: 3px;' title='0.0'> and</span><span style='background-color: rgba(0, 165, 0, 0.15); border-radius: 3px;' title='0.0'> manage</span><span style='background-color: rgba(0, 165, 0, 0.15); border-radius: 3px;' title='0.0'> development</span><span style='background-color: rgba(0, 165, 0, 0.15); border-radius: 3px;' title='0.0'> to</span><span style='background-color: rgba(0, 165, 0, 0.15); border-radius: 3px;' title='0.0'> ensure</span><span style='background-color: rgba(0, 165, 0, 0.15); border-radius: 3px;' title='0.0'> public</span><span style='background-color: rgba(0, 165, 0, 0.15); border-radius: 3px;' title='0.0'> safety</span>\n",
       "\n",
       "Topic 16:\n",
       "Keywords: animals, smoking, pets, leashes, leash, dog, owners, ordinance, pet owners, stray\n",
       "Example Comments: Better ordinances on keeping animals on leashes or in fenced areas are needed.; There should never be a leash law in the county - neighborhood dogs protect, play with and teach kids. It was a factor in living in county.; Relax restrictions on fencing in Home Owners Associations to promote people keeping animals on leashes or in fenced yards.\n",
       "Topic Title:<span style='background-color: rgba(0, 165, 0, 0.15); border-radius: 3px;' title='0.0'> Bal</span><span style='background-color: rgba(0, 165, 0, 0.15); border-radius: 3px;' title='0.0'>ance</span><span style='background-color: rgba(0, 165, 0, 0.15); border-radius: 3px;' title='0.0'> pet</span><span style='background-color: rgba(0, 165, 0, 0.15); border-radius: 3px;' title='0.0'> and</span><span style='background-color: rgba(0, 165, 0, 0.15); border-radius: 3px;' title='0.0'> owner</span><span style='background-color: rgba(0, 165, 0, 0.15); border-radius: 3px;' title='0.0'> rights</span><span style='background-color: rgba(0, 165, 0, 0.15); border-radius: 3px;' title='0.0'> through</span><span style='background-color: rgba(0, 165, 0, 0.15); border-radius: 3px;' title='0.0'> sensible</span><span style='background-color: rgba(0, 165, 0, 0.15); border-radius: 3px;' title='0.0'> animal</span><span style='background-color: rgba(0, 165, 0, 0.15); border-radius: 3px;' title='0.0'> laws</span>\n",
       "\n",
       "Topic 17:\n",
       "Keywords: swimming, complex, swim, pools, lessons, facilities, sports, safety, year, therapy\n",
       "Example Comments: Bowling Green needs more indoor sports facilities, particularly a large complex with multiple indoor soccer fields, for youth.; BG&#x27;s Kummer Little gym is open limited hours for indoor track. On other hand, County has new gyms that are open lots of hrs. Inequitable.; Indoor swimming pools for public use and therapy year around without time restrictions due to special swim leagues. Encourage healthier life\n",
       "Topic Title:<span style='background-color: rgba(0, 165, 0, 0.15); border-radius: 3px;' title='0.0'> Prov</span><span style='background-color: rgba(0, 165, 0, 0.15); border-radius: 3px;' title='0.0'>ide</span><span style='background-color: rgba(0, 165, 0, 0.15); border-radius: 3px;' title='0.0'> affordable</span><span style='background-color: rgba(0, 165, 0, 0.15); border-radius: 3px;' title='0.0'> indoor</span><span style='background-color: rgba(0, 165, 0, 0.15); border-radius: 3px;' title='0.0'> sports</span><span style='background-color: rgba(0, 165, 0, 0.15); border-radius: 3px;' title='0.0'> and</span><span style='background-color: rgba(0, 165, 0, 0.15); border-radius: 3px;' title='0.0'> pool</span><span style='background-color: rgba(0, 165, 0, 0.15); border-radius: 3px;' title='0.0'> facilities</span>\n",
       "\n",
       "Topic 18:\n",
       "Keywords: historic preservation, preservation, planning, building, buildings, historic building, urban planning, heritage, retail businesses, banks\n",
       "Example Comments: We need urban planning to ensure that mixed use housing, shopping and new neighborhoods are created to make our community better; Historic preservation of homes and buildings needs countywide attention to maintain our unique architectural heritage.; We must ensure historic preservation codes are properly enforced in our historic districts; lack of consistency erodes our unique aesthetic.\n",
       "Topic Title:<span style='background-color: rgba(0, 165, 0, 0.15); border-radius: 3px;' title='0.0'> Bal</span><span style='background-color: rgba(0, 165, 0, 0.15); border-radius: 3px;' title='0.0'>ancing</span><span style='background-color: rgba(0, 165, 0, 0.15); border-radius: 3px;' title='0.0'> historical</span><span style='background-color: rgba(0, 165, 0, 0.15); border-radius: 3px;' title='0.0'> preserv</span><span style='background-color: rgba(0, 165, 0, 0.15); border-radius: 3px;' title='0.0'>ation</span><span style='background-color: rgba(0, 165, 0, 0.15); border-radius: 3px;' title='0.0'> and</span><span style='background-color: rgba(0, 165, 0, 0.15); border-radius: 3px;' title='0.0'> urban</span><span style='background-color: rgba(0, 165, 0, 0.15); border-radius: 3px;' title='0.0'> development</span>\n",
       "\n",
       "Topic 19:\n",
       "Keywords: recycling, litter, trash, bins, services, yards, junk, stronger enforcement, outdated equipment, dump\n",
       "Example Comments: BG has a bad problem with littering.  My husband and I fill up to 5 recycle bins every week between downtown and campus, cleaning it all up.; Make Scott Waste follow their contract - Return trash cans next to the house and not leave them on the sidewalks.  Keep BG clean!; Recycling services need to be improved and modernized. Current contractor uses outdated equipment, services are messy, company unresponsive.\n",
       "Topic Title:<span style='background-color: rgba(0, 165, 0, 0.15); border-radius: 3px;' title='0.0'> Impro</span><span style='background-color: rgba(0, 165, 0, 0.15); border-radius: 3px;' title='0.0'>ve</span><span style='background-color: rgba(0, 165, 0, 0.15); border-radius: 3px;' title='0.0'> trash</span><span style='background-color: rgba(0, 165, 0, 0.15); border-radius: 3px;' title='0.0'> and</span><span style='background-color: rgba(0, 165, 0, 0.15); border-radius: 3px;' title='0.0'> garbage</span><span style='background-color: rgba(0, 165, 0, 0.15); border-radius: 3px;' title='0.0'> management</span>\n",
       "\n",
       "Topic 20:\n",
       "Keywords: store, food, farmers, grocery, marketing, fresh food, local chefs, brewers, distance, eggs\n",
       "Example Comments: BG needs to develop a marketing campaign to draw Warren Co and surrounding counties to downtown for eating, shopping, and entertainment.; A fresh food grocery store to be built in Delafield and Morgantown rd areas within walking distance of residents.; We need more businesses like White Squirrel and Nats in BG. They add character to our town. Done with the Olive Garden and Belks.\n",
       "Topic Title:<span style='background-color: rgba(0, 165, 0, 0.15); border-radius: 3px;' title='0.0'> Local</span><span style='background-color: rgba(0, 165, 0, 0.15); border-radius: 3px;' title='0.0'>ize</span><span style='background-color: rgba(0, 165, 0, 0.15); border-radius: 3px;' title='0.0'> and</span><span style='background-color: rgba(0, 165, 0, 0.15); border-radius: 3px;' title='0.0'> divers</span><span style='background-color: rgba(0, 165, 0, 0.15); border-radius: 3px;' title='0.0'>ify</span><span style='background-color: rgba(0, 165, 0, 0.15); border-radius: 3px;' title='0.0'> food</span><span style='background-color: rgba(0, 165, 0, 0.15); border-radius: 3px;' title='0.0'> and</span><span style='background-color: rgba(0, 165, 0, 0.15); border-radius: 3px;' title='0.0'> retail</span><span style='background-color: rgba(0, 165, 0, 0.15); border-radius: 3px;' title='0.0'> options</span>\n",
       "\n",
       "Topic 21:\n",
       "Keywords: tax, homelessness, cents, occ, fund, homeless people, cuts, budget, taxes, overheads\n",
       "Example Comments: Lower taxes by auditing every department for total accountability &amp; make cuts where possible. Stop city government waste.; City had 109 homeless students in 2017, County Had 112.  Housing those families temporarily is worth raising tax rate from 1.85% to 1.91%.; If city eliminates homelessness via occupational taxes, employers of homeless people need to reimburse city via special occ. tax penalty\n",
       "Topic Title:<span style='background-color: rgba(0, 165, 0, 0.15); border-radius: 3px;' title='0.0'> Man</span><span style='background-color: rgba(0, 165, 0, 0.15); border-radius: 3px;' title='0.0'>age</span><span style='background-color: rgba(0, 165, 0, 0.15); border-radius: 3px;' title='0.0'> cost</span><span style='background-color: rgba(0, 165, 0, 0.15); border-radius: 3px;' title='0.0'> of</span><span style='background-color: rgba(0, 165, 0, 0.15); border-radius: 3px;' title='0.0'> addressing</span><span style='background-color: rgba(0, 165, 0, 0.15); border-radius: 3px;' title='0.0'> homeless</span><span style='background-color: rgba(0, 165, 0, 0.15); border-radius: 3px;' title='0.0'>ness</span>\n",
       "\n",
       "Topic 22:\n",
       "Keywords: zoning, planning, land, apartments, single family, family, affected area, country, changes, residences\n",
       "Example Comments: Too many apartments in Plano. Nice little country setting I bought my home in forever ruined!; We are loosing the city’s long established neighborhoods to multi family developments that do not fit in with the single family residences; Planning &amp; Zoning Board needs an overhaul. Fewer builders appointed, fairness to opposition, stop rubber stamping by P&amp;Z and City Comm.\n",
       "Topic Title:<span style='background-color: rgba(0, 165, 0, 0.15); border-radius: 3px;' title='0.0'> Bal</span><span style='background-color: rgba(0, 165, 0, 0.15); border-radius: 3px;' title='0.0'>ance</span><span style='background-color: rgba(0, 165, 0, 0.15); border-radius: 3px;' title='0.0'> development</span><span style='background-color: rgba(0, 165, 0, 0.15); border-radius: 3px;' title='0.0'> and</span><span style='background-color: rgba(0, 165, 0, 0.15); border-radius: 3px;' title='0.0'> z</span><span style='background-color: rgba(0, 165, 0, 0.15); border-radius: 3px;' title='0.0'>oning</span><span style='background-color: rgba(0, 165, 0, 0.15); border-radius: 3px;' title='0.0'> to</span><span style='background-color: rgba(0, 165, 0, 0.15); border-radius: 3px;' title='0.0'> ensure</span><span style='background-color: rgba(0, 165, 0, 0.15); border-radius: 3px;' title='0.0'> better</span><span style='background-color: rgba(0, 165, 0, 0.15); border-radius: 3px;' title='0.0'> neighborhood</span><span style='background-color: rgba(0, 165, 0, 0.15); border-radius: 3px;' title='0.0'>s</span>\n",
       "</pre>"
      ],
      "text/plain": [
       "<IPython.core.display.HTML object>"
      ]
     },
     "metadata": {},
     "output_type": "display_data"
    }
   ],
   "source": [
    "# grab topic keywords\n",
    "df_topic_keywords_docs = df_topics.select('Topic', 'Representation', 'Representative_Docs')\n",
    "\n",
    "# instruct LLM to generate topic titles\n",
    "lm = mixtral + generate_topic_titles(summary['topic'], summary['conversation-description'], df_topic_keywords_docs)"
   ]
  },
  {
   "cell_type": "markdown",
   "metadata": {},
   "source": [
    "### mistralai/Mistral-7B-Instruct-v0.2"
   ]
  },
  {
   "cell_type": "code",
   "execution_count": 12,
   "metadata": {
    "vscode": {
     "languageId": "python"
    }
   },
   "outputs": [
    {
     "data": {
      "text/html": [
       "<pre style='margin: 0px; padding: 0px; padding-left: 8px; margin-left: -8px; border-radius: 0px; border-left: 1px solid rgba(127, 127, 127, 0.2); white-space: pre-wrap; font-family: ColfaxAI, Arial; font-size: 15px; line-height: 23px;'>The following is a dataset of comments from an online discussion about Improving Bowling Green / Warren County. Assign a terse title to each topic based on the given keywords. Avoid repetitive phrases.\n",
       "\n",
       "Question: What do you believe should change in Bowling Green/Warren County in order to make it a better place to live, work and spend time?\n",
       "\n",
       "Topic 0:\n",
       "Keywords: road, drivers, traffic, lane, roads, bypass, intersection, turn, congestion, cemetery\n",
       "Example Comments: Widen Cemetry Road, Russellville Road, Lover’s Lane, Campbell Lane, The Old ByPass, and Scotsville Road from old ByPass to Natcher Parkway.; Smallhouse Rd (at Campbell Ln) heading into town needs to be widened to have room for three lanes (left turn, straight, right turn).; Access Rd, east side of Scottsville Rd. in shopping dist causes congestion. Give right of way to access road or cross streets, not a mix!\n",
       "Topic Title:<span style='background-color: rgba(0, 165, 0, 0.15); border-radius: 3px;' title='0.0'> Impro</span><span style='background-color: rgba(0, 165, 0, 0.15); border-radius: 3px;' title='0.0'>ving</span><span style='background-color: rgba(0, 165, 0, 0.15); border-radius: 3px;' title='0.0'> Road</span><span style='background-color: rgba(0, 165, 0, 0.15); border-radius: 3px;' title='0.0'> In</span><span style='background-color: rgba(0, 165, 0, 0.15); border-radius: 3px;' title='0.0'>frastructure</span><span style='background-color: rgba(0, 165, 0, 0.15); border-radius: 3px;' title='0.0'> and</span><span style='background-color: rgba(0, 165, 0, 0.15); border-radius: 3px;' title='0.0'> Tr</span><span style='background-color: rgba(0, 165, 0, 0.15); border-radius: 3px;' title='0.0'>affic</span><span style='background-color: rgba(0, 165, 0, 0.15); border-radius: 3px;' title='0.0'> Flow</span>\n",
       "\n",
       "Topic 1:\n",
       "Keywords: fairness, ordinance, noise, improvement, city, separation, lawns, code, food, ideas\n",
       "Example Comments: City officials need to work with WKU admin. to address the noise &amp; public nuisance problems with the frat houses and homeowners downtown.; NO to the &quot;Fairness&quot; Ordinance. Current law is sufficient.  ZERO reported instances where LGBTQ people have been discriminated against in BG; The city should craft a very simple fairness ordinance, saying no discrimination acquiring housing, but not giving LGBTQ EEOC Bypass @work\n",
       "Topic Title:<span style='background-color: rgba(0, 165, 0, 0.15); border-radius: 3px;' title='0.0'> Equ</span><span style='background-color: rgba(0, 165, 0, 0.15); border-radius: 3px;' title='0.0'>al</span><span style='background-color: rgba(0, 165, 0, 0.15); border-radius: 3px;' title='0.0'> Rights</span><span style='background-color: rgba(0, 165, 0, 0.15); border-radius: 3px;' title='0.0'> and</span><span style='background-color: rgba(0, 165, 0, 0.15); border-radius: 3px;' title='0.0'> Fair</span><span style='background-color: rgba(0, 165, 0, 0.15); border-radius: 3px;' title='0.0'>ness</span><span style='background-color: rgba(0, 165, 0, 0.15); border-radius: 3px;' title='0.0'> in</span><span style='background-color: rgba(0, 165, 0, 0.15); border-radius: 3px;' title='0.0'> the</span><span style='background-color: rgba(0, 165, 0, 0.15); border-radius: 3px;' title='0.0'> Community</span>\n",
       "\n",
       "Topic 2:\n",
       "Keywords: drug, marijuana, opioid, doctors, drugs, pain, deaths, dealers, sex, possession\n",
       "Example Comments: The fact that there is not as much coverage about African American deaths from cocaine as there is about deaths in the white community from opioids, even though there are as many of them, is evidence of institutionalized racism.; In order to combat teen pregnancy and STD rates, high schools in Bowling Green should offer comprehensive, medically accurate sex education.; In order to better combat the opioid epidemic, it is time to view drug addiction as a health problem rather than a criminal justice problem.\n",
       "Topic Title:<span style='background-color: rgba(0, 165, 0, 0.15); border-radius: 3px;' title='0.0'> Health</span><span style='background-color: rgba(0, 165, 0, 0.15); border-radius: 3px;' title='0.0'> and</span><span style='background-color: rgba(0, 165, 0, 0.15); border-radius: 3px;' title='0.0'> Sub</span><span style='background-color: rgba(0, 165, 0, 0.15); border-radius: 3px;' title='0.0'>stance</span><span style='background-color: rgba(0, 165, 0, 0.15); border-radius: 3px;' title='0.0'> Ab</span><span style='background-color: rgba(0, 165, 0, 0.15); border-radius: 3px;' title='0.0'>use</span>\n",
       "\n",
       "Topic 3:\n",
       "Keywords: homeless, parks, park, house, hangout, tiny house, community, aid, benefit, size\n",
       "Example Comments: We need to replace &quot;Room at the Inn&quot; services with temporary decent housing connected to aid agencies for the homeless; I would like to see more aid for the homeless whether: tiny house park, health clinic, rehabilitation, job readiness sources.; Homeless people deserve full size places like studio apartments.  Not tiny homes like a smurf would desire in a tiny house park.\n",
       "Topic Title:<span style='background-color: rgba(0, 165, 0, 0.15); border-radius: 3px;' title='0.0'> Hom</span><span style='background-color: rgba(0, 165, 0, 0.15); border-radius: 3px;' title='0.0'>eless</span><span style='background-color: rgba(0, 165, 0, 0.15); border-radius: 3px;' title='0.0'>ness</span><span style='background-color: rgba(0, 165, 0, 0.15); border-radius: 3px;' title='0.0'> and</span><span style='background-color: rgba(0, 165, 0, 0.15); border-radius: 3px;' title='0.0'> H</span><span style='background-color: rgba(0, 165, 0, 0.15); border-radius: 3px;' title='0.0'>ousing</span>\n",
       "\n",
       "Topic 4:\n",
       "Keywords: programs, activities, weekend, training, higher education, youth, museum, credit, teenagers, job\n",
       "Example Comments: A favorite place to visit (elsewhere) is a park filled with gently used toys (donated).  It inspires imagination, creativity and sharing.; We  a true junior college which offers credit / non credit courses like many other states from basket weaving to cyber security; Need comprehesive probation rehab programs - include addiction treatment, life &amp; job skills &amp; ideas securing housing, training/job etc\n",
       "Topic Title:<span style='background-color: rgba(0, 165, 0, 0.15); border-radius: 3px;' title='0.0'> Education</span><span style='background-color: rgba(0, 165, 0, 0.15); border-radius: 3px;' title='0.0'>,</span><span style='background-color: rgba(0, 165, 0, 0.15); border-radius: 3px;' title='0.0'> Youth</span><span style='background-color: rgba(0, 165, 0, 0.15); border-radius: 3px;' title='0.0'> Development</span><span style='background-color: rgba(0, 165, 0, 0.15); border-radius: 3px;' title='0.0'> and</span><span style='background-color: rgba(0, 165, 0, 0.15); border-radius: 3px;' title='0.0'> Community</span><span style='background-color: rgba(0, 165, 0, 0.15); border-radius: 3px;' title='0.0'> Program</span><span style='background-color: rgba(0, 165, 0, 0.15); border-radius: 3px;' title='0.0'>s</span>\n",
       "\n",
       "Topic 5:\n",
       "Keywords: school, schools, parents, public schools, public school, kids, choice, education, charter, districts\n",
       "Example Comments: Future charter schools would be a financial burden to public school funding, unless they are held to accountability by local school boards.; some children with cultural differences or dietary needs cannot eat a typical lunch at school please provide special diet options.; Both school districts shamefully manipulate low economic status parents to gain Title I funding. It should stop.\n",
       "Topic Title:<span style='background-color: rgba(0, 165, 0, 0.15); border-radius: 3px;' title='0.0'> Public</span><span style='background-color: rgba(0, 165, 0, 0.15); border-radius: 3px;' title='0.0'> Education</span><span style='background-color: rgba(0, 165, 0, 0.15); border-radius: 3px;' title='0.0'> Fund</span><span style='background-color: rgba(0, 165, 0, 0.15); border-radius: 3px;' title='0.0'>ing</span><span style='background-color: rgba(0, 165, 0, 0.15); border-radius: 3px;' title='0.0'> and</span><span style='background-color: rgba(0, 165, 0, 0.15); border-radius: 3px;' title='0.0'> Equ</span><span style='background-color: rgba(0, 165, 0, 0.15); border-radius: 3px;' title='0.0'>ity</span>\n",
       "\n",
       "Topic 6:\n",
       "Keywords: vote, officials, proposal, project, power, seller, influence, local officials, funds, unelected boards\n",
       "Example Comments: Officials that use social media accounts in a professional capacity should not be allowed to block constituents except under rare conditions like being threatened.; Big names and corporations get away with too much. We need fairer regulation and level playing fields for the small and big guys alike.; Local elected government officials should not be able to hold a seat and also be on the TIF board or other unelected boards.\n",
       "Topic Title:<span style='background-color: rgba(0, 165, 0, 0.15); border-radius: 3px;' title='0.0'> Eth</span><span style='background-color: rgba(0, 165, 0, 0.15); border-radius: 3px;' title='0.0'>ics</span><span style='background-color: rgba(0, 165, 0, 0.15); border-radius: 3px;' title='0.0'>,</span><span style='background-color: rgba(0, 165, 0, 0.15); border-radius: 3px;' title='0.0'> Trans</span><span style='background-color: rgba(0, 165, 0, 0.15); border-radius: 3px;' title='0.0'>parency</span><span style='background-color: rgba(0, 165, 0, 0.15); border-radius: 3px;' title='0.0'> and</span><span style='background-color: rgba(0, 165, 0, 0.15); border-radius: 3px;' title='0.0'> Public</span><span style='background-color: rgba(0, 165, 0, 0.15); border-radius: 3px;' title='0.0'> Official</span><span style='background-color: rgba(0, 165, 0, 0.15); border-radius: 3px;' title='0.0'>s</span>\n",
       "\n",
       "Topic 7:\n",
       "Keywords: campus, program, university, students, local businesses, miles, restaurants, courses, mental health, center\n",
       "Example Comments: Residential Parking Permits for areas near WKU. We can rescue our yards from parking. We pay property taxes for the students&#x27; convenience,; Provide a food assistance program for college students as students lots of times do not qualify for food stamps due to living on campus; Make areas around WKU&#x27;s campus livable for college students. Eliminating section 8 housing will lead to less crime &amp; lower cost of attendance.\n",
       "Topic Title:<span style='background-color: rgba(0, 165, 0, 0.15); border-radius: 3px;' title='0.0'> College</span><span style='background-color: rgba(0, 165, 0, 0.15); border-radius: 3px;' title='0.0'> Camp</span><span style='background-color: rgba(0, 165, 0, 0.15); border-radius: 3px;' title='0.0'>us</span><span style='background-color: rgba(0, 165, 0, 0.15); border-radius: 3px;' title='0.0'> and</span><span style='background-color: rgba(0, 165, 0, 0.15); border-radius: 3px;' title='0.0'> Student</span><span style='background-color: rgba(0, 165, 0, 0.15); border-radius: 3px;' title='0.0'> Life</span>\n",
       "\n",
       "Topic 8:\n",
       "Keywords: river, immigrants, refugees, tourists, demographic, riverfront, communities, ways, art, immigrant\n",
       "Example Comments: Need engaging art installations throughout the city. People will be able to experience art, have fun, and share on social media.; The very low number of immigrants coming to our county last year was a good thing. Saves costs: Schools, courts, social services-Our taxes!; The Barren River water front needs to be improved on both sides of the river and include  canoeing and kayaking water features in the river.\n",
       "Topic Title:<span style='background-color: rgba(0, 165, 0, 0.15); border-radius: 3px;' title='0.0'> Mult</span><span style='background-color: rgba(0, 165, 0, 0.15); border-radius: 3px;' title='0.0'>icult</span><span style='background-color: rgba(0, 165, 0, 0.15); border-radius: 3px;' title='0.0'>ural</span><span style='background-color: rgba(0, 165, 0, 0.15); border-radius: 3px;' title='0.0'>ism</span><span style='background-color: rgba(0, 165, 0, 0.15); border-radius: 3px;' title='0.0'> and</span><span style='background-color: rgba(0, 165, 0, 0.15); border-radius: 3px;' title='0.0'> tour</span><span style='background-color: rgba(0, 165, 0, 0.15); border-radius: 3px;' title='0.0'>ism</span>\n",
       "\n",
       "Topic 9:\n",
       "Keywords: parking, space, garage, yard, square, shade, mall, trees, downtown, pedestrian\n",
       "Example Comments: Better parking around the square would draw in more college students who like to shop but can not find parking downtown.; Owners of large parking lots should be required to break them up with pockets of green space and trees; perhaps create a walkable green path; Build parking garage behind Spencer’s, remove some parking from Ft. Square. Add a green space on top of garage! Soccer field or rooftop food\n",
       "Topic Title:<span style='background-color: rgba(0, 165, 0, 0.15); border-radius: 3px;' title='0.0'> Park</span><span style='background-color: rgba(0, 165, 0, 0.15); border-radius: 3px;' title='0.0'>ing</span><span style='background-color: rgba(0, 165, 0, 0.15); border-radius: 3px;' title='0.0'> and</span><span style='background-color: rgba(0, 165, 0, 0.15); border-radius: 3px;' title='0.0'> Urban</span><span style='background-color: rgba(0, 165, 0, 0.15); border-radius: 3px;' title='0.0'> Design</span>\n",
       "\n",
       "Topic 10:\n",
       "Keywords: police, cops, parking, enforcement, traffic, accidents, cameras, officers, tickets, presence\n",
       "Example Comments: Houston &quot;courtesy police&quot; maintain safety on access rds enforcing right of way &amp; parking/litter rules, assist traffic flow - we need!; BG needs to install traffic cameras that help police intersections like Gallatin, TN.  This would reduce accidents, traffic flow and add $; BGDN should publish these BGPD stats weekly – 1) traffic citations 2) vehicle accidents reported; 3) traffic accidents resulting in injury.\n",
       "Topic Title:<span style='background-color: rgba(0, 165, 0, 0.15); border-radius: 3px;' title='0.0'> Public</span><span style='background-color: rgba(0, 165, 0, 0.15); border-radius: 3px;' title='0.0'> Safety</span><span style='background-color: rgba(0, 165, 0, 0.15); border-radius: 3px;' title='0.0'> and</span><span style='background-color: rgba(0, 165, 0, 0.15); border-radius: 3px;' title='0.0'> Tr</span><span style='background-color: rgba(0, 165, 0, 0.15); border-radius: 3px;' title='0.0'>affic</span><span style='background-color: rgba(0, 165, 0, 0.15); border-radius: 3px;' title='0.0'> Management</span>\n",
       "\n",
       "Topic 11:\n",
       "Keywords: internet, cable, fiber, competition, rates, tv, choices, option, media, companies\n",
       "Example Comments: BGMU needs to offer residential fiber internet as a UTILITY, using Chattanooga as a perfect example.; Cable companies need competition and not be allowed to raise rates of  customers. Once you sign on, that is your rate unless you upgrade.; Encourage growth of OTA tv stations. Lots of cord cutters and shavers enjoy the HD content they can get with an antenna.\n",
       "Topic Title:<span style='background-color: rgba(0, 165, 0, 0.15); border-radius: 3px;' title='0.0'> Broad</span><span style='background-color: rgba(0, 165, 0, 0.15); border-radius: 3px;' title='0.0'>band</span><span style='background-color: rgba(0, 165, 0, 0.15); border-radius: 3px;' title='0.0'> and</span><span style='background-color: rgba(0, 165, 0, 0.15); border-radius: 3px;' title='0.0'> Television</span><span style='background-color: rgba(0, 165, 0, 0.15); border-radius: 3px;' title='0.0'> Compet</span><span style='background-color: rgba(0, 165, 0, 0.15); border-radius: 3px;' title='0.0'>ition</span>\n",
       "\n",
       "Topic 12:\n",
       "Keywords: temp, wage, benefits, openings, minimum, retirement, employee, employer, wages, companies\n",
       "Example Comments: Temp service need to pay higher hourly rate to temp than hiring firm pays their FTE to account for reduced economic security; City should bar garbage token health plans designed to prevent temp services paying $166/month Obamacare emp. fee. Let ppl get subsidy.; City needs to bar big COs employing from half a dozen temp services to keep 100s ineligble for FMLA due to less than 50 ppl/per &#x27;employer&#x27;\n",
       "Topic Title:<span style='background-color: rgba(0, 165, 0, 0.15); border-radius: 3px;' title='0.0'> Em</span><span style='background-color: rgba(0, 165, 0, 0.15); border-radius: 3px;' title='0.0'>ployment</span><span style='background-color: rgba(0, 165, 0, 0.15); border-radius: 3px;' title='0.0'> and</span><span style='background-color: rgba(0, 165, 0, 0.15); border-radius: 3px;' title='0.0'> Labor</span><span style='background-color: rgba(0, 165, 0, 0.15); border-radius: 3px;' title='0.0'> Stand</span><span style='background-color: rgba(0, 165, 0, 0.15); border-radius: 3px;' title='0.0'>ards</span>\n",
       "\n",
       "Topic 13:\n",
       "Keywords: rental, rent, renters, rental property, properties, prices, property, landlords, units, laws\n",
       "Example Comments: Rental property taxes should be reduced for private landlords to encourage them to develop more, as opposed to large ones like Chandler.; Stronger tenant and renters rights. Landlord accountability for keeping properties in good shape. So many overpriced dilapidated rentals.; Overdevelopment of rental property is detrimental to cities.  Renters do not pay property tax.  Schools suffer when the tax base is eroded.\n",
       "Topic Title:<span style='background-color: rgba(0, 165, 0, 0.15); border-radius: 3px;' title='0.0'> H</span><span style='background-color: rgba(0, 165, 0, 0.15); border-radius: 3px;' title='0.0'>ousing</span><span style='background-color: rgba(0, 165, 0, 0.15); border-radius: 3px;' title='0.0'> and</span><span style='background-color: rgba(0, 165, 0, 0.15); border-radius: 3px;' title='0.0'> Real</span><span style='background-color: rgba(0, 165, 0, 0.15); border-radius: 3px;' title='0.0'> Estate</span>\n",
       "\n",
       "Topic 14:\n",
       "Keywords: sidewalks, bike, trails, walking, trail, walkers, great addition, biking, ramps, small ramps\n",
       "Example Comments: Install new sidewalks along major roads, like Three Springs, and city-wide bike routes, to decrease likelihood of accidents; Make it a walking city. Sidewalks along the main avenues (scottsville rd, campbell ln, 31 bypass) with plants, benches, art pieces.; Have a Dual Slalom Course, Pump Track &amp; Bike Skills Course co-located by the Low Hollow Mountain Bike Trail at Weldon Peete Park.\n",
       "Topic Title:<span style='background-color: rgba(0, 165, 0, 0.15); border-radius: 3px;' title='0.0'> Ped</span><span style='background-color: rgba(0, 165, 0, 0.15); border-radius: 3px;' title='0.0'>est</span><span style='background-color: rgba(0, 165, 0, 0.15); border-radius: 3px;' title='0.0'>rian</span><span style='background-color: rgba(0, 165, 0, 0.15); border-radius: 3px;' title='0.0'> and</span><span style='background-color: rgba(0, 165, 0, 0.15); border-radius: 3px;' title='0.0'> B</span><span style='background-color: rgba(0, 165, 0, 0.15); border-radius: 3px;' title='0.0'>ike</span><span style='background-color: rgba(0, 165, 0, 0.15); border-radius: 3px;' title='0.0'> In</span><span style='background-color: rgba(0, 165, 0, 0.15); border-radius: 3px;' title='0.0'>frastructure</span>\n",
       "\n",
       "Topic 15:\n",
       "Keywords: water, fire, lines, population, growth, bills, new schools, septic tanks, new roads, new subdivisions\n",
       "Example Comments: Need new schools in Warren County to keep up with population growth, CTE is falling down, Drakes and Greenwood high are way overcrowded; County needs to extend water lines in Tuckertown area. About a dozen homes don&#x27;t have county water or fire hydrants!; Tuckertown area needs fire protection. Currently rated Class 10 expensive insurance. Water lines are close by on Otter Gap &amp; Tuckertown Rds.\n",
       "Topic Title:<span style='background-color: rgba(0, 165, 0, 0.15); border-radius: 3px;' title='0.0'> Util</span><span style='background-color: rgba(0, 165, 0, 0.15); border-radius: 3px;' title='0.0'>ities</span><span style='background-color: rgba(0, 165, 0, 0.15); border-radius: 3px;' title='0.0'> and</span><span style='background-color: rgba(0, 165, 0, 0.15); border-radius: 3px;' title='0.0'> In</span><span style='background-color: rgba(0, 165, 0, 0.15); border-radius: 3px;' title='0.0'>frastructure</span>\n",
       "\n",
       "Topic 16:\n",
       "Keywords: animals, smoking, pets, leashes, leash, dog, owners, ordinance, pet owners, stray\n",
       "Example Comments: Better ordinances on keeping animals on leashes or in fenced areas are needed.; There should never be a leash law in the county - neighborhood dogs protect, play with and teach kids. It was a factor in living in county.; Relax restrictions on fencing in Home Owners Associations to promote people keeping animals on leashes or in fenced yards.\n",
       "Topic Title:<span style='background-color: rgba(0, 165, 0, 0.15); border-radius: 3px;' title='0.0'> Animal</span><span style='background-color: rgba(0, 165, 0, 0.15); border-radius: 3px;' title='0.0'> Control</span><span style='background-color: rgba(0, 165, 0, 0.15); border-radius: 3px;' title='0.0'> and</span><span style='background-color: rgba(0, 165, 0, 0.15); border-radius: 3px;' title='0.0'> Pet</span><span style='background-color: rgba(0, 165, 0, 0.15); border-radius: 3px;' title='0.0'> Own</span><span style='background-color: rgba(0, 165, 0, 0.15); border-radius: 3px;' title='0.0'>ership</span><span style='background-color: rgba(0, 165, 0, 0.15); border-radius: 3px;' title='0.0'> Reg</span><span style='background-color: rgba(0, 165, 0, 0.15); border-radius: 3px;' title='0.0'>ulations</span>\n",
       "\n",
       "Topic 17:\n",
       "Keywords: swimming, complex, swim, pools, lessons, facilities, sports, safety, year, therapy\n",
       "Example Comments: Bowling Green needs more indoor sports facilities, particularly a large complex with multiple indoor soccer fields, for youth.; BG&#x27;s Kummer Little gym is open limited hours for indoor track. On other hand, County has new gyms that are open lots of hrs. Inequitable.; Indoor swimming pools for public use and therapy year around without time restrictions due to special swim leagues. Encourage healthier life\n",
       "Topic Title:<span style='background-color: rgba(0, 165, 0, 0.15); border-radius: 3px;' title='0.0'> Health</span><span style='background-color: rgba(0, 165, 0, 0.15); border-radius: 3px;' title='0.0'> and</span><span style='background-color: rgba(0, 165, 0, 0.15); border-radius: 3px;' title='0.0'> Rec</span><span style='background-color: rgba(0, 165, 0, 0.15); border-radius: 3px;' title='0.0'>reation</span><span style='background-color: rgba(0, 165, 0, 0.15); border-radius: 3px;' title='0.0'> Fac</span><span style='background-color: rgba(0, 165, 0, 0.15); border-radius: 3px;' title='0.0'>ilities</span>\n",
       "\n",
       "Topic 18:\n",
       "Keywords: historic preservation, preservation, planning, building, buildings, historic building, urban planning, heritage, retail businesses, banks\n",
       "Example Comments: We need urban planning to ensure that mixed use housing, shopping and new neighborhoods are created to make our community better; Historic preservation of homes and buildings needs countywide attention to maintain our unique architectural heritage.; We must ensure historic preservation codes are properly enforced in our historic districts; lack of consistency erodes our unique aesthetic.\n",
       "Topic Title:<span style='background-color: rgba(0, 165, 0, 0.15); border-radius: 3px;' title='0.0'> Urban</span><span style='background-color: rgba(0, 165, 0, 0.15); border-radius: 3px;' title='0.0'> Planning</span><span style='background-color: rgba(0, 165, 0, 0.15); border-radius: 3px;' title='0.0'> and</span><span style='background-color: rgba(0, 165, 0, 0.15); border-radius: 3px;' title='0.0'> Historic</span><span style='background-color: rgba(0, 165, 0, 0.15); border-radius: 3px;' title='0.0'> Pres</span><span style='background-color: rgba(0, 165, 0, 0.15); border-radius: 3px;' title='0.0'>ervation</span>\n",
       "\n",
       "Topic 19:\n",
       "Keywords: recycling, litter, trash, bins, services, yards, junk, stronger enforcement, outdated equipment, dump\n",
       "Example Comments: BG has a bad problem with littering.  My husband and I fill up to 5 recycle bins every week between downtown and campus, cleaning it all up.; Make Scott Waste follow their contract - Return trash cans next to the house and not leave them on the sidewalks.  Keep BG clean!; Recycling services need to be improved and modernized. Current contractor uses outdated equipment, services are messy, company unresponsive.\n",
       "Topic Title:<span style='background-color: rgba(0, 165, 0, 0.15); border-radius: 3px;' title='0.0'> W</span><span style='background-color: rgba(0, 165, 0, 0.15); border-radius: 3px;' title='0.0'>aste</span><span style='background-color: rgba(0, 165, 0, 0.15); border-radius: 3px;' title='0.0'> Management</span><span style='background-color: rgba(0, 165, 0, 0.15); border-radius: 3px;' title='0.0'> and</span><span style='background-color: rgba(0, 165, 0, 0.15); border-radius: 3px;' title='0.0'> Ref</span><span style='background-color: rgba(0, 165, 0, 0.15); border-radius: 3px;' title='0.0'>use</span><span style='background-color: rgba(0, 165, 0, 0.15); border-radius: 3px;' title='0.0'> Collection</span>\n",
       "\n",
       "Topic 20:\n",
       "Keywords: store, food, farmers, grocery, marketing, fresh food, local chefs, brewers, distance, eggs\n",
       "Example Comments: BG needs to develop a marketing campaign to draw Warren Co and surrounding counties to downtown for eating, shopping, and entertainment.; A fresh food grocery store to be built in Delafield and Morgantown rd areas within walking distance of residents.; We need more businesses like White Squirrel and Nats in BG. They add character to our town. Done with the Olive Garden and Belks.\n",
       "Topic Title:<span style='background-color: rgba(0, 165, 0, 0.15); border-radius: 3px;' title='0.0'> Local</span><span style='background-color: rgba(0, 165, 0, 0.15); border-radius: 3px;' title='0.0'> Food</span><span style='background-color: rgba(0, 165, 0, 0.15); border-radius: 3px;' title='0.0'> and</span><span style='background-color: rgba(0, 165, 0, 0.15); border-radius: 3px;' title='0.0'> Entre</span><span style='background-color: rgba(0, 165, 0, 0.15); border-radius: 3px;' title='0.0'>pre</span><span style='background-color: rgba(0, 165, 0, 0.15); border-radius: 3px;' title='0.0'>neur</span><span style='background-color: rgba(0, 165, 0, 0.15); border-radius: 3px;' title='0.0'>ship</span>\n",
       "\n",
       "Topic 21:\n",
       "Keywords: tax, homelessness, cents, occ, fund, homeless people, cuts, budget, taxes, overheads\n",
       "Example Comments: Lower taxes by auditing every department for total accountability &amp; make cuts where possible. Stop city government waste.; City had 109 homeless students in 2017, County Had 112.  Housing those families temporarily is worth raising tax rate from 1.85% to 1.91%.; If city eliminates homelessness via occupational taxes, employers of homeless people need to reimburse city via special occ. tax penalty\n",
       "Topic Title:<span style='background-color: rgba(0, 165, 0, 0.15); border-radius: 3px;' title='0.0'> Tax</span><span style='background-color: rgba(0, 165, 0, 0.15); border-radius: 3px;' title='0.0'>ation</span><span style='background-color: rgba(0, 165, 0, 0.15); border-radius: 3px;' title='0.0'> and</span><span style='background-color: rgba(0, 165, 0, 0.15); border-radius: 3px;' title='0.0'> Hom</span><span style='background-color: rgba(0, 165, 0, 0.15); border-radius: 3px;' title='0.0'>eless</span><span style='background-color: rgba(0, 165, 0, 0.15); border-radius: 3px;' title='0.0'>ness</span>\n",
       "\n",
       "Topic 22:\n",
       "Keywords: zoning, planning, land, apartments, single family, family, affected area, country, changes, residences\n",
       "Example Comments: Too many apartments in Plano. Nice little country setting I bought my home in forever ruined!; We are loosing the city’s long established neighborhoods to multi family developments that do not fit in with the single family residences; Planning &amp; Zoning Board needs an overhaul. Fewer builders appointed, fairness to opposition, stop rubber stamping by P&amp;Z and City Comm.\n",
       "Topic Title:<span style='background-color: rgba(0, 165, 0, 0.15); border-radius: 3px;' title='0.0'> Z</span><span style='background-color: rgba(0, 165, 0, 0.15); border-radius: 3px;' title='0.0'>oning</span><span style='background-color: rgba(0, 165, 0, 0.15); border-radius: 3px;' title='0.0'> and</span><span style='background-color: rgba(0, 165, 0, 0.15); border-radius: 3px;' title='0.0'> Land</span><span style='background-color: rgba(0, 165, 0, 0.15); border-radius: 3px;' title='0.0'> Use</span><span style='background-color: rgba(0, 165, 0, 0.15); border-radius: 3px;' title='0.0'> Planning</span>\n",
       "</pre>"
      ],
      "text/plain": [
       "<IPython.core.display.HTML object>"
      ]
     },
     "metadata": {},
     "output_type": "display_data"
    }
   ],
   "source": [
    "# grab topic keywords\n",
    "df_topic_keywords_docs = df_topics.select('Topic', 'Representation', 'Representative_Docs')\n",
    "\n",
    "# instruct LLM to generate topic titles\n",
    "lm = mistral + generate_topic_titles(summary['topic'], summary['conversation-description'], df_topic_keywords_docs)"
   ]
  },
  {
   "cell_type": "markdown",
   "metadata": {},
   "source": [
    "### meta-llama/Llama-2-13b-chat-hf"
   ]
  },
  {
   "cell_type": "code",
   "execution_count": 15,
   "metadata": {
    "vscode": {
     "languageId": "python"
    }
   },
   "outputs": [
    {
     "data": {
      "text/html": [
       "<pre style='margin: 0px; padding: 0px; padding-left: 8px; margin-left: -8px; border-radius: 0px; border-left: 1px solid rgba(127, 127, 127, 0.2); white-space: pre-wrap; font-family: ColfaxAI, Arial; font-size: 15px; line-height: 23px;'>The following is a dataset of comments from an online discussion about Improving Bowling Green / Warren County. Assign a terse title to each topic based on the given keywords. Avoid repetitive phrases.\n",
       "\n",
       "Question: What do you believe should change in Bowling Green/Warren County in order to make it a better place to live, work and spend time?\n",
       "\n",
       "Topic 0:\n",
       "Keywords: road, drivers, traffic, lane, roads, bypass, intersection, turn, congestion, cemetery\n",
       "Example Comments: Widen Cemetry Road, Russellville Road, Lover’s Lane, Campbell Lane, The Old ByPass, and Scotsville Road from old ByPass to Natcher Parkway.; Smallhouse Rd (at Campbell Ln) heading into town needs to be widened to have room for three lanes (left turn, straight, right turn).; Access Rd, east side of Scottsville Rd. in shopping dist causes congestion. Give right of way to access road or cross streets, not a mix!\n",
       "Topic Title:<span style='background-color: rgba(0, 165, 0, 0.15); border-radius: 3px;' title='0.0'> W</span><span style='background-color: rgba(0, 165, 0, 0.15); border-radius: 3px;' title='0.0'>iden</span><span style='background-color: rgba(0, 165, 0, 0.15); border-radius: 3px;' title='0.0'> Ro</span><span style='background-color: rgba(0, 165, 0, 0.15); border-radius: 3px;' title='0.0'>ads</span><span style='background-color: rgba(0, 165, 0, 0.15); border-radius: 3px;' title='0.0'> and</span><span style='background-color: rgba(0, 165, 0, 0.15); border-radius: 3px;' title='0.0'> Im</span><span style='background-color: rgba(0, 165, 0, 0.15); border-radius: 3px;' title='0.0'>pro</span><span style='background-color: rgba(0, 165, 0, 0.15); border-radius: 3px;' title='0.0'>ve</span><span style='background-color: rgba(0, 165, 0, 0.15); border-radius: 3px;' title='0.0'> Inter</span><span style='background-color: rgba(0, 165, 0, 0.15); border-radius: 3px;' title='0.0'>sections</span>\n",
       "\n",
       "Topic 1:\n",
       "Keywords: fairness, ordinance, noise, improvement, city, separation, lawns, code, food, ideas\n",
       "Example Comments: City officials need to work with WKU admin. to address the noise &amp; public nuisance problems with the frat houses and homeowners downtown.; NO to the &quot;Fairness&quot; Ordinance. Current law is sufficient.  ZERO reported instances where LGBTQ people have been discriminated against in BG; The city should craft a very simple fairness ordinance, saying no discrimination acquiring housing, but not giving LGBTQ EEOC Bypass @work\n",
       "Topic Title:<span style='background-color: rgba(0, 165, 0, 0.15); border-radius: 3px;' title='0.0'> B</span><span style='background-color: rgba(0, 165, 0, 0.15); border-radius: 3px;' title='0.0'>G</span><span style='background-color: rgba(0, 165, 0, 0.15); border-radius: 3px;' title='0.0'> Fair</span><span style='background-color: rgba(0, 165, 0, 0.15); border-radius: 3px;' title='0.0'>ness</span><span style='background-color: rgba(0, 165, 0, 0.15); border-radius: 3px;' title='0.0'> for</span><span style='background-color: rgba(0, 165, 0, 0.15); border-radius: 3px;' title='0.0'> All</span>\n",
       "\n",
       "Topic 2:\n",
       "Keywords: drug, marijuana, opioid, doctors, drugs, pain, deaths, dealers, sex, possession\n",
       "Example Comments: The fact that there is not as much coverage about African American deaths from cocaine as there is about deaths in the white community from opioids, even though there are as many of them, is evidence of institutionalized racism.; In order to combat teen pregnancy and STD rates, high schools in Bowling Green should offer comprehensive, medically accurate sex education.; In order to better combat the opioid epidemic, it is time to view drug addiction as a health problem rather than a criminal justice problem.\n",
       "Topic Title:<span style='background-color: rgba(0, 165, 0, 0.15); border-radius: 3px;' title='0.0'> D</span><span style='background-color: rgba(0, 165, 0, 0.15); border-radius: 3px;' title='0.0'>rug</span><span style='background-color: rgba(0, 165, 0, 0.15); border-radius: 3px;' title='0.0'> Ab</span><span style='background-color: rgba(0, 165, 0, 0.15); border-radius: 3px;' title='0.0'>use</span><span style='background-color: rgba(0, 165, 0, 0.15); border-radius: 3px;' title='0.0'> Sol</span><span style='background-color: rgba(0, 165, 0, 0.15); border-radius: 3px;' title='0.0'>utions</span><span style='background-color: rgba(0, 165, 0, 0.15); border-radius: 3px;' title='0.0'> in</span><span style='background-color: rgba(0, 165, 0, 0.15); border-radius: 3px;' title='0.0'> B</span><span style='background-color: rgba(0, 165, 0, 0.15); border-radius: 3px;' title='0.0'>G</span>\n",
       "\n",
       "Topic 3:\n",
       "Keywords: homeless, parks, park, house, hangout, tiny house, community, aid, benefit, size\n",
       "Example Comments: We need to replace &quot;Room at the Inn&quot; services with temporary decent housing connected to aid agencies for the homeless; I would like to see more aid for the homeless whether: tiny house park, health clinic, rehabilitation, job readiness sources.; Homeless people deserve full size places like studio apartments.  Not tiny homes like a smurf would desire in a tiny house park.\n",
       "Topic Title:<span style='background-color: rgba(0, 165, 0, 0.15); border-radius: 3px;' title='0.0'> Tem</span><span style='background-color: rgba(0, 165, 0, 0.15); border-radius: 3px;' title='0.0'>pr</span><span style='background-color: rgba(0, 165, 0, 0.15); border-radius: 3px;' title='0.0'>or</span><span style='background-color: rgba(0, 165, 0, 0.15); border-radius: 3px;' title='0.0'>ary</span><span style='background-color: rgba(0, 165, 0, 0.15); border-radius: 3px;' title='0.0'> Sh</span><span style='background-color: rgba(0, 165, 0, 0.15); border-radius: 3px;' title='0.0'>le</span><span style='background-color: rgba(0, 165, 0, 0.15); border-radius: 3px;' title='0.0'>ther</span><span style='background-color: rgba(0, 165, 0, 0.15); border-radius: 3px;' title='0.0'>ing</span><span style='background-color: rgba(0, 165, 0, 0.15); border-radius: 3px;' title='0.0'> Sol</span><span style='background-color: rgba(0, 165, 0, 0.15); border-radius: 3px;' title='0.0'>utions</span><span style='background-color: rgba(0, 165, 0, 0.15); border-radius: 3px;' title='0.0'> for</span><span style='background-color: rgba(0, 165, 0, 0.15); border-radius: 3px;' title='0.0'> Home</span><span style='background-color: rgba(0, 165, 0, 0.15); border-radius: 3px;' title='0.0'>eless</span><span style='background-color: rgba(0, 165, 0, 0.15); border-radius: 3px;' title='0.0'> Ind</span><span style='background-color: rgba(0, 165, 0, 0.15); border-radius: 3px;' title='0.0'>vid</span><span style='background-color: rgba(0, 165, 0, 0.15); border-radius: 3px;' title='0.0'>uals</span>\n",
       "\n",
       "Topic 4:\n",
       "Keywords: programs, activities, weekend, training, higher education, youth, museum, credit, teenagers, job\n",
       "Example Comments: A favorite place to visit (elsewhere) is a park filled with gently used toys (donated).  It inspires imagination, creativity and sharing.; We  a true junior college which offers credit / non credit courses like many other states from basket weaving to cyber security; Need comprehesive probation rehab programs - include addiction treatment, life &amp; job skills &amp; ideas securing housing, training/job etc\n",
       "Topic Title:<span style='background-color: rgba(0, 165, 0, 0.15); border-radius: 3px;' title='0.0'> Young</span><span style='background-color: rgba(0, 165, 0, 0.15); border-radius: 3px;' title='0.0'> People</span><span style='background-color: rgba(0, 165, 0, 0.15); border-radius: 3px;' title='0.0'> Pro</span><span style='background-color: rgba(0, 165, 0, 0.15); border-radius: 3px;' title='0.0'>s</span><span style='background-color: rgba(0, 165, 0, 0.15); border-radius: 3px;' title='0.0'>per</span><span style='background-color: rgba(0, 165, 0, 0.15); border-radius: 3px;' title='0.0'>ity</span><span style='background-color: rgba(0, 165, 0, 0.15); border-radius: 3px;' title='0.0'> in</span><span style='background-color: rgba(0, 165, 0, 0.15); border-radius: 3px;' title='0.0'> B</span><span style='background-color: rgba(0, 165, 0, 0.15); border-radius: 3px;' title='0.0'>G</span>\n",
       "\n",
       "Topic 5:\n",
       "Keywords: school, schools, parents, public schools, public school, kids, choice, education, charter, districts\n",
       "Example Comments: Future charter schools would be a financial burden to public school funding, unless they are held to accountability by local school boards.; some children with cultural differences or dietary needs cannot eat a typical lunch at school please provide special diet options.; Both school districts shamefully manipulate low economic status parents to gain Title I funding. It should stop.\n",
       "Topic Title:<span style='background-color: rgba(0, 165, 0, 0.15); border-radius: 3px;' title='0.0'> Public</span><span style='background-color: rgba(0, 165, 0, 0.15); border-radius: 3px;' title='0.0'> School</span><span style='background-color: rgba(0, 165, 0, 0.15); border-radius: 3px;' title='0.0'> Cho</span><span style='background-color: rgba(0, 165, 0, 0.15); border-radius: 3px;' title='0.0'>ice</span><span style='background-color: rgba(0, 165, 0, 0.15); border-radius: 3px;' title='0.0'> and</span><span style='background-color: rgba(0, 165, 0, 0.15); border-radius: 3px;' title='0.0'> Acc</span><span style='background-color: rgba(0, 165, 0, 0.15); border-radius: 3px;' title='0.0'>out</span><span style='background-color: rgba(0, 165, 0, 0.15); border-radius: 3px;' title='0.0'>ability</span>\n",
       "\n",
       "Topic 6:\n",
       "Keywords: vote, officials, proposal, project, power, seller, influence, local officials, funds, unelected boards\n",
       "Example Comments: Officials that use social media accounts in a professional capacity should not be allowed to block constituents except under rare conditions like being threatened.; Big names and corporations get away with too much. We need fairer regulation and level playing fields for the small and big guys alike.; Local elected government officials should not be able to hold a seat and also be on the TIF board or other unelected boards.\n",
       "Topic Title:<span style='background-color: rgba(0, 165, 0, 0.15); border-radius: 3px;' title='0.0'> V</span><span style='background-color: rgba(0, 165, 0, 0.15); border-radius: 3px;' title='0.0'>oter</span><span style='background-color: rgba(0, 165, 0, 0.15); border-radius: 3px;' title='0.0'> Power</span>\n",
       "\n",
       "Topic 7:\n",
       "Keywords: campus, program, university, students, local businesses, miles, restaurants, courses, mental health, center\n",
       "Example Comments: Residential Parking Permits for areas near WKU. We can rescue our yards from parking. We pay property taxes for the students&#x27; convenience,; Provide a food assistance program for college students as students lots of times do not qualify for food stamps due to living on campus; Make areas around WKU&#x27;s campus livable for college students. Eliminating section 8 housing will lead to less crime &amp; lower cost of attendance.\n",
       "Topic Title:<span style='background-color: rgba(0, 165, 0, 0.15); border-radius: 3px;' title='0.0'> W</span><span style='background-color: rgba(0, 165, 0, 0.15); border-radius: 3px;' title='0.0'>K</span><span style='background-color: rgba(0, 165, 0, 0.15); border-radius: 3px;' title='0.0'>U</span><span style='background-color: rgba(0, 165, 0, 0.15); border-radius: 3px;' title='0.0'> Camp</span><span style='background-color: rgba(0, 165, 0, 0.15); border-radius: 3px;' title='0.0'>us</span><span style='background-color: rgba(0, 165, 0, 0.15); border-radius: 3px;' title='0.0'> Hab</span><span style='background-color: rgba(0, 165, 0, 0.15); border-radius: 3px;' title='0.0'>itat</span>\n",
       "\n",
       "Topic 8:\n",
       "Keywords: river, immigrants, refugees, tourists, demographic, riverfront, communities, ways, art, immigrant\n",
       "Example Comments: Need engaging art installations throughout the city. People will be able to experience art, have fun, and share on social media.; The very low number of immigrants coming to our county last year was a good thing. Saves costs: Schools, courts, social services-Our taxes!; The Barren River water front needs to be improved on both sides of the river and include  canoeing and kayaking water features in the river.\n",
       "Topic Title:<span style='background-color: rgba(0, 165, 0, 0.15); border-radius: 3px;' title='0.0'> Bar</span><span style='background-color: rgba(0, 165, 0, 0.15); border-radius: 3px;' title='0.0'>ren</span><span style='background-color: rgba(0, 165, 0, 0.15); border-radius: 3px;' title='0.0'> River</span><span style='background-color: rgba(0, 165, 0, 0.15); border-radius: 3px;' title='0.0'> Exper</span><span style='background-color: rgba(0, 165, 0, 0.15); border-radius: 3px;' title='0.0'>in</span><span style='background-color: rgba(0, 165, 0, 0.15); border-radius: 3px;' title='0.0'>ces</span>\n",
       "\n",
       "Topic 9:\n",
       "Keywords: parking, space, garage, yard, square, shade, mall, trees, downtown, pedestrian\n",
       "Example Comments: Better parking around the square would draw in more college students who like to shop but can not find parking downtown.; Owners of large parking lots should be required to break them up with pockets of green space and trees; perhaps create a walkable green path; Build parking garage behind Spencer’s, remove some parking from Ft. Square. Add a green space on top of garage! Soccer field or rooftop food\n",
       "Topic Title:<span style='background-color: rgba(0, 165, 0, 0.15); border-radius: 3px;' title='0.0'> Dow</span><span style='background-color: rgba(0, 165, 0, 0.15); border-radius: 3px;' title='0.0'>nt</span><span style='background-color: rgba(0, 165, 0, 0.15); border-radius: 3px;' title='0.0'>own</span><span style='background-color: rgba(0, 165, 0, 0.15); border-radius: 3px;' title='0.0'> Park</span><span style='background-color: rgba(0, 165, 0, 0.15); border-radius: 3px;' title='0.0'>ing</span>\n",
       "\n",
       "Topic 10:\n",
       "Keywords: police, cops, parking, enforcement, traffic, accidents, cameras, officers, tickets, presence\n",
       "Example Comments: Houston &quot;courtesy police&quot; maintain safety on access rds enforcing right of way &amp; parking/litter rules, assist traffic flow - we need!; BG needs to install traffic cameras that help police intersections like Gallatin, TN.  This would reduce accidents, traffic flow and add $; BGDN should publish these BGPD stats weekly – 1) traffic citations 2) vehicle accidents reported; 3) traffic accidents resulting in injury.\n",
       "Topic Title:<span style='background-color: rgba(0, 165, 0, 0.15); border-radius: 3px;' title='0.0'> B</span><span style='background-color: rgba(0, 165, 0, 0.15); border-radius: 3px;' title='0.0'>G</span><span style='background-color: rgba(0, 165, 0, 0.15); border-radius: 3px;' title='0.0'>DP</span><span style='background-color: rgba(0, 165, 0, 0.15); border-radius: 3px;' title='0.0'> Pres</span><span style='background-color: rgba(0, 165, 0, 0.15); border-radius: 3px;' title='0.0'>c</span><span style='background-color: rgba(0, 165, 0, 0.15); border-radius: 3px;' title='0.0'>ence</span>\n",
       "\n",
       "Topic 11:\n",
       "Keywords: internet, cable, fiber, competition, rates, tv, choices, option, media, companies\n",
       "Example Comments: BGMU needs to offer residential fiber internet as a UTILITY, using Chattanooga as a perfect example.; Cable companies need competition and not be allowed to raise rates of  customers. Once you sign on, that is your rate unless you upgrade.; Encourage growth of OTA tv stations. Lots of cord cutters and shavers enjoy the HD content they can get with an antenna.\n",
       "Topic Title:<span style='background-color: rgba(0, 165, 0, 0.15); border-radius: 3px;' title='0.0'> B</span><span style='background-color: rgba(0, 165, 0, 0.15); border-radius: 3px;' title='0.0'>G</span><span style='background-color: rgba(0, 165, 0, 0.15); border-radius: 3px;' title='0.0'> C</span><span style='background-color: rgba(0, 165, 0, 0.15); border-radius: 3px;' title='0.0'>able</span><span style='background-color: rgba(0, 165, 0, 0.15); border-radius: 3px;' title='0.0'> and</span><span style='background-color: rgba(0, 165, 0, 0.15); border-radius: 3px;' title='0.0'> F</span><span style='background-color: rgba(0, 165, 0, 0.15); border-radius: 3px;' title='0.0'>iber</span><span style='background-color: rgba(0, 165, 0, 0.15); border-radius: 3px;' title='0.0'> Mes</span><span style='background-color: rgba(0, 165, 0, 0.15); border-radius: 3px;' title='0.0'>u</span><span style='background-color: rgba(0, 165, 0, 0.15); border-radius: 3px;' title='0.0'>ership</span>\n",
       "\n",
       "Topic 12:\n",
       "Keywords: temp, wage, benefits, openings, minimum, retirement, employee, employer, wages, companies\n",
       "Example Comments: Temp service need to pay higher hourly rate to temp than hiring firm pays their FTE to account for reduced economic security; City should bar garbage token health plans designed to prevent temp services paying $166/month Obamacare emp. fee. Let ppl get subsidy.; City needs to bar big COs employing from half a dozen temp services to keep 100s ineligble for FMLA due to less than 50 ppl/per &#x27;employer&#x27;\n",
       "Topic Title:<span style='background-color: rgba(0, 165, 0, 0.15); border-radius: 3px;' title='0.0'> B</span><span style='background-color: rgba(0, 165, 0, 0.15); border-radius: 3px;' title='0.0'>G</span><span style='background-color: rgba(0, 165, 0, 0.15); border-radius: 3px;' title='0.0'> Temp</span><span style='background-color: rgba(0, 165, 0, 0.15); border-radius: 3px;' title='0.0'> Agency</span><span style='background-color: rgba(0, 165, 0, 0.15); border-radius: 3px;' title='0.0'> Labor</span><span style='background-color: rgba(0, 165, 0, 0.15); border-radius: 3px;' title='0.0'> Pract</span><span style='background-color: rgba(0, 165, 0, 0.15); border-radius: 3px;' title='0.0'>ies</span>\n",
       "\n",
       "Topic 13:\n",
       "Keywords: rental, rent, renters, rental property, properties, prices, property, landlords, units, laws\n",
       "Example Comments: Rental property taxes should be reduced for private landlords to encourage them to develop more, as opposed to large ones like Chandler.; Stronger tenant and renters rights. Landlord accountability for keeping properties in good shape. So many overpriced dilapidated rentals.; Overdevelopment of rental property is detrimental to cities.  Renters do not pay property tax.  Schools suffer when the tax base is eroded.\n",
       "Topic Title:<span style='background-color: rgba(0, 165, 0, 0.15); border-radius: 3px;' title='0.0'> R</span><span style='background-color: rgba(0, 165, 0, 0.15); border-radius: 3px;' title='0.0'>ental</span><span style='background-color: rgba(0, 165, 0, 0.15); border-radius: 3px;' title='0.0'> Properties</span><span style='background-color: rgba(0, 165, 0, 0.15); border-radius: 3px;' title='0.0'> and</span><span style='background-color: rgba(0, 165, 0, 0.15); border-radius: 3px;' title='0.0'> Tax</span><span style='background-color: rgba(0, 165, 0, 0.15); border-radius: 3px;' title='0.0'>ation</span>\n",
       "\n",
       "Topic 14:\n",
       "Keywords: sidewalks, bike, trails, walking, trail, walkers, great addition, biking, ramps, small ramps\n",
       "Example Comments: Install new sidewalks along major roads, like Three Springs, and city-wide bike routes, to decrease likelihood of accidents; Make it a walking city. Sidewalks along the main avenues (scottsville rd, campbell ln, 31 bypass) with plants, benches, art pieces.; Have a Dual Slalom Course, Pump Track &amp; Bike Skills Course co-located by the Low Hollow Mountain Bike Trail at Weldon Peete Park.\n",
       "Topic Title:<span style='background-color: rgba(0, 165, 0, 0.15); border-radius: 3px;' title='0.0'> Bow</span><span style='background-color: rgba(0, 165, 0, 0.15); border-radius: 3px;' title='0.0'>ing</span><span style='background-color: rgba(0, 165, 0, 0.15); border-radius: 3px;' title='0.0'> Green</span><span style='background-color: rgba(0, 165, 0, 0.15); border-radius: 3px;' title='0.0'> Walk</span><span style='background-color: rgba(0, 165, 0, 0.15); border-radius: 3px;' title='0.0'>ing</span><span style='background-color: rgba(0, 165, 0, 0.15); border-radius: 3px;' title='0.0'> and</span><span style='background-color: rgba(0, 165, 0, 0.15); border-radius: 3px;' title='0.0'> B</span><span style='background-color: rgba(0, 165, 0, 0.15); border-radius: 3px;' title='0.0'>ik</span><span style='background-color: rgba(0, 165, 0, 0.15); border-radius: 3px;' title='0.0'>ing</span>\n",
       "\n",
       "Topic 15:\n",
       "Keywords: water, fire, lines, population, growth, bills, new schools, septic tanks, new roads, new subdivisions\n",
       "Example Comments: Need new schools in Warren County to keep up with population growth, CTE is falling down, Drakes and Greenwood high are way overcrowded; County needs to extend water lines in Tuckertown area. About a dozen homes don&#x27;t have county water or fire hydrants!; Tuckertown area needs fire protection. Currently rated Class 10 expensive insurance. Water lines are close by on Otter Gap &amp; Tuckertown Rds.\n",
       "Topic Title:<span style='background-color: rgba(0, 165, 0, 0.15); border-radius: 3px;' title='0.0'> Water</span><span style='background-color: rgba(0, 165, 0, 0.15); border-radius: 3px;' title='0.0'> L</span><span style='background-color: rgba(0, 165, 0, 0.15); border-radius: 3px;' title='0.0'>ines</span><span style='background-color: rgba(0, 165, 0, 0.15); border-radius: 3px;' title='0.0'> and</span><span style='background-color: rgba(0, 165, 0, 0.15); border-radius: 3px;' title='0.0'> Council</span><span style='background-color: rgba(0, 165, 0, 0.15); border-radius: 3px;' title='0.0'>g</span><span style='background-color: rgba(0, 165, 0, 0.15); border-radius: 3px;' title='0.0'>row</span><span style='background-color: rgba(0, 165, 0, 0.15); border-radius: 3px;' title='0.0'>th</span>\n",
       "\n",
       "Topic 16:\n",
       "Keywords: animals, smoking, pets, leashes, leash, dog, owners, ordinance, pet owners, stray\n",
       "Example Comments: Better ordinances on keeping animals on leashes or in fenced areas are needed.; There should never be a leash law in the county - neighborhood dogs protect, play with and teach kids. It was a factor in living in county.; Relax restrictions on fencing in Home Owners Associations to promote people keeping animals on leashes or in fenced yards.\n",
       "Topic Title:<span style='background-color: rgba(0, 165, 0, 0.15); border-radius: 3px;' title='0.0'> Warren</span><span style='background-color: rgba(0, 165, 0, 0.15); border-radius: 3px;' title='0.0'> County</span><span style='background-color: rgba(0, 165, 0, 0.15); border-radius: 3px;' title='0.0'> Animal</span><span style='background-color: rgba(0, 165, 0, 0.15); border-radius: 3px;' title='0.0'> Control</span>\n",
       "\n",
       "Topic 17:\n",
       "Keywords: swimming, complex, swim, pools, lessons, facilities, sports, safety, year, therapy\n",
       "Example Comments: Bowling Green needs more indoor sports facilities, particularly a large complex with multiple indoor soccer fields, for youth.; BG&#x27;s Kummer Little gym is open limited hours for indoor track. On other hand, County has new gyms that are open lots of hrs. Inequitable.; Indoor swimming pools for public use and therapy year around without time restrictions due to special swim leagues. Encourage healthier life\n",
       "Topic Title:<span style='background-color: rgba(0, 165, 0, 0.15); border-radius: 3px;' title='0.0'> Ind</span><span style='background-color: rgba(0, 165, 0, 0.15); border-radius: 3px;' title='0.0'>oor</span><span style='background-color: rgba(0, 165, 0, 0.15); border-radius: 3px;' title='0.0'> Sports</span><span style='background-color: rgba(0, 165, 0, 0.15); border-radius: 3px;' title='0.0'> Fac</span><span style='background-color: rgba(0, 165, 0, 0.15); border-radius: 3px;' title='0.0'>ilities</span>\n",
       "\n",
       "Topic 18:\n",
       "Keywords: historic preservation, preservation, planning, building, buildings, historic building, urban planning, heritage, retail businesses, banks\n",
       "Example Comments: We need urban planning to ensure that mixed use housing, shopping and new neighborhoods are created to make our community better; Historic preservation of homes and buildings needs countywide attention to maintain our unique architectural heritage.; We must ensure historic preservation codes are properly enforced in our historic districts; lack of consistency erodes our unique aesthetic.\n",
       "Topic Title:<span style='background-color: rgba(0, 165, 0, 0.15); border-radius: 3px;' title='0.0'> Bow</span><span style='background-color: rgba(0, 165, 0, 0.15); border-radius: 3px;' title='0.0'>ling</span><span style='background-color: rgba(0, 165, 0, 0.15); border-radius: 3px;' title='0.0'> Green</span><span style='background-color: rgba(0, 165, 0, 0.15); border-radius: 3px;' title='0.0'> Historic</span><span style='background-color: rgba(0, 165, 0, 0.15); border-radius: 3px;' title='0.0'> Pres</span><span style='background-color: rgba(0, 165, 0, 0.15); border-radius: 3px;' title='0.0'>ervation</span>\n",
       "\n",
       "Topic 19:\n",
       "Keywords: recycling, litter, trash, bins, services, yards, junk, stronger enforcement, outdated equipment, dump\n",
       "Example Comments: BG has a bad problem with littering.  My husband and I fill up to 5 recycle bins every week between downtown and campus, cleaning it all up.; Make Scott Waste follow their contract - Return trash cans next to the house and not leave them on the sidewalks.  Keep BG clean!; Recycling services need to be improved and modernized. Current contractor uses outdated equipment, services are messy, company unresponsive.\n",
       "Topic Title:<span style='background-color: rgba(0, 165, 0, 0.15); border-radius: 3px;' title='0.0'> C</span><span style='background-color: rgba(0, 165, 0, 0.15); border-radius: 3px;' title='0.0'>lean</span><span style='background-color: rgba(0, 165, 0, 0.15); border-radius: 3px;' title='0.0'> and</span><span style='background-color: rgba(0, 165, 0, 0.15); border-radius: 3px;' title='0.0'> Green</span><span style='background-color: rgba(0, 165, 0, 0.15); border-radius: 3px;' title='0.0'> B</span><span style='background-color: rgba(0, 165, 0, 0.15); border-radius: 3px;' title='0.0'>G</span>\n",
       "\n",
       "Topic 20:\n",
       "Keywords: store, food, farmers, grocery, marketing, fresh food, local chefs, brewers, distance, eggs\n",
       "Example Comments: BG needs to develop a marketing campaign to draw Warren Co and surrounding counties to downtown for eating, shopping, and entertainment.; A fresh food grocery store to be built in Delafield and Morgantown rd areas within walking distance of residents.; We need more businesses like White Squirrel and Nats in BG. They add character to our town. Done with the Olive Garden and Belks.\n",
       "Topic Title:<span style='background-color: rgba(0, 165, 0, 0.15); border-radius: 3px;' title='0.0'> B</span><span style='background-color: rgba(0, 165, 0, 0.15); border-radius: 3px;' title='0.0'>G</span><span style='background-color: rgba(0, 165, 0, 0.15); border-radius: 3px;' title='0.0'> Dist</span><span style='background-color: rgba(0, 165, 0, 0.15); border-radius: 3px;' title='0.0'>ance</span><span style='background-color: rgba(0, 165, 0, 0.15); border-radius: 3px;' title='0.0'> to</span><span style='background-color: rgba(0, 165, 0, 0.15); border-radius: 3px;' title='0.0'> F</span><span style='background-color: rgba(0, 165, 0, 0.15); border-radius: 3px;' title='0.0'>resh</span><span style='background-color: rgba(0, 165, 0, 0.15); border-radius: 3px;' title='0.0'> Food</span>\n",
       "\n",
       "Topic 21:\n",
       "Keywords: tax, homelessness, cents, occ, fund, homeless people, cuts, budget, taxes, overheads\n",
       "Example Comments: Lower taxes by auditing every department for total accountability &amp; make cuts where possible. Stop city government waste.; City had 109 homeless students in 2017, County Had 112.  Housing those families temporarily is worth raising tax rate from 1.85% to 1.91%.; If city eliminates homelessness via occupational taxes, employers of homeless people need to reimburse city via special occ. tax penalty\n",
       "Topic Title:<span style='background-color: rgba(0, 165, 0, 0.15); border-radius: 3px;' title='0.0'> Tax</span><span style='background-color: rgba(0, 165, 0, 0.15); border-radius: 3px;' title='0.0'>ation</span><span style='background-color: rgba(0, 165, 0, 0.15); border-radius: 3px;' title='0.0'> and</span><span style='background-color: rgba(0, 165, 0, 0.15); border-radius: 3px;' title='0.0'> Home</span><span style='background-color: rgba(0, 165, 0, 0.15); border-radius: 3px;' title='0.0'>ous</span><span style='background-color: rgba(0, 165, 0, 0.15); border-radius: 3px;' title='0.0'>ness</span>\n",
       "\n",
       "Topic 22:\n",
       "Keywords: zoning, planning, land, apartments, single family, family, affected area, country, changes, residences\n",
       "Example Comments: Too many apartments in Plano. Nice little country setting I bought my home in forever ruined!; We are loosing the city’s long established neighborhoods to multi family developments that do not fit in with the single family residences; Planning &amp; Zoning Board needs an overhaul. Fewer builders appointed, fairness to opposition, stop rubber stamping by P&amp;Z and City Comm.\n",
       "Topic Title:<span style='background-color: rgba(0, 165, 0, 0.15); border-radius: 3px;' title='0.0'> B</span><span style='background-color: rgba(0, 165, 0, 0.15); border-radius: 3px;' title='0.0'>G</span><span style='background-color: rgba(0, 165, 0, 0.15); border-radius: 3px;' title='0.0'> A</span><span style='background-color: rgba(0, 165, 0, 0.15); border-radius: 3px;' title='0.0'>part</span><span style='background-color: rgba(0, 165, 0, 0.15); border-radius: 3px;' title='0.0'>ments</span><span style='background-color: rgba(0, 165, 0, 0.15); border-radius: 3px;' title='0.0'> Bo</span><span style='background-color: rgba(0, 165, 0, 0.15); border-radius: 3px;' title='0.0'>om</span>\n",
       "</pre>"
      ],
      "text/plain": [
       "<IPython.core.display.HTML object>"
      ]
     },
     "metadata": {},
     "output_type": "display_data"
    }
   ],
   "source": [
    "df_topic_keywords_docs = df_topics.select('Topic', 'Representation', 'Representative_Docs')\n",
    "\n",
    "lm = llama + generate_topic_titles(summary['topic'], summary['conversation-description'], df_topic_keywords_docs)"
   ]
  },
  {
   "cell_type": "markdown",
   "metadata": {},
   "source": [
    "### openai-community/gpt2"
   ]
  },
  {
   "cell_type": "code",
   "execution_count": 12,
   "metadata": {
    "vscode": {
     "languageId": "python"
    }
   },
   "outputs": [
    {
     "data": {
      "text/html": [
       "<pre style='margin: 0px; padding: 0px; padding-left: 8px; margin-left: -8px; border-radius: 0px; border-left: 1px solid rgba(127, 127, 127, 0.2); white-space: pre-wrap; font-family: ColfaxAI, Arial; font-size: 15px; line-height: 23px;'>The following is a dataset of comments from an online discussion about Improving Bowling Green / Warren County. Assign a terse title to each topic based on the given keywords. Avoid repetitive phrases.\n",
       "\n",
       "Question: What do you believe should change in Bowling Green/Warren County in order to make it a better place to live, work and spend time?\n",
       "\n",
       "Topic 0:\n",
       "Keywords: road, drivers, traffic, lane, roads, bypass, intersection, turn, congestion, cemetery\n",
       "Example Comments: Widen Cemetry Road, Russellville Road, Lover’s Lane, Campbell Lane, The Old ByPass, and Scotsville Road from old ByPass to Natcher Parkway.; Smallhouse Rd (at Campbell Ln) heading into town needs to be widened to have room for three lanes (left turn, straight, right turn).; Access Rd, east side of Scottsville Rd. in shopping dist causes congestion. Give right of way to access road or cross streets, not a mix!\n",
       "Topic Title:<span style='background-color: rgba(0, 165, 0, 0.15); border-radius: 3px;' title='0.0'> Appro</span><span style='background-color: rgba(0, 165, 0, 0.15); border-radius: 3px;' title='0.0'>aching</span><span style='background-color: rgba(0, 165, 0, 0.15); border-radius: 3px;' title='0.0'> Irving</span><span style='background-color: rgba(0, 165, 0, 0.15); border-radius: 3px;' title='0.0'> Road</span><span style='background-color: rgba(0, 165, 0, 0.15); border-radius: 3px;' title='0.0'> from</span><span style='background-color: rgba(0, 165, 0, 0.15); border-radius: 3px;' title='0.0'> Am</span><span style='background-color: rgba(0, 165, 0, 0.15); border-radius: 3px;' title='0.0'>her</span><span style='background-color: rgba(0, 165, 0, 0.15); border-radius: 3px;' title='0.0'>st</span><span style='background-color: rgba(0, 165, 0, 0.15); border-radius: 3px;' title='0.0'>\n",
       "</span>\n",
       "Topic 1:\n",
       "Keywords: fairness, ordinance, noise, improvement, city, separation, lawns, code, food, ideas\n",
       "Example Comments: City officials need to work with WKU admin. to address the noise &amp; public nuisance problems with the frat houses and homeowners downtown.; NO to the &quot;Fairness&quot; Ordinance. Current law is sufficient.  ZERO reported instances where LGBTQ people have been discriminated against in BG; The city should craft a very simple fairness ordinance, saying no discrimination acquiring housing, but not giving LGBTQ EEOC Bypass @work\n",
       "Topic Title:<span style='background-color: rgba(0, 165, 0, 0.15); border-radius: 3px;' title='0.0'> Trust</span><span style='background-color: rgba(0, 165, 0, 0.15); border-radius: 3px;' title='0.0'> River</span><span style='background-color: rgba(0, 165, 0, 0.15); border-radius: 3px;' title='0.0'>\n",
       "</span>\n",
       "Topic 2:\n",
       "Keywords: drug, marijuana, opioid, doctors, drugs, pain, deaths, dealers, sex, possession\n",
       "Example Comments: The fact that there is not as much coverage about African American deaths from cocaine as there is about deaths in the white community from opioids, even though there are as many of them, is evidence of institutionalized racism.; In order to combat teen pregnancy and STD rates, high schools in Bowling Green should offer comprehensive, medically accurate sex education.; In order to better combat the opioid epidemic, it is time to view drug addiction as a health problem rather than a criminal justice problem.\n",
       "Topic Title:<span style='background-color: rgba(0, 165, 0, 0.15); border-radius: 3px;' title='0.0'> many</span><span style='background-color: rgba(0, 165, 0, 0.15); border-radius: 3px;' title='0.0'> low</span><span style='background-color: rgba(0, 165, 0, 0.15); border-radius: 3px;' title='0.0'> income</span><span style='background-color: rgba(0, 165, 0, 0.15); border-radius: 3px;' title='0.0'> people</span><span style='background-color: rgba(0, 165, 0, 0.15); border-radius: 3px;' title='0.0'> are</span><span style='background-color: rgba(0, 165, 0, 0.15); border-radius: 3px;' title='0.0'> getting</span><span style='background-color: rgba(0, 165, 0, 0.15); border-radius: 3px;' title='0.0'> caught</span><span style='background-color: rgba(0, 165, 0, 0.15); border-radius: 3px;' title='0.0'> up</span><span style='background-color: rgba(0, 165, 0, 0.15); border-radius: 3px;' title='0.0'> on</span><span style='background-color: rgba(0, 165, 0, 0.15); border-radius: 3px;' title='0.0'> their</span><span style='background-color: rgba(0, 165, 0, 0.15); border-radius: 3px;' title='0.0'> drug</span><span style='background-color: rgba(0, 165, 0, 0.15); border-radius: 3px;' title='0.0'> spending</span><span style='background-color: rgba(0, 165, 0, 0.15); border-radius: 3px;' title='0.0'> because</span><span style='background-color: rgba(0, 165, 0, 0.15); border-radius: 3px;' title='0.0'> they</span><span style='background-color: rgba(0, 165, 0, 0.15); border-radius: 3px;' title='0.0'> don</span><span style='background-color: rgba(0, 165, 0, 0.15); border-radius: 3px;' title='0.0'>&#x27;t</span><span style='background-color: rgba(0, 165, 0, 0.15); border-radius: 3px;' title='0.0'> have</span><span style='background-color: rgba(0, 165, 0, 0.15); border-radius: 3px;' title='0.0'> any</span><span style='background-color: rgba(0, 165, 0, 0.15); border-radius: 3px;' title='0.0'> other</span><span style='background-color: rgba(0, 165, 0, 0.15); border-radius: 3px;' title='0.0'> exits</span><span style='background-color: rgba(0, 165, 0, 0.15); border-radius: 3px;' title='0.0'>\n",
       "</span>\n",
       "Topic 3:\n",
       "Keywords: homeless, parks, park, house, hangout, tiny house, community, aid, benefit, size\n",
       "Example Comments: We need to replace &quot;Room at the Inn&quot; services with temporary decent housing connected to aid agencies for the homeless; I would like to see more aid for the homeless whether: tiny house park, health clinic, rehabilitation, job readiness sources.; Homeless people deserve full size places like studio apartments.  Not tiny homes like a smurf would desire in a tiny house park.\n",
       "Topic Title:<span style='background-color: rgba(0, 165, 0, 0.15); border-radius: 3px;' title='0.0'> F</span><span style='background-color: rgba(0, 165, 0, 0.15); border-radius: 3px;' title='0.0'>ayette</span><span style='background-color: rgba(0, 165, 0, 0.15); border-radius: 3px;' title='0.0'>ville</span><span style='background-color: rgba(0, 165, 0, 0.15); border-radius: 3px;' title='0.0'> is</span><span style='background-color: rgba(0, 165, 0, 0.15); border-radius: 3px;' title='0.0'> a</span><span style='background-color: rgba(0, 165, 0, 0.15); border-radius: 3px;' title='0.0'> good</span><span style='background-color: rgba(0, 165, 0, 0.15); border-radius: 3px;' title='0.0'> place</span><span style='background-color: rgba(0, 165, 0, 0.15); border-radius: 3px;' title='0.0'> for</span><span style='background-color: rgba(0, 165, 0, 0.15); border-radius: 3px;' title='0.0'> someone</span><span style='background-color: rgba(0, 165, 0, 0.15); border-radius: 3px;' title='0.0'> with</span><span style='background-color: rgba(0, 165, 0, 0.15); border-radius: 3px;' title='0.0'> an</span><span style='background-color: rgba(0, 165, 0, 0.15); border-radius: 3px;' title='0.0'> addiction</span><span style='background-color: rgba(0, 165, 0, 0.15); border-radius: 3px;' title='0.0'> to</span><span style='background-color: rgba(0, 165, 0, 0.15); border-radius: 3px;' title='0.0'> get</span><span style='background-color: rgba(0, 165, 0, 0.15); border-radius: 3px;' title='0.0'> HELP</span><span style='background-color: rgba(0, 165, 0, 0.15); border-radius: 3px;' title='0.0'>\n",
       "</span>\n",
       "Topic 4:\n",
       "Keywords: programs, activities, weekend, training, higher education, youth, museum, credit, teenagers, job\n",
       "Example Comments: A favorite place to visit (elsewhere) is a park filled with gently used toys (donated).  It inspires imagination, creativity and sharing.; We  a true junior college which offers credit / non credit courses like many other states from basket weaving to cyber security; Need comprehesive probation rehab programs - include addiction treatment, life &amp; job skills &amp; ideas securing housing, training/job etc\n",
       "Topic Title:<span style='background-color: rgba(0, 165, 0, 0.15); border-radius: 3px;' title='0.0'> Getting</span><span style='background-color: rgba(0, 165, 0, 0.15); border-radius: 3px;' title='0.0'> Your</span><span style='background-color: rgba(0, 165, 0, 0.15); border-radius: 3px;' title='0.0'> Needs</span><span style='background-color: rgba(0, 165, 0, 0.15); border-radius: 3px;' title='0.0'> in</span><span style='background-color: rgba(0, 165, 0, 0.15); border-radius: 3px;' title='0.0'> Everyday</span><span style='background-color: rgba(0, 165, 0, 0.15); border-radius: 3px;' title='0.0'> Cur</span><span style='background-color: rgba(0, 165, 0, 0.15); border-radius: 3px;' title='0.0'>rencies</span><span style='background-color: rgba(0, 165, 0, 0.15); border-radius: 3px;' title='0.0'>\n",
       "</span>\n",
       "Topic 5:\n",
       "Keywords: school, schools, parents, public schools, public school, kids, choice, education, charter, districts\n",
       "Example Comments: Future charter schools would be a financial burden to public school funding, unless they are held to accountability by local school boards.; some children with cultural differences or dietary needs cannot eat a typical lunch at school please provide special diet options.; Both school districts shamefully manipulate low economic status parents to gain Title I funding. It should stop.\n",
       "Topic Title:<span style='background-color: rgba(0, 165, 0, 0.15); border-radius: 3px;' title='0.0'></pre>"
      ],
      "text/plain": [
       "<IPython.core.display.HTML object>"
      ]
     },
     "metadata": {},
     "output_type": "display_data"
    },
    {
     "ename": "OutOfMemoryError",
     "evalue": "CUDA out of memory. Tried to allocate 20.00 MiB. GPU 0 has a total capacity of 3.81 GiB of which 12.00 MiB is free. Including non-PyTorch memory, this process has 3.79 GiB memory in use. Of the allocated memory 3.55 GiB is allocated by PyTorch, and 187.07 MiB is reserved by PyTorch but unallocated. If reserved but unallocated memory is large try setting PYTORCH_CUDA_ALLOC_CONF=expandable_segments:True to avoid fragmentation.  See documentation for Memory Management  (https://pytorch.org/docs/stable/notes/cuda.html#environment-variables)",
     "output_type": "error",
     "traceback": [
      "\u001b[0;31m---------------------------------------------------------------------------\u001b[0m",
      "\u001b[0;31mOutOfMemoryError\u001b[0m                          Traceback (most recent call last)",
      "Cell \u001b[0;32mIn[12], line 3\u001b[0m\n\u001b[1;32m      1\u001b[0m df_topic_keywords_docs \u001b[38;5;241m=\u001b[39m df_topics\u001b[38;5;241m.\u001b[39mselect(\u001b[38;5;124m'\u001b[39m\u001b[38;5;124mTopic\u001b[39m\u001b[38;5;124m'\u001b[39m, \u001b[38;5;124m'\u001b[39m\u001b[38;5;124mRepresentation\u001b[39m\u001b[38;5;124m'\u001b[39m, \u001b[38;5;124m'\u001b[39m\u001b[38;5;124mRepresentative_Docs\u001b[39m\u001b[38;5;124m'\u001b[39m)\n\u001b[0;32m----> 3\u001b[0m lm \u001b[38;5;241m=\u001b[39m \u001b[43mgpt2\u001b[49m\u001b[43m \u001b[49m\u001b[38;5;241;43m+\u001b[39;49m\u001b[43m \u001b[49m\u001b[43mgenerate_topic_titles\u001b[49m\u001b[43m(\u001b[49m\u001b[43msummary\u001b[49m\u001b[43m[\u001b[49m\u001b[38;5;124;43m'\u001b[39;49m\u001b[38;5;124;43mtopic\u001b[39;49m\u001b[38;5;124;43m'\u001b[39;49m\u001b[43m]\u001b[49m\u001b[43m,\u001b[49m\u001b[43m \u001b[49m\u001b[43msummary\u001b[49m\u001b[43m[\u001b[49m\u001b[38;5;124;43m'\u001b[39;49m\u001b[38;5;124;43mconversation-description\u001b[39;49m\u001b[38;5;124;43m'\u001b[39;49m\u001b[43m]\u001b[49m\u001b[43m,\u001b[49m\u001b[43m \u001b[49m\u001b[43mdf_topic_keywords_docs\u001b[49m\u001b[43m)\u001b[49m\n",
      "File \u001b[0;32m~/.conda/envs/guidance/lib/python3.11/site-packages/guidance/models/_model.py:266\u001b[0m, in \u001b[0;36mModel.__add__\u001b[0;34m(self, value)\u001b[0m\n\u001b[1;32m    262\u001b[0m         out \u001b[38;5;241m=\u001b[39m lm\u001b[38;5;241m.\u001b[39m_run_stateless(value)\n\u001b[1;32m    264\u001b[0m     \u001b[38;5;66;03m# run stateful functions\u001b[39;00m\n\u001b[1;32m    265\u001b[0m     \u001b[38;5;28;01melse\u001b[39;00m:\n\u001b[0;32m--> 266\u001b[0m         out \u001b[38;5;241m=\u001b[39m \u001b[43mvalue\u001b[49m\u001b[43m(\u001b[49m\u001b[43mlm\u001b[49m\u001b[43m)\u001b[49m\n\u001b[1;32m    268\u001b[0m \u001b[38;5;66;03m# this flushes the display\u001b[39;00m\n\u001b[1;32m    269\u001b[0m out\u001b[38;5;241m.\u001b[39m_inplace_append(\u001b[38;5;124m\"\u001b[39m\u001b[38;5;124m\"\u001b[39m)\n",
      "File \u001b[0;32m~/.conda/envs/guidance/lib/python3.11/site-packages/guidance/_grammar.py:54\u001b[0m, in \u001b[0;36mStatefulFunction.__call__\u001b[0;34m(self, model)\u001b[0m\n\u001b[1;32m     53\u001b[0m \u001b[38;5;28;01mdef\u001b[39;00m \u001b[38;5;21m__call__\u001b[39m(\u001b[38;5;28mself\u001b[39m, model):\n\u001b[0;32m---> 54\u001b[0m     \u001b[38;5;28;01mreturn\u001b[39;00m \u001b[38;5;28;43mself\u001b[39;49m\u001b[38;5;241;43m.\u001b[39;49m\u001b[43mf\u001b[49m\u001b[43m(\u001b[49m\u001b[43mmodel\u001b[49m\u001b[43m,\u001b[49m\u001b[43m \u001b[49m\u001b[38;5;241;43m*\u001b[39;49m\u001b[38;5;28;43mself\u001b[39;49m\u001b[38;5;241;43m.\u001b[39;49m\u001b[43margs\u001b[49m\u001b[43m,\u001b[49m\u001b[43m \u001b[49m\u001b[38;5;241;43m*\u001b[39;49m\u001b[38;5;241;43m*\u001b[39;49m\u001b[38;5;28;43mself\u001b[39;49m\u001b[38;5;241;43m.\u001b[39;49m\u001b[43mkwargs\u001b[49m\u001b[43m)\u001b[49m\n",
      "Cell \u001b[0;32mIn[11], line 10\u001b[0m, in \u001b[0;36mgenerate_topic_titles\u001b[0;34m(lm, main_title, question, df)\u001b[0m\n\u001b[1;32m      3\u001b[0m lm \u001b[38;5;241m+\u001b[39m\u001b[38;5;241m=\u001b[39m \u001b[38;5;124mf\u001b[39m\u001b[38;5;124m\"\"\"\u001b[39m\u001b[38;5;130;01m\\\u001b[39;00m\n\u001b[1;32m      4\u001b[0m \u001b[38;5;124mThe following is a dataset of comments from an online discussion about \u001b[39m\u001b[38;5;132;01m{\u001b[39;00mmain_title\u001b[38;5;132;01m}\u001b[39;00m\u001b[38;5;124m. Assign a terse title to each topic based on the given keywords. Avoid repetitive phrases.\u001b[39m\n\u001b[1;32m      5\u001b[0m \n\u001b[1;32m      6\u001b[0m \u001b[38;5;124mQuestion: \u001b[39m\u001b[38;5;132;01m{\u001b[39;00mquestion\u001b[38;5;132;01m}\u001b[39;00m\n\u001b[1;32m      7\u001b[0m \u001b[38;5;124m\u001b[39m\u001b[38;5;124m\"\"\"\u001b[39m\n\u001b[1;32m      9\u001b[0m \u001b[38;5;28;01mfor\u001b[39;00m topic, keywords, docs \u001b[38;5;129;01min\u001b[39;00m df\u001b[38;5;241m.\u001b[39mrows():\n\u001b[0;32m---> 10\u001b[0m     \u001b[43mlm\u001b[49m\u001b[43m \u001b[49m\u001b[38;5;241;43m+\u001b[39;49m\u001b[38;5;241;43m=\u001b[39;49m\u001b[43m \u001b[49m\u001b[38;5;124;43mf\u001b[39;49m\u001b[38;5;124;43m\"\"\"\u001b[39;49m\n\u001b[1;32m     11\u001b[0m \u001b[38;5;124;43m    Topic \u001b[39;49m\u001b[38;5;132;43;01m{\u001b[39;49;00m\u001b[43mtopic\u001b[49m\u001b[38;5;132;43;01m}\u001b[39;49;00m\u001b[38;5;124;43m:\u001b[39;49m\n\u001b[1;32m     12\u001b[0m \u001b[38;5;124;43m    Keywords: \u001b[39;49m\u001b[38;5;132;43;01m{\u001b[39;49;00m\u001b[38;5;124;43m'\u001b[39;49m\u001b[38;5;124;43m, \u001b[39;49m\u001b[38;5;124;43m'\u001b[39;49m\u001b[38;5;241;43m.\u001b[39;49m\u001b[43mjoin\u001b[49m\u001b[43m(\u001b[49m\u001b[43mkeywords\u001b[49m\u001b[43m)\u001b[49m\u001b[38;5;132;43;01m}\u001b[39;49;00m\n\u001b[1;32m     13\u001b[0m \u001b[38;5;124;43m    Example Comments: \u001b[39;49m\u001b[38;5;132;43;01m{\u001b[39;49;00m\u001b[38;5;124;43m'\u001b[39;49m\u001b[38;5;124;43m; \u001b[39;49m\u001b[38;5;124;43m'\u001b[39;49m\u001b[38;5;241;43m.\u001b[39;49m\u001b[43mjoin\u001b[49m\u001b[43m(\u001b[49m\u001b[43mdocs\u001b[49m\u001b[43m)\u001b[49m\u001b[38;5;132;43;01m}\u001b[39;49;00m\n\u001b[1;32m     14\u001b[0m \u001b[38;5;124;43m    Topic Title: \u001b[39;49m\u001b[38;5;124;43m\"\"\"\u001b[39;49m\u001b[43m \u001b[49m\u001b[38;5;241;43m+\u001b[39;49m\u001b[43m \u001b[49m\u001b[43mgen\u001b[49m\u001b[43m(\u001b[49m\u001b[43mname\u001b[49m\u001b[38;5;241;43m=\u001b[39;49m\u001b[38;5;124;43m'\u001b[39;49m\u001b[38;5;124;43mtopic_title\u001b[39;49m\u001b[38;5;124;43m'\u001b[39;49m\u001b[43m,\u001b[49m\u001b[43m \u001b[49m\u001b[43mlist_append\u001b[49m\u001b[38;5;241;43m=\u001b[39;49m\u001b[38;5;28;43;01mTrue\u001b[39;49;00m\u001b[43m,\u001b[49m\u001b[43m \u001b[49m\u001b[43mstop\u001b[49m\u001b[38;5;241;43m=\u001b[39;49m\u001b[43m[\u001b[49m\u001b[38;5;124;43m'\u001b[39;49m\u001b[38;5;130;43;01m\\n\u001b[39;49;00m\u001b[38;5;124;43m'\u001b[39;49m\u001b[43m,\u001b[49m\u001b[43m \u001b[49m\u001b[38;5;124;43m'\u001b[39;49m\u001b[38;5;124;43m.\u001b[39;49m\u001b[38;5;124;43m'\u001b[39;49m\u001b[43m]\u001b[49m\u001b[43m,\u001b[49m\u001b[43m \u001b[49m\u001b[43mmax_tokens\u001b[49m\u001b[38;5;241;43m=\u001b[39;49m\u001b[38;5;241;43m20\u001b[39;49m\u001b[43m,\u001b[49m\u001b[43m \u001b[49m\u001b[43mtemperature\u001b[49m\u001b[38;5;241;43m=\u001b[39;49m\u001b[38;5;241;43m1\u001b[39;49m\u001b[43m)\u001b[49m\u001b[43m \u001b[49m\u001b[38;5;241;43m+\u001b[39;49m\u001b[43m \u001b[49m\u001b[38;5;124;43m\"\u001b[39;49m\u001b[38;5;130;43;01m\\n\u001b[39;49;00m\u001b[38;5;124;43m\"\u001b[39;49m\n\u001b[1;32m     16\u001b[0m \u001b[38;5;28;01mreturn\u001b[39;00m lm\n",
      "File \u001b[0;32m~/.conda/envs/guidance/lib/python3.11/site-packages/guidance/models/_model.py:262\u001b[0m, in \u001b[0;36mModel.__add__\u001b[0;34m(self, value)\u001b[0m\n\u001b[1;32m    260\u001b[0m \u001b[38;5;66;03m# run stateless functions (grammar nodes)\u001b[39;00m\n\u001b[1;32m    261\u001b[0m \u001b[38;5;28;01melif\u001b[39;00m \u001b[38;5;28misinstance\u001b[39m(value, StatelessFunction):\n\u001b[0;32m--> 262\u001b[0m     out \u001b[38;5;241m=\u001b[39m \u001b[43mlm\u001b[49m\u001b[38;5;241;43m.\u001b[39;49m\u001b[43m_run_stateless\u001b[49m\u001b[43m(\u001b[49m\u001b[43mvalue\u001b[49m\u001b[43m)\u001b[49m\n\u001b[1;32m    264\u001b[0m \u001b[38;5;66;03m# run stateful functions\u001b[39;00m\n\u001b[1;32m    265\u001b[0m \u001b[38;5;28;01melse\u001b[39;00m:\n\u001b[1;32m    266\u001b[0m     out \u001b[38;5;241m=\u001b[39m value(lm)\n",
      "File \u001b[0;32m~/.conda/envs/guidance/lib/python3.11/site-packages/guidance/models/_model.py:401\u001b[0m, in \u001b[0;36mModel._run_stateless\u001b[0;34m(lm, stateless_function, temperature, top_p, n)\u001b[0m\n\u001b[1;32m    399\u001b[0m delayed_bytes \u001b[38;5;241m=\u001b[39m \u001b[38;5;124mb\u001b[39m\u001b[38;5;124m\"\u001b[39m\u001b[38;5;124m\"\u001b[39m\n\u001b[1;32m    400\u001b[0m \u001b[38;5;66;03m# last_is_generated = False\u001b[39;00m\n\u001b[0;32m--> 401\u001b[0m \u001b[43m\u001b[49m\u001b[38;5;28;43;01mfor\u001b[39;49;00m\u001b[43m \u001b[49m\u001b[43mnew_bytes\u001b[49m\u001b[43m,\u001b[49m\u001b[43m \u001b[49m\u001b[43mis_generated\u001b[49m\u001b[43m,\u001b[49m\u001b[43m \u001b[49m\u001b[43mnew_bytes_log_prob\u001b[49m\u001b[43m,\u001b[49m\u001b[43m \u001b[49m\u001b[43mcapture_groups\u001b[49m\u001b[43m,\u001b[49m\u001b[43m \u001b[49m\u001b[43mcapture_group_log_probs\u001b[49m\u001b[43m,\u001b[49m\u001b[43m \u001b[49m\u001b[43mnew_token_count\u001b[49m\u001b[43m \u001b[49m\u001b[38;5;129;43;01min\u001b[39;49;00m\u001b[43m \u001b[49m\u001b[43mgen_obj\u001b[49m\u001b[43m:\u001b[49m\n\u001b[1;32m    402\u001b[0m \u001b[43m    \u001b[49m\u001b[38;5;66;43;03m# convert the bytes to a string (delaying if we don't yet have a valid unicode string)\u001b[39;49;00m\n\u001b[1;32m    403\u001b[0m \u001b[43m    \u001b[49m\u001b[43mlm\u001b[49m\u001b[38;5;241;43m.\u001b[39;49m\u001b[43mtoken_count\u001b[49m\u001b[43m \u001b[49m\u001b[38;5;241;43m+\u001b[39;49m\u001b[38;5;241;43m=\u001b[39;49m\u001b[43m \u001b[49m\u001b[43mnew_token_count\u001b[49m\n\u001b[1;32m    404\u001b[0m \u001b[43m    \u001b[49m\u001b[43mnew_bytes\u001b[49m\u001b[43m \u001b[49m\u001b[38;5;241;43m=\u001b[39;49m\u001b[43m \u001b[49m\u001b[43mdelayed_bytes\u001b[49m\u001b[43m \u001b[49m\u001b[38;5;241;43m+\u001b[39;49m\u001b[43m \u001b[49m\u001b[43mnew_bytes\u001b[49m\n",
      "File \u001b[0;32m~/.conda/envs/guidance/lib/python3.11/site-packages/guidance/models/_model.py:692\u001b[0m, in \u001b[0;36mModel.__call__\u001b[0;34m(self, grammar, max_tokens, n, top_p, temperature, ensure_bos_token, log_probs)\u001b[0m\n\u001b[1;32m    690\u001b[0m     token_ids,token_byte_positions \u001b[38;5;241m=\u001b[39m \u001b[38;5;28mself\u001b[39m\u001b[38;5;241m.\u001b[39m_cleanup_tokens(token_ids, token_byte_positions)\n\u001b[1;32m    691\u001b[0m     was_forced \u001b[38;5;241m=\u001b[39m \u001b[38;5;28;01mFalse\u001b[39;00m\n\u001b[0;32m--> 692\u001b[0m logits \u001b[38;5;241m=\u001b[39m \u001b[38;5;28;43mself\u001b[39;49m\u001b[38;5;241;43m.\u001b[39;49m\u001b[43m_get_logits\u001b[49m\u001b[43m(\u001b[49m\u001b[43mtoken_ids\u001b[49m\u001b[43m,\u001b[49m\u001b[43m \u001b[49m\u001b[43mparser\u001b[49m\u001b[38;5;241;43m.\u001b[39;49m\u001b[43mbytes\u001b[49m\u001b[43m[\u001b[49m\u001b[43mstart_pos\u001b[49m\u001b[43m:\u001b[49m\u001b[43mforced_pos\u001b[49m\u001b[43m]\u001b[49m\u001b[43m)\u001b[49m\n\u001b[1;32m    694\u001b[0m \u001b[38;5;66;03m# if requested we compute the log probabilities so we can track the probabilities of each node\u001b[39;00m\n\u001b[1;32m    695\u001b[0m \u001b[38;5;66;03m# TODO: we should lower this step to C++ with pybind11\u001b[39;00m\n\u001b[1;32m    696\u001b[0m \u001b[38;5;28;01mif\u001b[39;00m log_probs:\n",
      "File \u001b[0;32m~/.conda/envs/guidance/lib/python3.11/site-packages/guidance/models/transformers/_transformers.py:112\u001b[0m, in \u001b[0;36mTransformers._get_logits\u001b[0;34m(self, token_ids, forced_bytes)\u001b[0m\n\u001b[1;32m    110\u001b[0m \u001b[38;5;28;01mif\u001b[39;00m \u001b[38;5;28mlen\u001b[39m(new_token_ids) \u001b[38;5;241m>\u001b[39m \u001b[38;5;241m0\u001b[39m:\n\u001b[1;32m    111\u001b[0m     \u001b[38;5;28;01mwith\u001b[39;00m torch\u001b[38;5;241m.\u001b[39mno_grad():\n\u001b[0;32m--> 112\u001b[0m         model_out \u001b[38;5;241m=\u001b[39m \u001b[38;5;28;43mself\u001b[39;49m\u001b[38;5;241;43m.\u001b[39;49m\u001b[43mmodel_obj\u001b[49m\u001b[43m(\u001b[49m\n\u001b[1;32m    113\u001b[0m \u001b[43m            \u001b[49m\u001b[43minput_ids\u001b[49m\u001b[38;5;241;43m=\u001b[39;49m\u001b[43mtorch\u001b[49m\u001b[38;5;241;43m.\u001b[39;49m\u001b[43mtensor\u001b[49m\u001b[43m(\u001b[49m\u001b[43mnew_token_ids\u001b[49m\u001b[43m)\u001b[49m\u001b[38;5;241;43m.\u001b[39;49m\u001b[43munsqueeze\u001b[49m\u001b[43m(\u001b[49m\u001b[38;5;241;43m0\u001b[39;49m\u001b[43m)\u001b[49m\u001b[38;5;241;43m.\u001b[39;49m\u001b[43mto\u001b[49m\u001b[43m(\u001b[49m\u001b[38;5;28;43mself\u001b[39;49m\u001b[38;5;241;43m.\u001b[39;49m\u001b[43mdevice\u001b[49m\u001b[43m)\u001b[49m\u001b[43m,\u001b[49m\n\u001b[1;32m    114\u001b[0m \u001b[43m            \u001b[49m\u001b[43mpast_key_values\u001b[49m\u001b[38;5;241;43m=\u001b[39;49m\u001b[38;5;28;43mself\u001b[39;49m\u001b[38;5;241;43m.\u001b[39;49m\u001b[43m_cache_state\u001b[49m\u001b[43m[\u001b[49m\u001b[38;5;124;43m\"\u001b[39;49m\u001b[38;5;124;43mpast_key_values\u001b[39;49m\u001b[38;5;124;43m\"\u001b[39;49m\u001b[43m]\u001b[49m\u001b[43m,\u001b[49m\n\u001b[1;32m    115\u001b[0m \u001b[43m            \u001b[49m\u001b[43muse_cache\u001b[49m\u001b[38;5;241;43m=\u001b[39;49m\u001b[38;5;28;43;01mTrue\u001b[39;49;00m\u001b[43m,\u001b[49m\n\u001b[1;32m    116\u001b[0m \u001b[43m            \u001b[49m\u001b[43mposition_ids\u001b[49m\u001b[38;5;241;43m=\u001b[39;49m\u001b[43mtorch\u001b[49m\u001b[38;5;241;43m.\u001b[39;49m\u001b[43marange\u001b[49m\u001b[43m(\u001b[49m\u001b[43mpast_length\u001b[49m\u001b[43m,\u001b[49m\u001b[43m \u001b[49m\u001b[43mpast_length\u001b[49m\u001b[38;5;241;43m+\u001b[39;49m\u001b[38;5;28;43mlen\u001b[39;49m\u001b[43m(\u001b[49m\u001b[43mnew_token_ids\u001b[49m\u001b[43m)\u001b[49m\u001b[43m)\u001b[49m\u001b[38;5;241;43m.\u001b[39;49m\u001b[43munsqueeze\u001b[49m\u001b[43m(\u001b[49m\u001b[38;5;241;43m0\u001b[39;49m\u001b[43m)\u001b[49m\u001b[38;5;241;43m.\u001b[39;49m\u001b[43mto\u001b[49m\u001b[43m(\u001b[49m\u001b[38;5;28;43mself\u001b[39;49m\u001b[38;5;241;43m.\u001b[39;49m\u001b[43mdevice\u001b[49m\u001b[43m)\u001b[49m\u001b[43m,\u001b[49m\n\u001b[1;32m    117\u001b[0m \u001b[43m            \u001b[49m\u001b[43mattention_mask\u001b[49m\u001b[38;5;241;43m=\u001b[39;49m\u001b[43mtorch\u001b[49m\u001b[38;5;241;43m.\u001b[39;49m\u001b[43mones\u001b[49m\u001b[43m(\u001b[49m\u001b[38;5;241;43m1\u001b[39;49m\u001b[43m,\u001b[49m\u001b[43m \u001b[49m\u001b[43mpast_length\u001b[49m\u001b[43m \u001b[49m\u001b[38;5;241;43m+\u001b[39;49m\u001b[43m \u001b[49m\u001b[38;5;28;43mlen\u001b[39;49m\u001b[43m(\u001b[49m\u001b[43mnew_token_ids\u001b[49m\u001b[43m)\u001b[49m\u001b[43m)\u001b[49m\u001b[38;5;241;43m.\u001b[39;49m\u001b[43mto\u001b[49m\u001b[43m(\u001b[49m\u001b[38;5;28;43mself\u001b[39;49m\u001b[38;5;241;43m.\u001b[39;49m\u001b[43mdevice\u001b[49m\u001b[43m)\u001b[49m\u001b[43m,\u001b[49m\n\u001b[1;32m    118\u001b[0m \u001b[43m            \u001b[49m\u001b[43mreturn_dict\u001b[49m\u001b[38;5;241;43m=\u001b[39;49m\u001b[38;5;28;43;01mTrue\u001b[39;49;00m\u001b[43m,\u001b[49m\n\u001b[1;32m    119\u001b[0m \u001b[43m            \u001b[49m\u001b[43moutput_attentions\u001b[49m\u001b[38;5;241;43m=\u001b[39;49m\u001b[38;5;28;43;01mFalse\u001b[39;49;00m\u001b[43m,\u001b[49m\n\u001b[1;32m    120\u001b[0m \u001b[43m            \u001b[49m\u001b[43moutput_hidden_states\u001b[49m\u001b[38;5;241;43m=\u001b[39;49m\u001b[38;5;28;43;01mFalse\u001b[39;49;00m\n\u001b[1;32m    121\u001b[0m \u001b[43m        \u001b[49m\u001b[43m)\u001b[49m\n\u001b[1;32m    123\u001b[0m     \u001b[38;5;66;03m# save the results\u001b[39;00m\n\u001b[1;32m    124\u001b[0m     \u001b[38;5;28mself\u001b[39m\u001b[38;5;241m.\u001b[39m_cache_state[\u001b[38;5;124m\"\u001b[39m\u001b[38;5;124mpast_key_values\u001b[39m\u001b[38;5;124m\"\u001b[39m] \u001b[38;5;241m=\u001b[39m model_out\u001b[38;5;241m.\u001b[39mpast_key_values\n",
      "File \u001b[0;32m~/.conda/envs/guidance/lib/python3.11/site-packages/torch/nn/modules/module.py:1511\u001b[0m, in \u001b[0;36mModule._wrapped_call_impl\u001b[0;34m(self, *args, **kwargs)\u001b[0m\n\u001b[1;32m   1509\u001b[0m     \u001b[38;5;28;01mreturn\u001b[39;00m \u001b[38;5;28mself\u001b[39m\u001b[38;5;241m.\u001b[39m_compiled_call_impl(\u001b[38;5;241m*\u001b[39margs, \u001b[38;5;241m*\u001b[39m\u001b[38;5;241m*\u001b[39mkwargs)  \u001b[38;5;66;03m# type: ignore[misc]\u001b[39;00m\n\u001b[1;32m   1510\u001b[0m \u001b[38;5;28;01melse\u001b[39;00m:\n\u001b[0;32m-> 1511\u001b[0m     \u001b[38;5;28;01mreturn\u001b[39;00m \u001b[38;5;28;43mself\u001b[39;49m\u001b[38;5;241;43m.\u001b[39;49m\u001b[43m_call_impl\u001b[49m\u001b[43m(\u001b[49m\u001b[38;5;241;43m*\u001b[39;49m\u001b[43margs\u001b[49m\u001b[43m,\u001b[49m\u001b[43m \u001b[49m\u001b[38;5;241;43m*\u001b[39;49m\u001b[38;5;241;43m*\u001b[39;49m\u001b[43mkwargs\u001b[49m\u001b[43m)\u001b[49m\n",
      "File \u001b[0;32m~/.conda/envs/guidance/lib/python3.11/site-packages/torch/nn/modules/module.py:1520\u001b[0m, in \u001b[0;36mModule._call_impl\u001b[0;34m(self, *args, **kwargs)\u001b[0m\n\u001b[1;32m   1515\u001b[0m \u001b[38;5;66;03m# If we don't have any hooks, we want to skip the rest of the logic in\u001b[39;00m\n\u001b[1;32m   1516\u001b[0m \u001b[38;5;66;03m# this function, and just call forward.\u001b[39;00m\n\u001b[1;32m   1517\u001b[0m \u001b[38;5;28;01mif\u001b[39;00m \u001b[38;5;129;01mnot\u001b[39;00m (\u001b[38;5;28mself\u001b[39m\u001b[38;5;241m.\u001b[39m_backward_hooks \u001b[38;5;129;01mor\u001b[39;00m \u001b[38;5;28mself\u001b[39m\u001b[38;5;241m.\u001b[39m_backward_pre_hooks \u001b[38;5;129;01mor\u001b[39;00m \u001b[38;5;28mself\u001b[39m\u001b[38;5;241m.\u001b[39m_forward_hooks \u001b[38;5;129;01mor\u001b[39;00m \u001b[38;5;28mself\u001b[39m\u001b[38;5;241m.\u001b[39m_forward_pre_hooks\n\u001b[1;32m   1518\u001b[0m         \u001b[38;5;129;01mor\u001b[39;00m _global_backward_pre_hooks \u001b[38;5;129;01mor\u001b[39;00m _global_backward_hooks\n\u001b[1;32m   1519\u001b[0m         \u001b[38;5;129;01mor\u001b[39;00m _global_forward_hooks \u001b[38;5;129;01mor\u001b[39;00m _global_forward_pre_hooks):\n\u001b[0;32m-> 1520\u001b[0m     \u001b[38;5;28;01mreturn\u001b[39;00m \u001b[43mforward_call\u001b[49m\u001b[43m(\u001b[49m\u001b[38;5;241;43m*\u001b[39;49m\u001b[43margs\u001b[49m\u001b[43m,\u001b[49m\u001b[43m \u001b[49m\u001b[38;5;241;43m*\u001b[39;49m\u001b[38;5;241;43m*\u001b[39;49m\u001b[43mkwargs\u001b[49m\u001b[43m)\u001b[49m\n\u001b[1;32m   1522\u001b[0m \u001b[38;5;28;01mtry\u001b[39;00m:\n\u001b[1;32m   1523\u001b[0m     result \u001b[38;5;241m=\u001b[39m \u001b[38;5;28;01mNone\u001b[39;00m\n",
      "File \u001b[0;32m~/.conda/envs/guidance/lib/python3.11/site-packages/transformers/models/gpt2/modeling_gpt2.py:1074\u001b[0m, in \u001b[0;36mGPT2LMHeadModel.forward\u001b[0;34m(self, input_ids, past_key_values, attention_mask, token_type_ids, position_ids, head_mask, inputs_embeds, encoder_hidden_states, encoder_attention_mask, labels, use_cache, output_attentions, output_hidden_states, return_dict)\u001b[0m\n\u001b[1;32m   1066\u001b[0m \u001b[38;5;250m\u001b[39m\u001b[38;5;124mr\u001b[39m\u001b[38;5;124;03m\"\"\"\u001b[39;00m\n\u001b[1;32m   1067\u001b[0m \u001b[38;5;124;03mlabels (`torch.LongTensor` of shape `(batch_size, sequence_length)`, *optional*):\u001b[39;00m\n\u001b[1;32m   1068\u001b[0m \u001b[38;5;124;03m    Labels for language modeling. Note that the labels **are shifted** inside the model, i.e. you can set\u001b[39;00m\n\u001b[1;32m   1069\u001b[0m \u001b[38;5;124;03m    `labels = input_ids` Indices are selected in `[-100, 0, ..., config.vocab_size]` All labels set to `-100`\u001b[39;00m\n\u001b[1;32m   1070\u001b[0m \u001b[38;5;124;03m    are ignored (masked), the loss is only computed for labels in `[0, ..., config.vocab_size]`\u001b[39;00m\n\u001b[1;32m   1071\u001b[0m \u001b[38;5;124;03m\"\"\"\u001b[39;00m\n\u001b[1;32m   1072\u001b[0m return_dict \u001b[38;5;241m=\u001b[39m return_dict \u001b[38;5;28;01mif\u001b[39;00m return_dict \u001b[38;5;129;01mis\u001b[39;00m \u001b[38;5;129;01mnot\u001b[39;00m \u001b[38;5;28;01mNone\u001b[39;00m \u001b[38;5;28;01melse\u001b[39;00m \u001b[38;5;28mself\u001b[39m\u001b[38;5;241m.\u001b[39mconfig\u001b[38;5;241m.\u001b[39muse_return_dict\n\u001b[0;32m-> 1074\u001b[0m transformer_outputs \u001b[38;5;241m=\u001b[39m \u001b[38;5;28;43mself\u001b[39;49m\u001b[38;5;241;43m.\u001b[39;49m\u001b[43mtransformer\u001b[49m\u001b[43m(\u001b[49m\n\u001b[1;32m   1075\u001b[0m \u001b[43m    \u001b[49m\u001b[43minput_ids\u001b[49m\u001b[43m,\u001b[49m\n\u001b[1;32m   1076\u001b[0m \u001b[43m    \u001b[49m\u001b[43mpast_key_values\u001b[49m\u001b[38;5;241;43m=\u001b[39;49m\u001b[43mpast_key_values\u001b[49m\u001b[43m,\u001b[49m\n\u001b[1;32m   1077\u001b[0m \u001b[43m    \u001b[49m\u001b[43mattention_mask\u001b[49m\u001b[38;5;241;43m=\u001b[39;49m\u001b[43mattention_mask\u001b[49m\u001b[43m,\u001b[49m\n\u001b[1;32m   1078\u001b[0m \u001b[43m    \u001b[49m\u001b[43mtoken_type_ids\u001b[49m\u001b[38;5;241;43m=\u001b[39;49m\u001b[43mtoken_type_ids\u001b[49m\u001b[43m,\u001b[49m\n\u001b[1;32m   1079\u001b[0m \u001b[43m    \u001b[49m\u001b[43mposition_ids\u001b[49m\u001b[38;5;241;43m=\u001b[39;49m\u001b[43mposition_ids\u001b[49m\u001b[43m,\u001b[49m\n\u001b[1;32m   1080\u001b[0m \u001b[43m    \u001b[49m\u001b[43mhead_mask\u001b[49m\u001b[38;5;241;43m=\u001b[39;49m\u001b[43mhead_mask\u001b[49m\u001b[43m,\u001b[49m\n\u001b[1;32m   1081\u001b[0m \u001b[43m    \u001b[49m\u001b[43minputs_embeds\u001b[49m\u001b[38;5;241;43m=\u001b[39;49m\u001b[43minputs_embeds\u001b[49m\u001b[43m,\u001b[49m\n\u001b[1;32m   1082\u001b[0m \u001b[43m    \u001b[49m\u001b[43mencoder_hidden_states\u001b[49m\u001b[38;5;241;43m=\u001b[39;49m\u001b[43mencoder_hidden_states\u001b[49m\u001b[43m,\u001b[49m\n\u001b[1;32m   1083\u001b[0m \u001b[43m    \u001b[49m\u001b[43mencoder_attention_mask\u001b[49m\u001b[38;5;241;43m=\u001b[39;49m\u001b[43mencoder_attention_mask\u001b[49m\u001b[43m,\u001b[49m\n\u001b[1;32m   1084\u001b[0m \u001b[43m    \u001b[49m\u001b[43muse_cache\u001b[49m\u001b[38;5;241;43m=\u001b[39;49m\u001b[43muse_cache\u001b[49m\u001b[43m,\u001b[49m\n\u001b[1;32m   1085\u001b[0m \u001b[43m    \u001b[49m\u001b[43moutput_attentions\u001b[49m\u001b[38;5;241;43m=\u001b[39;49m\u001b[43moutput_attentions\u001b[49m\u001b[43m,\u001b[49m\n\u001b[1;32m   1086\u001b[0m \u001b[43m    \u001b[49m\u001b[43moutput_hidden_states\u001b[49m\u001b[38;5;241;43m=\u001b[39;49m\u001b[43moutput_hidden_states\u001b[49m\u001b[43m,\u001b[49m\n\u001b[1;32m   1087\u001b[0m \u001b[43m    \u001b[49m\u001b[43mreturn_dict\u001b[49m\u001b[38;5;241;43m=\u001b[39;49m\u001b[43mreturn_dict\u001b[49m\u001b[43m,\u001b[49m\n\u001b[1;32m   1088\u001b[0m \u001b[43m\u001b[49m\u001b[43m)\u001b[49m\n\u001b[1;32m   1089\u001b[0m hidden_states \u001b[38;5;241m=\u001b[39m transformer_outputs[\u001b[38;5;241m0\u001b[39m]\n\u001b[1;32m   1091\u001b[0m \u001b[38;5;66;03m# Set device for model parallelism\u001b[39;00m\n",
      "File \u001b[0;32m~/.conda/envs/guidance/lib/python3.11/site-packages/torch/nn/modules/module.py:1511\u001b[0m, in \u001b[0;36mModule._wrapped_call_impl\u001b[0;34m(self, *args, **kwargs)\u001b[0m\n\u001b[1;32m   1509\u001b[0m     \u001b[38;5;28;01mreturn\u001b[39;00m \u001b[38;5;28mself\u001b[39m\u001b[38;5;241m.\u001b[39m_compiled_call_impl(\u001b[38;5;241m*\u001b[39margs, \u001b[38;5;241m*\u001b[39m\u001b[38;5;241m*\u001b[39mkwargs)  \u001b[38;5;66;03m# type: ignore[misc]\u001b[39;00m\n\u001b[1;32m   1510\u001b[0m \u001b[38;5;28;01melse\u001b[39;00m:\n\u001b[0;32m-> 1511\u001b[0m     \u001b[38;5;28;01mreturn\u001b[39;00m \u001b[38;5;28;43mself\u001b[39;49m\u001b[38;5;241;43m.\u001b[39;49m\u001b[43m_call_impl\u001b[49m\u001b[43m(\u001b[49m\u001b[38;5;241;43m*\u001b[39;49m\u001b[43margs\u001b[49m\u001b[43m,\u001b[49m\u001b[43m \u001b[49m\u001b[38;5;241;43m*\u001b[39;49m\u001b[38;5;241;43m*\u001b[39;49m\u001b[43mkwargs\u001b[49m\u001b[43m)\u001b[49m\n",
      "File \u001b[0;32m~/.conda/envs/guidance/lib/python3.11/site-packages/torch/nn/modules/module.py:1520\u001b[0m, in \u001b[0;36mModule._call_impl\u001b[0;34m(self, *args, **kwargs)\u001b[0m\n\u001b[1;32m   1515\u001b[0m \u001b[38;5;66;03m# If we don't have any hooks, we want to skip the rest of the logic in\u001b[39;00m\n\u001b[1;32m   1516\u001b[0m \u001b[38;5;66;03m# this function, and just call forward.\u001b[39;00m\n\u001b[1;32m   1517\u001b[0m \u001b[38;5;28;01mif\u001b[39;00m \u001b[38;5;129;01mnot\u001b[39;00m (\u001b[38;5;28mself\u001b[39m\u001b[38;5;241m.\u001b[39m_backward_hooks \u001b[38;5;129;01mor\u001b[39;00m \u001b[38;5;28mself\u001b[39m\u001b[38;5;241m.\u001b[39m_backward_pre_hooks \u001b[38;5;129;01mor\u001b[39;00m \u001b[38;5;28mself\u001b[39m\u001b[38;5;241m.\u001b[39m_forward_hooks \u001b[38;5;129;01mor\u001b[39;00m \u001b[38;5;28mself\u001b[39m\u001b[38;5;241m.\u001b[39m_forward_pre_hooks\n\u001b[1;32m   1518\u001b[0m         \u001b[38;5;129;01mor\u001b[39;00m _global_backward_pre_hooks \u001b[38;5;129;01mor\u001b[39;00m _global_backward_hooks\n\u001b[1;32m   1519\u001b[0m         \u001b[38;5;129;01mor\u001b[39;00m _global_forward_hooks \u001b[38;5;129;01mor\u001b[39;00m _global_forward_pre_hooks):\n\u001b[0;32m-> 1520\u001b[0m     \u001b[38;5;28;01mreturn\u001b[39;00m \u001b[43mforward_call\u001b[49m\u001b[43m(\u001b[49m\u001b[38;5;241;43m*\u001b[39;49m\u001b[43margs\u001b[49m\u001b[43m,\u001b[49m\u001b[43m \u001b[49m\u001b[38;5;241;43m*\u001b[39;49m\u001b[38;5;241;43m*\u001b[39;49m\u001b[43mkwargs\u001b[49m\u001b[43m)\u001b[49m\n\u001b[1;32m   1522\u001b[0m \u001b[38;5;28;01mtry\u001b[39;00m:\n\u001b[1;32m   1523\u001b[0m     result \u001b[38;5;241m=\u001b[39m \u001b[38;5;28;01mNone\u001b[39;00m\n",
      "File \u001b[0;32m~/.conda/envs/guidance/lib/python3.11/site-packages/transformers/models/gpt2/modeling_gpt2.py:888\u001b[0m, in \u001b[0;36mGPT2Model.forward\u001b[0;34m(self, input_ids, past_key_values, attention_mask, token_type_ids, position_ids, head_mask, inputs_embeds, encoder_hidden_states, encoder_attention_mask, use_cache, output_attentions, output_hidden_states, return_dict)\u001b[0m\n\u001b[1;32m    876\u001b[0m     outputs \u001b[38;5;241m=\u001b[39m \u001b[38;5;28mself\u001b[39m\u001b[38;5;241m.\u001b[39m_gradient_checkpointing_func(\n\u001b[1;32m    877\u001b[0m         block\u001b[38;5;241m.\u001b[39m\u001b[38;5;21m__call__\u001b[39m,\n\u001b[1;32m    878\u001b[0m         hidden_states,\n\u001b[0;32m   (...)\u001b[0m\n\u001b[1;32m    885\u001b[0m         output_attentions,\n\u001b[1;32m    886\u001b[0m     )\n\u001b[1;32m    887\u001b[0m \u001b[38;5;28;01melse\u001b[39;00m:\n\u001b[0;32m--> 888\u001b[0m     outputs \u001b[38;5;241m=\u001b[39m \u001b[43mblock\u001b[49m\u001b[43m(\u001b[49m\n\u001b[1;32m    889\u001b[0m \u001b[43m        \u001b[49m\u001b[43mhidden_states\u001b[49m\u001b[43m,\u001b[49m\n\u001b[1;32m    890\u001b[0m \u001b[43m        \u001b[49m\u001b[43mlayer_past\u001b[49m\u001b[38;5;241;43m=\u001b[39;49m\u001b[43mlayer_past\u001b[49m\u001b[43m,\u001b[49m\n\u001b[1;32m    891\u001b[0m \u001b[43m        \u001b[49m\u001b[43mattention_mask\u001b[49m\u001b[38;5;241;43m=\u001b[39;49m\u001b[43mattention_mask\u001b[49m\u001b[43m,\u001b[49m\n\u001b[1;32m    892\u001b[0m \u001b[43m        \u001b[49m\u001b[43mhead_mask\u001b[49m\u001b[38;5;241;43m=\u001b[39;49m\u001b[43mhead_mask\u001b[49m\u001b[43m[\u001b[49m\u001b[43mi\u001b[49m\u001b[43m]\u001b[49m\u001b[43m,\u001b[49m\n\u001b[1;32m    893\u001b[0m \u001b[43m        \u001b[49m\u001b[43mencoder_hidden_states\u001b[49m\u001b[38;5;241;43m=\u001b[39;49m\u001b[43mencoder_hidden_states\u001b[49m\u001b[43m,\u001b[49m\n\u001b[1;32m    894\u001b[0m \u001b[43m        \u001b[49m\u001b[43mencoder_attention_mask\u001b[49m\u001b[38;5;241;43m=\u001b[39;49m\u001b[43mencoder_attention_mask\u001b[49m\u001b[43m,\u001b[49m\n\u001b[1;32m    895\u001b[0m \u001b[43m        \u001b[49m\u001b[43muse_cache\u001b[49m\u001b[38;5;241;43m=\u001b[39;49m\u001b[43muse_cache\u001b[49m\u001b[43m,\u001b[49m\n\u001b[1;32m    896\u001b[0m \u001b[43m        \u001b[49m\u001b[43moutput_attentions\u001b[49m\u001b[38;5;241;43m=\u001b[39;49m\u001b[43moutput_attentions\u001b[49m\u001b[43m,\u001b[49m\n\u001b[1;32m    897\u001b[0m \u001b[43m    \u001b[49m\u001b[43m)\u001b[49m\n\u001b[1;32m    899\u001b[0m hidden_states \u001b[38;5;241m=\u001b[39m outputs[\u001b[38;5;241m0\u001b[39m]\n\u001b[1;32m    900\u001b[0m \u001b[38;5;28;01mif\u001b[39;00m use_cache \u001b[38;5;129;01mis\u001b[39;00m \u001b[38;5;28;01mTrue\u001b[39;00m:\n",
      "File \u001b[0;32m~/.conda/envs/guidance/lib/python3.11/site-packages/torch/nn/modules/module.py:1511\u001b[0m, in \u001b[0;36mModule._wrapped_call_impl\u001b[0;34m(self, *args, **kwargs)\u001b[0m\n\u001b[1;32m   1509\u001b[0m     \u001b[38;5;28;01mreturn\u001b[39;00m \u001b[38;5;28mself\u001b[39m\u001b[38;5;241m.\u001b[39m_compiled_call_impl(\u001b[38;5;241m*\u001b[39margs, \u001b[38;5;241m*\u001b[39m\u001b[38;5;241m*\u001b[39mkwargs)  \u001b[38;5;66;03m# type: ignore[misc]\u001b[39;00m\n\u001b[1;32m   1510\u001b[0m \u001b[38;5;28;01melse\u001b[39;00m:\n\u001b[0;32m-> 1511\u001b[0m     \u001b[38;5;28;01mreturn\u001b[39;00m \u001b[38;5;28;43mself\u001b[39;49m\u001b[38;5;241;43m.\u001b[39;49m\u001b[43m_call_impl\u001b[49m\u001b[43m(\u001b[49m\u001b[38;5;241;43m*\u001b[39;49m\u001b[43margs\u001b[49m\u001b[43m,\u001b[49m\u001b[43m \u001b[49m\u001b[38;5;241;43m*\u001b[39;49m\u001b[38;5;241;43m*\u001b[39;49m\u001b[43mkwargs\u001b[49m\u001b[43m)\u001b[49m\n",
      "File \u001b[0;32m~/.conda/envs/guidance/lib/python3.11/site-packages/torch/nn/modules/module.py:1520\u001b[0m, in \u001b[0;36mModule._call_impl\u001b[0;34m(self, *args, **kwargs)\u001b[0m\n\u001b[1;32m   1515\u001b[0m \u001b[38;5;66;03m# If we don't have any hooks, we want to skip the rest of the logic in\u001b[39;00m\n\u001b[1;32m   1516\u001b[0m \u001b[38;5;66;03m# this function, and just call forward.\u001b[39;00m\n\u001b[1;32m   1517\u001b[0m \u001b[38;5;28;01mif\u001b[39;00m \u001b[38;5;129;01mnot\u001b[39;00m (\u001b[38;5;28mself\u001b[39m\u001b[38;5;241m.\u001b[39m_backward_hooks \u001b[38;5;129;01mor\u001b[39;00m \u001b[38;5;28mself\u001b[39m\u001b[38;5;241m.\u001b[39m_backward_pre_hooks \u001b[38;5;129;01mor\u001b[39;00m \u001b[38;5;28mself\u001b[39m\u001b[38;5;241m.\u001b[39m_forward_hooks \u001b[38;5;129;01mor\u001b[39;00m \u001b[38;5;28mself\u001b[39m\u001b[38;5;241m.\u001b[39m_forward_pre_hooks\n\u001b[1;32m   1518\u001b[0m         \u001b[38;5;129;01mor\u001b[39;00m _global_backward_pre_hooks \u001b[38;5;129;01mor\u001b[39;00m _global_backward_hooks\n\u001b[1;32m   1519\u001b[0m         \u001b[38;5;129;01mor\u001b[39;00m _global_forward_hooks \u001b[38;5;129;01mor\u001b[39;00m _global_forward_pre_hooks):\n\u001b[0;32m-> 1520\u001b[0m     \u001b[38;5;28;01mreturn\u001b[39;00m \u001b[43mforward_call\u001b[49m\u001b[43m(\u001b[49m\u001b[38;5;241;43m*\u001b[39;49m\u001b[43margs\u001b[49m\u001b[43m,\u001b[49m\u001b[43m \u001b[49m\u001b[38;5;241;43m*\u001b[39;49m\u001b[38;5;241;43m*\u001b[39;49m\u001b[43mkwargs\u001b[49m\u001b[43m)\u001b[49m\n\u001b[1;32m   1522\u001b[0m \u001b[38;5;28;01mtry\u001b[39;00m:\n\u001b[1;32m   1523\u001b[0m     result \u001b[38;5;241m=\u001b[39m \u001b[38;5;28;01mNone\u001b[39;00m\n",
      "File \u001b[0;32m~/.conda/envs/guidance/lib/python3.11/site-packages/transformers/models/gpt2/modeling_gpt2.py:390\u001b[0m, in \u001b[0;36mGPT2Block.forward\u001b[0;34m(self, hidden_states, layer_past, attention_mask, head_mask, encoder_hidden_states, encoder_attention_mask, use_cache, output_attentions)\u001b[0m\n\u001b[1;32m    388\u001b[0m residual \u001b[38;5;241m=\u001b[39m hidden_states\n\u001b[1;32m    389\u001b[0m hidden_states \u001b[38;5;241m=\u001b[39m \u001b[38;5;28mself\u001b[39m\u001b[38;5;241m.\u001b[39mln_1(hidden_states)\n\u001b[0;32m--> 390\u001b[0m attn_outputs \u001b[38;5;241m=\u001b[39m \u001b[38;5;28;43mself\u001b[39;49m\u001b[38;5;241;43m.\u001b[39;49m\u001b[43mattn\u001b[49m\u001b[43m(\u001b[49m\n\u001b[1;32m    391\u001b[0m \u001b[43m    \u001b[49m\u001b[43mhidden_states\u001b[49m\u001b[43m,\u001b[49m\n\u001b[1;32m    392\u001b[0m \u001b[43m    \u001b[49m\u001b[43mlayer_past\u001b[49m\u001b[38;5;241;43m=\u001b[39;49m\u001b[43mlayer_past\u001b[49m\u001b[43m,\u001b[49m\n\u001b[1;32m    393\u001b[0m \u001b[43m    \u001b[49m\u001b[43mattention_mask\u001b[49m\u001b[38;5;241;43m=\u001b[39;49m\u001b[43mattention_mask\u001b[49m\u001b[43m,\u001b[49m\n\u001b[1;32m    394\u001b[0m \u001b[43m    \u001b[49m\u001b[43mhead_mask\u001b[49m\u001b[38;5;241;43m=\u001b[39;49m\u001b[43mhead_mask\u001b[49m\u001b[43m,\u001b[49m\n\u001b[1;32m    395\u001b[0m \u001b[43m    \u001b[49m\u001b[43muse_cache\u001b[49m\u001b[38;5;241;43m=\u001b[39;49m\u001b[43muse_cache\u001b[49m\u001b[43m,\u001b[49m\n\u001b[1;32m    396\u001b[0m \u001b[43m    \u001b[49m\u001b[43moutput_attentions\u001b[49m\u001b[38;5;241;43m=\u001b[39;49m\u001b[43moutput_attentions\u001b[49m\u001b[43m,\u001b[49m\n\u001b[1;32m    397\u001b[0m \u001b[43m\u001b[49m\u001b[43m)\u001b[49m\n\u001b[1;32m    398\u001b[0m attn_output \u001b[38;5;241m=\u001b[39m attn_outputs[\u001b[38;5;241m0\u001b[39m]  \u001b[38;5;66;03m# output_attn: a, present, (attentions)\u001b[39;00m\n\u001b[1;32m    399\u001b[0m outputs \u001b[38;5;241m=\u001b[39m attn_outputs[\u001b[38;5;241m1\u001b[39m:]\n",
      "File \u001b[0;32m~/.conda/envs/guidance/lib/python3.11/site-packages/torch/nn/modules/module.py:1511\u001b[0m, in \u001b[0;36mModule._wrapped_call_impl\u001b[0;34m(self, *args, **kwargs)\u001b[0m\n\u001b[1;32m   1509\u001b[0m     \u001b[38;5;28;01mreturn\u001b[39;00m \u001b[38;5;28mself\u001b[39m\u001b[38;5;241m.\u001b[39m_compiled_call_impl(\u001b[38;5;241m*\u001b[39margs, \u001b[38;5;241m*\u001b[39m\u001b[38;5;241m*\u001b[39mkwargs)  \u001b[38;5;66;03m# type: ignore[misc]\u001b[39;00m\n\u001b[1;32m   1510\u001b[0m \u001b[38;5;28;01melse\u001b[39;00m:\n\u001b[0;32m-> 1511\u001b[0m     \u001b[38;5;28;01mreturn\u001b[39;00m \u001b[38;5;28;43mself\u001b[39;49m\u001b[38;5;241;43m.\u001b[39;49m\u001b[43m_call_impl\u001b[49m\u001b[43m(\u001b[49m\u001b[38;5;241;43m*\u001b[39;49m\u001b[43margs\u001b[49m\u001b[43m,\u001b[49m\u001b[43m \u001b[49m\u001b[38;5;241;43m*\u001b[39;49m\u001b[38;5;241;43m*\u001b[39;49m\u001b[43mkwargs\u001b[49m\u001b[43m)\u001b[49m\n",
      "File \u001b[0;32m~/.conda/envs/guidance/lib/python3.11/site-packages/torch/nn/modules/module.py:1520\u001b[0m, in \u001b[0;36mModule._call_impl\u001b[0;34m(self, *args, **kwargs)\u001b[0m\n\u001b[1;32m   1515\u001b[0m \u001b[38;5;66;03m# If we don't have any hooks, we want to skip the rest of the logic in\u001b[39;00m\n\u001b[1;32m   1516\u001b[0m \u001b[38;5;66;03m# this function, and just call forward.\u001b[39;00m\n\u001b[1;32m   1517\u001b[0m \u001b[38;5;28;01mif\u001b[39;00m \u001b[38;5;129;01mnot\u001b[39;00m (\u001b[38;5;28mself\u001b[39m\u001b[38;5;241m.\u001b[39m_backward_hooks \u001b[38;5;129;01mor\u001b[39;00m \u001b[38;5;28mself\u001b[39m\u001b[38;5;241m.\u001b[39m_backward_pre_hooks \u001b[38;5;129;01mor\u001b[39;00m \u001b[38;5;28mself\u001b[39m\u001b[38;5;241m.\u001b[39m_forward_hooks \u001b[38;5;129;01mor\u001b[39;00m \u001b[38;5;28mself\u001b[39m\u001b[38;5;241m.\u001b[39m_forward_pre_hooks\n\u001b[1;32m   1518\u001b[0m         \u001b[38;5;129;01mor\u001b[39;00m _global_backward_pre_hooks \u001b[38;5;129;01mor\u001b[39;00m _global_backward_hooks\n\u001b[1;32m   1519\u001b[0m         \u001b[38;5;129;01mor\u001b[39;00m _global_forward_hooks \u001b[38;5;129;01mor\u001b[39;00m _global_forward_pre_hooks):\n\u001b[0;32m-> 1520\u001b[0m     \u001b[38;5;28;01mreturn\u001b[39;00m \u001b[43mforward_call\u001b[49m\u001b[43m(\u001b[49m\u001b[38;5;241;43m*\u001b[39;49m\u001b[43margs\u001b[49m\u001b[43m,\u001b[49m\u001b[43m \u001b[49m\u001b[38;5;241;43m*\u001b[39;49m\u001b[38;5;241;43m*\u001b[39;49m\u001b[43mkwargs\u001b[49m\u001b[43m)\u001b[49m\n\u001b[1;32m   1522\u001b[0m \u001b[38;5;28;01mtry\u001b[39;00m:\n\u001b[1;32m   1523\u001b[0m     result \u001b[38;5;241m=\u001b[39m \u001b[38;5;28;01mNone\u001b[39;00m\n",
      "File \u001b[0;32m~/.conda/envs/guidance/lib/python3.11/site-packages/transformers/models/gpt2/modeling_gpt2.py:321\u001b[0m, in \u001b[0;36mGPT2Attention.forward\u001b[0;34m(self, hidden_states, layer_past, attention_mask, head_mask, encoder_hidden_states, encoder_attention_mask, use_cache, output_attentions)\u001b[0m\n\u001b[1;32m    319\u001b[0m     past_key, past_value \u001b[38;5;241m=\u001b[39m layer_past\n\u001b[1;32m    320\u001b[0m     key \u001b[38;5;241m=\u001b[39m torch\u001b[38;5;241m.\u001b[39mcat((past_key, key), dim\u001b[38;5;241m=\u001b[39m\u001b[38;5;241m-\u001b[39m\u001b[38;5;241m2\u001b[39m)\n\u001b[0;32m--> 321\u001b[0m     value \u001b[38;5;241m=\u001b[39m \u001b[43mtorch\u001b[49m\u001b[38;5;241;43m.\u001b[39;49m\u001b[43mcat\u001b[49m\u001b[43m(\u001b[49m\u001b[43m(\u001b[49m\u001b[43mpast_value\u001b[49m\u001b[43m,\u001b[49m\u001b[43m \u001b[49m\u001b[43mvalue\u001b[49m\u001b[43m)\u001b[49m\u001b[43m,\u001b[49m\u001b[43m \u001b[49m\u001b[43mdim\u001b[49m\u001b[38;5;241;43m=\u001b[39;49m\u001b[38;5;241;43m-\u001b[39;49m\u001b[38;5;241;43m2\u001b[39;49m\u001b[43m)\u001b[49m\n\u001b[1;32m    323\u001b[0m \u001b[38;5;28;01mif\u001b[39;00m use_cache \u001b[38;5;129;01mis\u001b[39;00m \u001b[38;5;28;01mTrue\u001b[39;00m:\n\u001b[1;32m    324\u001b[0m     present \u001b[38;5;241m=\u001b[39m (key, value)\n",
      "\u001b[0;31mOutOfMemoryError\u001b[0m: CUDA out of memory. Tried to allocate 20.00 MiB. GPU 0 has a total capacity of 3.81 GiB of which 12.00 MiB is free. Including non-PyTorch memory, this process has 3.79 GiB memory in use. Of the allocated memory 3.55 GiB is allocated by PyTorch, and 187.07 MiB is reserved by PyTorch but unallocated. If reserved but unallocated memory is large try setting PYTORCH_CUDA_ALLOC_CONF=expandable_segments:True to avoid fragmentation.  See documentation for Memory Management  (https://pytorch.org/docs/stable/notes/cuda.html#environment-variables)"
     ]
    }
   ],
   "source": [
    "df_topic_keywords_docs = df_topics.select('Topic', 'Representation', 'Representative_Docs')\n",
    "\n",
    "lm = gpt2 + generate_topic_titles(summary['topic'], summary['conversation-description'], df_topic_keywords_docs)"
   ]
  },
  {
   "cell_type": "markdown",
   "metadata": {},
   "source": [
    "## Chat Instruction Format\n",
    "\n",
    "So far, we used the completion technique to present a portion of the text to the model and have it generate text that best completes the content. In the following tests, we will use the chat instruction format instead. This is an interactive techqiue that starts with an instructional prompt, and then allows a conversation between user and assistant. Using guidance framework, we still control the content that is placed in assistant's context, but it allows for a more natural conversation flow and enables the model to better understand the task."
   ]
  },
  {
   "cell_type": "markdown",
   "metadata": {},
   "source": [
    "### Mistral without context reset"
   ]
  },
  {
   "cell_type": "code",
   "execution_count": null,
   "metadata": {
    "vscode": {
     "languageId": "python"
    }
   },
   "outputs": [
    {
     "data": {
      "text/html": [
       "<pre style='margin: 0px; padding: 0px; vertical-align: middle; padding-left: 8px; margin-left: -8px; border-radius: 0px; border-left: 1px solid rgba(127, 127, 127, 0.2); white-space: pre-wrap; font-family: ColfaxAI, Arial; font-size: 15px; line-height: 23px;'><div style='display: flex; border-bottom: 1px solid rgba(127, 127, 127, 0.2); align-items: center;'><div style='flex: 0 0 80px; opacity: 0.5;'>instruction</div><div style='flex-grow: 1; padding: 5px; padding-top: 10px; padding-bottom: 10px; margin-top: 0px; white-space: pre-wrap; margin-bottom: 0px;'>Respond with a detailed title and a short label to best represent the each given topic.\n",
       "Avoid repetitive words such as &quot;Enhancing&quot; or &quot;Improving&quot;.\n",
       "Start title with a noun.\n",
       "Label should be terse and up to 4 words.\n",
       "Do not output any of the following words: &quot;improving, bowling, green, warren, county&quot;\n",
       "</div></div><div style='display: flex; border-bottom: 1px solid rgba(127, 127, 127, 0.2); align-items: center;'><div style='flex: 0 0 80px; opacity: 0.5;'>user</div><div style='flex-grow: 1; padding: 5px; padding-top: 10px; padding-bottom: 10px; margin-top: 0px; white-space: pre-wrap; margin-bottom: 0px;'>The following is a dataset of comments from an online discussion.\n",
       "Discussion Question: What do you believe should change in Bowling Green/Warren County in order to make it a better place to live, work and spend time?\n",
       "\n",
       "KEYWORDS: [a set of keywords that describe the topic]\n",
       "SAMPLE STATEMENTS: [a set of statements that best represent the topic]\n",
       "</div></div><div style='display: flex; border-bottom: 1px solid rgba(127, 127, 127, 0.2); align-items: center;'><div style='flex: 0 0 80px; opacity: 0.5;'>assistant</div><div style='flex-grow: 1; padding: 5px; padding-top: 10px; padding-bottom: 10px; margin-top: 0px; white-space: pre-wrap; margin-bottom: 0px;'>TITLE: [a descriptive sentence that represents the topic]\n",
       "LABEL: [terse phrase]\n",
       "</div></div><div style='display: flex; border-bottom: 1px solid rgba(127, 127, 127, 0.2); align-items: center;'><div style='flex: 0 0 80px; opacity: 0.5;'>user</div><div style='flex-grow: 1; padding: 5px; padding-top: 10px; padding-bottom: 10px; margin-top: 0px; white-space: pre-wrap; margin-bottom: 0px;'>\n",
       "# Topic 0 \n",
       "KEYWORDS: school, education, students, schools, program, arts, public, campus, community, parents\n",
       "SAMPLE STATEMENTS: Future charter schools would be a financial burden to public school funding, unless they are held to accountability by local school boards.; Provide a food assistance program for college students as students lots of times do not qualify for food stamps due to living on campus; Public school systems need to provide more funding for art education programs, such as music, theater, and visual arts.\n",
       "</div></div><div style='display: flex; border-bottom: 1px solid rgba(127, 127, 127, 0.2); align-items: center;'><div style='flex: 0 0 80px; opacity: 0.5;'>assistant</div><div style='flex-grow: 1; padding: 5px; padding-top: 10px; padding-bottom: 10px; margin-top: 0px; white-space: pre-wrap; margin-bottom: 0px;'>TITLE:<span style='background-color: rgba(0.0, 165.0, 0, 0.15); border-radius: 3px;' title='1.0'> En</span><span style='background-color: rgba(0.0, 165.0, 0, 0.15); border-radius: 3px;' title='1.0'>h</span><span style='background-color: rgba(0.0, 165.0, 0, 0.15); border-radius: 3px;' title='1.0'>ancing</span><span style='background-color: rgba(0.0, 165.0, 0, 0.15); border-radius: 3px;' title='1.0'> Educ</span><span style='background-color: rgba(0.0, 165.0, 0, 0.15); border-radius: 3px;' title='1.0'>ational</span><span style='background-color: rgba(0.0, 165.0, 0, 0.15); border-radius: 3px;' title='1.0'> Op</span><span style='background-color: rgba(0.0, 165.0, 0, 0.15); border-radius: 3px;' title='1.0'>portun</span><span style='background-color: rgba(0.0, 165.0, 0, 0.15); border-radius: 3px;' title='1.0'>ities</span>\n",
       "LABEL:<span style='background-color: rgba(0.0, 165.0, 0, 0.15); border-radius: 3px;' title='1.0'> Education</span><span style='background-color: rgba(0.0, 165.0, 0, 0.15); border-radius: 3px;' title='1.0'> Fund</span><span style='background-color: rgba(0.0, 165.0, 0, 0.15); border-radius: 3px;' title='1.0'>ing</span>\n",
       "</div></div><div style='display: flex; border-bottom: 1px solid rgba(127, 127, 127, 0.2); align-items: center;'><div style='flex: 0 0 80px; opacity: 0.5;'>user</div><div style='flex-grow: 1; padding: 5px; padding-top: 10px; padding-bottom: 10px; margin-top: 0px; white-space: pre-wrap; margin-bottom: 0px;'>\n",
       "# Topic 1 \n",
       "KEYWORDS: rental, city, jobs, residents, services, population, water, grants, units, housing\n",
       "SAMPLE STATEMENTS: Rental property taxes should be reduced for private landlords to encourage them to develop more, as opposed to large ones like Chandler.; Overdevelopment of rental property is detrimental to cities.  Renters do not pay property tax.  Schools suffer when the tax base is eroded.; We must ensure historic preservation codes are properly enforced in our historic districts; lack of consistency erodes our unique aesthetic.\n",
       "</div></div><div style='display: flex; border-bottom: 1px solid rgba(127, 127, 127, 0.2); align-items: center;'><div style='flex: 0 0 80px; opacity: 0.5;'>assistant</div><div style='flex-grow: 1; padding: 5px; padding-top: 10px; padding-bottom: 10px; margin-top: 0px; white-space: pre-wrap; margin-bottom: 0px;'>TITLE:<span style='background-color: rgba(0.0, 165.0, 0, 0.15); border-radius: 3px;' title='1.0'> Man</span><span style='background-color: rgba(0.0, 165.0, 0, 0.15); border-radius: 3px;' title='1.0'>aging</span><span style='background-color: rgba(0.0, 165.0, 0, 0.15); border-radius: 3px;' title='1.0'> R</span><span style='background-color: rgba(0.0, 165.0, 0, 0.15); border-radius: 3px;' title='1.0'>ental</span><span style='background-color: rgba(0.0, 165.0, 0, 0.15); border-radius: 3px;' title='1.0'> Property</span><span style='background-color: rgba(0.0, 165.0, 0, 0.15); border-radius: 3px;' title='1.0'> Development</span>\n",
       "LABEL:<span style='background-color: rgba(0.0, 165.0, 0, 0.15); border-radius: 3px;' title='1.0'> R</span><span style='background-color: rgba(0.0, 165.0, 0, 0.15); border-radius: 3px;' title='1.0'>ental</span><span style='background-color: rgba(0.0, 165.0, 0, 0.15); border-radius: 3px;' title='1.0'> Tax</span><span style='background-color: rgba(0.0, 165.0, 0, 0.15); border-radius: 3px;' title='1.0'>es</span>\n",
       "</div></div><div style='display: flex; border-bottom: 1px solid rgba(127, 127, 127, 0.2); align-items: center;'><div style='flex: 0 0 80px; opacity: 0.5;'>user</div><div style='flex-grow: 1; padding: 5px; padding-top: 10px; padding-bottom: 10px; margin-top: 0px; white-space: pre-wrap; margin-bottom: 0px;'>\n",
       "# Topic 2 \n",
       "KEYWORDS: roads, sidewalks, traffic, cars, areas, lights, stop, drivers, street, roadways\n",
       "SAMPLE STATEMENTS: We need to SHADE street lamps. This actually increases visibility, reduces glare, and saves energy/ money. Using LEDs would save money, too.; Busy roads like the by pass either need turn lanes or block left hand turns except at stop lights.; Install new sidewalks along major roads, like Three Springs, and city-wide bike routes, to decrease likelihood of accidents\n",
       "</div></div><div style='display: flex; border-bottom: 1px solid rgba(127, 127, 127, 0.2); align-items: center;'><div style='flex: 0 0 80px; opacity: 0.5;'>assistant</div><div style='flex-grow: 1; padding: 5px; padding-top: 10px; padding-bottom: 10px; margin-top: 0px; white-space: pre-wrap; margin-bottom: 0px;'>TITLE:<span style='background-color: rgba(0.0, 165.0, 0, 0.15); border-radius: 3px;' title='1.0'> Impro</span><span style='background-color: rgba(0.0, 165.0, 0, 0.15); border-radius: 3px;' title='1.0'>ving</span><span style='background-color: rgba(0.0, 165.0, 0, 0.15); border-radius: 3px;' title='1.0'> Road</span><span style='background-color: rgba(0.0, 165.0, 0, 0.15); border-radius: 3px;' title='1.0'> In</span><span style='background-color: rgba(0.0, 165.0, 0, 0.15); border-radius: 3px;' title='1.0'>frastructure</span>\n",
       "LABEL:<span style='background-color: rgba(0.0, 165.0, 0, 0.15); border-radius: 3px;' title='1.0'> Road</span><span style='background-color: rgba(0.0, 165.0, 0, 0.15); border-radius: 3px;' title='1.0'> Safety</span>\n",
       "</div></div><div style='display: flex; border-bottom: 1px solid rgba(127, 127, 127, 0.2); align-items: center;'><div style='flex: 0 0 80px; opacity: 0.5;'>user</div><div style='flex-grow: 1; padding: 5px; padding-top: 10px; padding-bottom: 10px; margin-top: 0px; white-space: pre-wrap; margin-bottom: 0px;'>\n",
       "# Topic 3 \n",
       "KEYWORDS: ordinance, fairness, complex, separation, food, facilities, ideas, use, city, sports\n",
       "SAMPLE STATEMENTS: Bowling Green City Commission needs to pass an ordinance banning the sale or use of large fireworks in the city limits.; The city should craft a very simple fairness ordinance, saying no discrimination acquiring housing, but not giving LGBTQ EEOC Bypass @work; NO to the &quot;Fairness&quot; Ordinance. Current law is sufficient.  ZERO reported instances where LGBTQ people have been discriminated against in BG\n",
       "</div></div><div style='display: flex; border-bottom: 1px solid rgba(127, 127, 127, 0.2); align-items: center;'><div style='flex: 0 0 80px; opacity: 0.5;'>assistant</div><div style='flex-grow: 1; padding: 5px; padding-top: 10px; padding-bottom: 10px; margin-top: 0px; white-space: pre-wrap; margin-bottom: 0px;'>TITLE:<span style='background-color: rgba(0.0, 165.0, 0, 0.15); border-radius: 3px;' title='1.0'> Reg</span><span style='background-color: rgba(0.0, 165.0, 0, 0.15); border-radius: 3px;' title='1.0'>ulating</span><span style='background-color: rgba(0.0, 165.0, 0, 0.15); border-radius: 3px;' title='1.0'> Community</span><span style='background-color: rgba(0.0, 165.0, 0, 0.15); border-radius: 3px;' title='1.0'> Ord</span><span style='background-color: rgba(0.0, 165.0, 0, 0.15); border-radius: 3px;' title='1.0'>in</span><span style='background-color: rgba(0.0, 165.0, 0, 0.15); border-radius: 3px;' title='1.0'>ances</span>\n",
       "LABEL:<span style='background-color: rgba(0.0, 165.0, 0, 0.15); border-radius: 3px;' title='1.0'> Community</span><span style='background-color: rgba(0.0, 165.0, 0, 0.15); border-radius: 3px;' title='1.0'> Reg</span><span style='background-color: rgba(0.0, 165.0, 0, 0.15); border-radius: 3px;' title='1.0'>ulations</span>\n",
       "</div></div><div style='display: flex; border-bottom: 1px solid rgba(127, 127, 127, 0.2); align-items: center;'><div style='flex: 0 0 80px; opacity: 0.5;'>user</div><div style='flex-grow: 1; padding: 5px; padding-top: 10px; padding-bottom: 10px; margin-top: 0px; white-space: pre-wrap; margin-bottom: 0px;'>\n",
       "# Topic 4 \n",
       "KEYWORDS: road, lane, traffic, bypass, cemetery, intersection, access, congestion, light, park\n",
       "SAMPLE STATEMENTS: Widen Cemetry Road, Russellville Road, Lover’s Lane, Campbell Lane, The Old ByPass, and Scotsville Road from old ByPass to Natcher Parkway.; Make it a walking city. Sidewalks along the main avenues (scottsville rd, campbell ln, 31 bypass) with plants, benches, art pieces.; Access Rd, east side of Scottsville Rd. in shopping dist causes congestion. Give right of way to access road or cross streets, not a mix!\n",
       "</div></div><div style='display: flex; border-bottom: 1px solid rgba(127, 127, 127, 0.2); align-items: center;'><div style='flex: 0 0 80px; opacity: 0.5;'>assistant</div><div style='flex-grow: 1; padding: 5px; padding-top: 10px; padding-bottom: 10px; margin-top: 0px; white-space: pre-wrap; margin-bottom: 0px;'>TITLE:<span style='background-color: rgba(0.0, 165.0, 0, 0.15); border-radius: 3px;' title='1.0'> Urban</span><span style='background-color: rgba(0.0, 165.0, 0, 0.15); border-radius: 3px;' title='1.0'> Planning</span><span style='background-color: rgba(0.0, 165.0, 0, 0.15); border-radius: 3px;' title='1.0'> and</span><span style='background-color: rgba(0.0, 165.0, 0, 0.15); border-radius: 3px;' title='1.0'> Transport</span><span style='background-color: rgba(0.0, 165.0, 0, 0.15); border-radius: 3px;' title='1.0'>ation</span>\n",
       "LABEL:<span style='background-color: rgba(0.0, 165.0, 0, 0.15); border-radius: 3px;' title='1.0'> Urban</span><span style='background-color: rgba(0.0, 165.0, 0, 0.15); border-radius: 3px;' title='1.0'> Development</span>\n",
       "</div></div><div style='display: flex; border-bottom: 1px solid rgba(127, 127, 127, 0.2); align-items: center;'><div style='flex: 0 0 80px; opacity: 0.5;'>user</div><div style='flex-grow: 1; padding: 5px; padding-top: 10px; padding-bottom: 10px; margin-top: 0px; white-space: pre-wrap; margin-bottom: 0px;'>\n",
       "# Topic 5 \n",
       "KEYWORDS: internet, store, yard, airport, fiber, people, town, vote, working, politics\n",
       "SAMPLE STATEMENTS: Working folks need ordinances struck down that prevent them from assembling to bargain for better pay. benefits and working conditions.; We need more businesses like White Squirrel and Nats in BG. They add character to our town. Done with the Olive Garden and Belks.; Wish the airport would get better flights. WheelsUp was cool but need more locations. Sad Owensboro is so far ahead there.\n",
       "</div></div><div style='display: flex; border-bottom: 1px solid rgba(127, 127, 127, 0.2); align-items: center;'><div style='flex: 0 0 80px; opacity: 0.5;'>assistant</div><div style='flex-grow: 1; padding: 5px; padding-top: 10px; padding-bottom: 10px; margin-top: 0px; white-space: pre-wrap; margin-bottom: 0px;'>TITLE:<span style='background-color: rgba(0.0, 165.0, 0, 0.15); border-radius: 3px;' title='1.0'> Community</span><span style='background-color: rgba(0.0, 165.0, 0, 0.15); border-radius: 3px;' title='1.0'> Economic</span><span style='background-color: rgba(0.0, 165.0, 0, 0.15); border-radius: 3px;' title='1.0'> Development</span>\n",
       "LABEL:<span style='background-color: rgba(0.0, 165.0, 0, 0.15); border-radius: 3px;' title='1.0'> Business</span><span style='background-color: rgba(0.0, 165.0, 0, 0.15); border-radius: 3px;' title='1.0'> Grow</span><span style='background-color: rgba(0.0, 165.0, 0, 0.15); border-radius: 3px;' title='1.0'>th</span>\n",
       "</div></div><div style='display: flex; border-bottom: 1px solid rgba(127, 127, 127, 0.2); align-items: center;'><div style='flex: 0 0 80px; opacity: 0.5;'>user</div><div style='flex-grow: 1; padding: 5px; padding-top: 10px; padding-bottom: 10px; margin-top: 0px; white-space: pre-wrap; margin-bottom: 0px;'>\n",
       "# Topic 6 \n",
       "KEYWORDS: officials, proposal, possession, mental health, research, board, project, power, connections, executives\n",
       "SAMPLE STATEMENTS: Officials that use social media accounts in a professional capacity should not be allowed to block constituents except under rare conditions like being threatened.; Planning &amp; Zoning Board needs an overhaul. Fewer builders appointed, fairness to opposition, stop rubber stamping by P&amp;Z and City Comm.; Local elected government officials should not be able to hold a seat and also be on the TIF board or other unelected boards.\n",
       "</div></div><div style='display: flex; border-bottom: 1px solid rgba(127, 127, 127, 0.2); align-items: center;'><div style='flex: 0 0 80px; opacity: 0.5;'>assistant</div><div style='flex-grow: 1; padding: 5px; padding-top: 10px; padding-bottom: 10px; margin-top: 0px; white-space: pre-wrap; margin-bottom: 0px;'>TITLE:<span style='background-color: rgba(0.0, 165.0, 0, 0.15); border-radius: 3px;' title='1.0'> Government</span><span style='background-color: rgba(0.0, 165.0, 0, 0.15); border-radius: 3px;' title='1.0'> Trans</span><span style='background-color: rgba(0.0, 165.0, 0, 0.15); border-radius: 3px;' title='1.0'>parency</span><span style='background-color: rgba(0.0, 165.0, 0, 0.15); border-radius: 3px;' title='1.0'> and</span><span style='background-color: rgba(0.0, 165.0, 0, 0.15); border-radius: 3px;' title='1.0'> Account</span><span style='background-color: rgba(0.0, 165.0, 0, 0.15); border-radius: 3px;' title='1.0'>ability</span>\n",
       "LABEL:<span style='background-color: rgba(0.0, 165.0, 0, 0.15); border-radius: 3px;' title='1.0'> Government</span><span style='background-color: rgba(0.0, 165.0, 0, 0.15); border-radius: 3px;' title='1.0'> Re</span><span style='background-color: rgba(0.0, 165.0, 0, 0.15); border-radius: 3px;' title='1.0'>form</span>\n",
       "</div></div><div style='display: flex; border-bottom: 1px solid rgba(127, 127, 127, 0.2); align-items: center;'><div style='flex: 0 0 80px; opacity: 0.5;'>user</div><div style='flex-grow: 1; padding: 5px; padding-top: 10px; padding-bottom: 10px; margin-top: 0px; white-space: pre-wrap; margin-bottom: 0px;'>\n",
       "# Topic 7 \n",
       "KEYWORDS: activities, weekend, tourism, advertising, hangout, professionals, young professionals, walkable city, art, tourists\n",
       "SAMPLE STATEMENTS: A favorite place to visit (elsewhere) is a park filled with gently used toys (donated).  It inspires imagination, creativity and sharing.; SKYPAC needs to bring in younger, more entertaining acts. It will fall apart if they keep only catering to 50+. Could be a great venue.; BG needs to develop a marketing campaign to draw Warren Co and surrounding counties to downtown for eating, shopping, and entertainment.\n",
       "</div></div><div style='display: flex; border-bottom: 1px solid rgba(127, 127, 127, 0.2); align-items: center;'><div style='flex: 0 0 80px; opacity: 0.5;'>assistant</div><div style='flex-grow: 1; padding: 5px; padding-top: 10px; padding-bottom: 10px; margin-top: 0px; white-space: pre-wrap; margin-bottom: 0px;'>TITLE:<span style='background-color: rgba(0.0, 165.0, 0, 0.15); border-radius: 3px;' title='1.0'> At</span><span style='background-color: rgba(0.0, 165.0, 0, 0.15); border-radius: 3px;' title='1.0'>tract</span><span style='background-color: rgba(0.0, 165.0, 0, 0.15); border-radius: 3px;' title='1.0'>ing</span><span style='background-color: rgba(0.0, 165.0, 0, 0.15); border-radius: 3px;' title='1.0'> Tour</span><span style='background-color: rgba(0.0, 165.0, 0, 0.15); border-radius: 3px;' title='1.0'>ists</span><span style='background-color: rgba(0.0, 165.0, 0, 0.15); border-radius: 3px;' title='1.0'> and</span><span style='background-color: rgba(0.0, 165.0, 0, 0.15); border-radius: 3px;' title='1.0'> Young</span><span style='background-color: rgba(0.0, 165.0, 0, 0.15); border-radius: 3px;' title='1.0'> Prof</span><span style='background-color: rgba(0.0, 165.0, 0, 0.15); border-radius: 3px;' title='1.0'>ession</span><span style='background-color: rgba(0.0, 165.0, 0, 0.15); border-radius: 3px;' title='1.0'>als</span>\n",
       "LABEL:<span style='background-color: rgba(0.0, 165.0, 0, 0.15); border-radius: 3px;' title='1.0'> Marketing</span><span style='background-color: rgba(0.0, 165.0, 0, 0.15); border-radius: 3px;' title='1.0'> Campaign</span>\n",
       "</div></div><div style='display: flex; border-bottom: 1px solid rgba(127, 127, 127, 0.2); align-items: center;'><div style='flex: 0 0 80px; opacity: 0.5;'>user</div><div style='flex-grow: 1; padding: 5px; padding-top: 10px; padding-bottom: 10px; margin-top: 0px; white-space: pre-wrap; margin-bottom: 0px;'>\n",
       "# Topic 8 \n",
       "KEYWORDS: parking, downtown, square, river, garage, mall, restaurants, sides, area, subdivisions\n",
       "SAMPLE STATEMENTS: Develop the Greenway so that the paved trail is continuous and reaches major parts of the city including the square, WKU, GM, and others.; Residential Parking Permits for areas near WKU. We can rescue our yards from parking. We pay property taxes for the students&#x27; convenience,; Build parking garage behind Spencer’s, remove some parking from Ft. Square. Add a green space on top of garage! Soccer field or rooftop food\n",
       "</div></div><div style='display: flex; border-bottom: 1px solid rgba(127, 127, 127, 0.2); align-items: center;'><div style='flex: 0 0 80px; opacity: 0.5;'>assistant</div><div style='flex-grow: 1; padding: 5px; padding-top: 10px; padding-bottom: 10px; margin-top: 0px; white-space: pre-wrap; margin-bottom: 0px;'>TITLE:<span style='background-color: rgba(0.0, 165.0, 0, 0.15); border-radius: 3px;' title='1.0'> Urban</span><span style='background-color: rgba(0.0, 165.0, 0, 0.15); border-radius: 3px;' title='1.0'> Planning</span><span style='background-color: rgba(0.0, 165.0, 0, 0.15); border-radius: 3px;' title='1.0'> and</span><span style='background-color: rgba(0.0, 165.0, 0, 0.15); border-radius: 3px;' title='1.0'> Park</span><span style='background-color: rgba(0.0, 165.0, 0, 0.15); border-radius: 3px;' title='1.0'>ing</span>\n",
       "LABEL:<span style='background-color: rgba(0.0, 165.0, 0, 0.15); border-radius: 3px;' title='1.0'> Park</span><span style='background-color: rgba(0.0, 165.0, 0, 0.15); border-radius: 3px;' title='1.0'>ing</span><span style='background-color: rgba(0.0, 165.0, 0, 0.15); border-radius: 3px;' title='1.0'> Solutions</span>\n",
       "</div></div><div style='display: flex; border-bottom: 1px solid rgba(127, 127, 127, 0.2); align-items: center;'><div style='flex: 0 0 80px; opacity: 0.5;'>user</div><div style='flex-grow: 1; padding: 5px; padding-top: 10px; padding-bottom: 10px; margin-top: 0px; white-space: pre-wrap; margin-bottom: 0px;'>\n",
       "# Topic 9 \n",
       "KEYWORDS: police, enforcement, traffic, cops, laws, accidents, drivers, rules, officers, regulations\n",
       "SAMPLE STATEMENTS: Houston &quot;courtesy police&quot; maintain safety on access rds enforcing right of way &amp; parking/litter rules, assist traffic flow - we need!; Why has the Police stop enforcing parking regulations? Park any way any direction. Is it time for a separate Traffic Enforcement Division?; BG needs to install traffic cameras that help police intersections like Gallatin, TN.  This would reduce accidents, traffic flow and add $\n",
       "</div></div><div style='display: flex; border-bottom: 1px solid rgba(127, 127, 127, 0.2); align-items: center;'><div style='flex: 0 0 80px; opacity: 0.5;'>assistant</div><div style='flex-grow: 1; padding: 5px; padding-top: 10px; padding-bottom: 10px; margin-top: 0px; white-space: pre-wrap; margin-bottom: 0px;'>TITLE:<span style='background-color: rgba(0.0, 165.0, 0, 0.15); border-radius: 3px;' title='1.0'> Tra</span><span style='background-color: rgba(0.0, 165.0, 0, 0.15); border-radius: 3px;' title='1.0'>ffic</span><span style='background-color: rgba(0.0, 165.0, 0, 0.15); border-radius: 3px;' title='1.0'> Law</span><span style='background-color: rgba(0.0, 165.0, 0, 0.15); border-radius: 3px;' title='1.0'> En</span><span style='background-color: rgba(0.0, 165.0, 0, 0.15); border-radius: 3px;' title='1.0'>force</span><span style='background-color: rgba(0.0, 165.0, 0, 0.15); border-radius: 3px;' title='1.0'>ment</span>\n",
       "LABEL:<span style='background-color: rgba(0.0, 165.0, 0, 0.15); border-radius: 3px;' title='1.0'> Tra</span><span style='background-color: rgba(0.0, 165.0, 0, 0.15); border-radius: 3px;' title='1.0'>ffic</span><span style='background-color: rgba(0.0, 165.0, 0, 0.15); border-radius: 3px;' title='1.0'> Safety</span>\n",
       "</div></div><div style='display: flex; border-bottom: 1px solid rgba(127, 127, 127, 0.2); align-items: center;'><div style='flex: 0 0 80px; opacity: 0.5;'>user</div><div style='flex-grow: 1; padding: 5px; padding-top: 10px; padding-bottom: 10px; margin-top: 0px; white-space: pre-wrap; margin-bottom: 0px;'>\n",
       "# Topic 10 \n",
       "KEYWORDS: drug, opioid, deaths, drugs, pain, doctors, crisis, dealers, sex, pregnancy\n",
       "SAMPLE STATEMENTS: The fact that there is not as much coverage about African American deaths from cocaine as there is about deaths in the white community from opioids, even though there are as many of them, is evidence of institutionalized racism.; In order to better combat the opioid epidemic, it is time to view drug addiction as a health problem rather than a criminal justice problem.; In order to combat teen pregnancy and STD rates, high schools in Bowling Green should offer comprehensive, medically accurate sex education.\n",
       "</div></div><div style='display: flex; border-bottom: 1px solid rgba(127, 127, 127, 0.2); align-items: center;'><div style='flex: 0 0 80px; opacity: 0.5;'>assistant</div><div style='flex-grow: 1; padding: 5px; padding-top: 10px; padding-bottom: 10px; margin-top: 0px; white-space: pre-wrap; margin-bottom: 0px;'>TITLE:<span style='background-color: rgba(0.0, 165.0, 0, 0.15); border-radius: 3px;' title='1.0'> Comb</span><span style='background-color: rgba(0.0, 165.0, 0, 0.15); border-radius: 3px;' title='1.0'>ating</span><span style='background-color: rgba(0.0, 165.0, 0, 0.15); border-radius: 3px;' title='1.0'> Sub</span><span style='background-color: rgba(0.0, 165.0, 0, 0.15); border-radius: 3px;' title='1.0'>stance</span><span style='background-color: rgba(0.0, 165.0, 0, 0.15); border-radius: 3px;' title='1.0'> Ab</span><span style='background-color: rgba(0.0, 165.0, 0, 0.15); border-radius: 3px;' title='1.0'>use</span><span style='background-color: rgba(0.0, 165.0, 0, 0.15); border-radius: 3px;' title='1.0'> and</span><span style='background-color: rgba(0.0, 165.0, 0, 0.15); border-radius: 3px;' title='1.0'> Te</span><span style='background-color: rgba(0.0, 165.0, 0, 0.15); border-radius: 3px;' title='1.0'>en</span><span style='background-color: rgba(0.0, 165.0, 0, 0.15); border-radius: 3px;' title='1.0'> P</span><span style='background-color: rgba(0.0, 165.0, 0, 0.15); border-radius: 3px;' title='1.0'>reg</span><span style='background-color: rgba(0.0, 165.0, 0, 0.15); border-radius: 3px;' title='1.0'>n</span><span style='background-color: rgba(0.0, 165.0, 0, 0.15); border-radius: 3px;' title='1.0'>ancy</span>\n",
       "LABEL:<span style='background-color: rgba(0.0, 165.0, 0, 0.15); border-radius: 3px;' title='1.0'> Health</span><span style='background-color: rgba(0.0, 165.0, 0, 0.15); border-radius: 3px;' title='1.0'> Education</span>\n",
       "</div></div><div style='display: flex; border-bottom: 1px solid rgba(127, 127, 127, 0.2); align-items: center;'><div style='flex: 0 0 80px; opacity: 0.5;'>user</div><div style='flex-grow: 1; padding: 5px; padding-top: 10px; padding-bottom: 10px; margin-top: 0px; white-space: pre-wrap; margin-bottom: 0px;'>\n",
       "# Topic 11 \n",
       "KEYWORDS: trees, trails, parks, recycling, shade, complexes, leashes, lawns, bike, trash\n",
       "SAMPLE STATEMENTS: Developing more bike trails into surrounding areas of the city would allow for a more developed both transport and recreational experiences; More walking/nature trails in our sports-centric parks. Have certain hours where walkers can enjoy the beauty of Paul Walker Golf Course.; Owners of large parking lots should be required to break them up with pockets of green space and trees; perhaps create a walkable green path\n",
       "</div></div><div style='display: flex; border-bottom: 1px solid rgba(127, 127, 127, 0.2); align-items: center;'><div style='flex: 0 0 80px; opacity: 0.5;'>assistant</div><div style='flex-grow: 1; padding: 5px; padding-top: 10px; padding-bottom: 10px; margin-top: 0px; white-space: pre-wrap; margin-bottom: 0px;'>TITLE:<span style='background-color: rgba(0.0, 165.0, 0, 0.15); border-radius: 3px;' title='1.0'> Urban</span><span style='background-color: rgba(0.0, 165.0, 0, 0.15); border-radius: 3px;' title='1.0'> Green</span><span style='background-color: rgba(0.0, 165.0, 0, 0.15); border-radius: 3px;' title='1.0'> Sp</span><span style='background-color: rgba(0.0, 165.0, 0, 0.15); border-radius: 3px;' title='1.0'>aces</span><span style='background-color: rgba(0.0, 165.0, 0, 0.15); border-radius: 3px;' title='1.0'> and</span><span style='background-color: rgba(0.0, 165.0, 0, 0.15); border-radius: 3px;' title='1.0'> Rec</span><span style='background-color: rgba(0.0, 165.0, 0, 0.15); border-radius: 3px;' title='1.0'>ycl</span><span style='background-color: rgba(0.0, 165.0, 0, 0.15); border-radius: 3px;' title='1.0'>ing</span>\n",
       "LABEL:<span style='background-color: rgba(0.0, 165.0, 0, 0.15); border-radius: 3px;' title='1.0'> Green</span><span style='background-color: rgba(0.0, 165.0, 0, 0.15); border-radius: 3px;' title='1.0'> Init</span><span style='background-color: rgba(0.0, 165.0, 0, 0.15); border-radius: 3px;' title='1.0'>i</span><span style='background-color: rgba(0.0, 165.0, 0, 0.15); border-radius: 3px;' title='1.0'>atives</span>\n",
       "</div></div><div style='display: flex; border-bottom: 1px solid rgba(127, 127, 127, 0.2); align-items: center;'><div style='flex: 0 0 80px; opacity: 0.5;'>user</div><div style='flex-grow: 1; padding: 5px; padding-top: 10px; padding-bottom: 10px; margin-top: 0px; white-space: pre-wrap; margin-bottom: 0px;'>\n",
       "# Topic 12 \n",
       "KEYWORDS: temp, wage, tax, openings, minimum, companies, occ, employee, job, rate\n",
       "SAMPLE STATEMENTS: Temp service need to pay higher hourly rate to temp than hiring firm pays their FTE to account for reduced economic security; City needs to bar big COs employing from half a dozen temp services to keep 100s ineligble for FMLA due to less than 50 ppl/per &#x27;employer&#x27;; City should bar garbage token health plans designed to prevent temp services paying $166/month Obamacare emp. fee. Let ppl get subsidy.\n",
       "</div></div><div style='display: flex; border-bottom: 1px solid rgba(127, 127, 127, 0.2); align-items: center;'><div style='flex: 0 0 80px; opacity: 0.5;'>assistant</div><div style='flex-grow: 1; padding: 5px; padding-top: 10px; padding-bottom: 10px; margin-top: 0px; white-space: pre-wrap; margin-bottom: 0px;'>TITLE:<span style='background-color: rgba(0.0, 165.0, 0, 0.15); border-radius: 3px;' title='1.0'> T</span><span style='background-color: rgba(0.0, 165.0, 0, 0.15); border-radius: 3px;' title='1.0'>emporary</span><span style='background-color: rgba(0.0, 165.0, 0, 0.15); border-radius: 3px;' title='1.0'> Work</span><span style='background-color: rgba(0.0, 165.0, 0, 0.15); border-radius: 3px;' title='1.0'>er</span><span style='background-color: rgba(0.0, 165.0, 0, 0.15); border-radius: 3px;' title='1.0'> Benef</span><span style='background-color: rgba(0.0, 165.0, 0, 0.15); border-radius: 3px;' title='1.0'>its</span><span style='background-color: rgba(0.0, 165.0, 0, 0.15); border-radius: 3px;' title='1.0'> and</span><span style='background-color: rgba(0.0, 165.0, 0, 0.15); border-radius: 3px;' title='1.0'> W</span><span style='background-color: rgba(0.0, 165.0, 0, 0.15); border-radius: 3px;' title='1.0'>ages</span>\n",
       "LABEL:<span style='background-color: rgba(0.0, 165.0, 0, 0.15); border-radius: 3px;' title='1.0'> Temp</span><span style='background-color: rgba(0.0, 165.0, 0, 0.15); border-radius: 3px;' title='1.0'> Work</span><span style='background-color: rgba(0.0, 165.0, 0, 0.15); border-radius: 3px;' title='1.0'>er</span><span style='background-color: rgba(0.0, 165.0, 0, 0.15); border-radius: 3px;' title='1.0'> Rights</span>\n",
       "</div></div></pre>"
      ],
      "text/plain": [
       "<IPython.core.display.HTML object>"
      ]
     },
     "metadata": {},
     "output_type": "display_data"
    }
   ],
   "source": [
    "topic_labels = None\n",
    "topic_titles = None\n",
    "\n",
    "from guidance import user, assistant, instruction\n",
    "import re\n",
    "\n",
    "@guidance\n",
    "def generate_topic_titles(lm, name_title, name_label, main_title, question, df, temperature=0):\n",
    "    global topic_labels, topic_titles\n",
    "\n",
    "    main_title_stop_words = re.split(r'\\W+', main_title.lower()) # pick words in summary\n",
    "\n",
    "\n",
    "    with instruction():\n",
    "        lm += f\"\"\"\\\n",
    "        Respond with a detailed title and a short label to best represent each given topic.\n",
    "        Avoid repetitive words such as \"Enhancing\" or \"Improving\".\n",
    "        Start title with a noun.\n",
    "        Label should be terse and up to 4 words.\n",
    "        Do not output any of the following words: \"{', '.join(main_title_stop_words)}\"\n",
    "        \"\"\"\n",
    "\n",
    "    with user():\n",
    "        lm += f\"\"\"\\\n",
    "        The following is a dataset of comments from an online discussion.\n",
    "        Discussion Question: {question}\n",
    "\n",
    "        KEYWORDS: [a set of keywords that describe the topic]\n",
    "        SAMPLE STATEMENTS: [a set of statements that best represent the topic]\n",
    "        \"\"\"\n",
    "\n",
    "    with assistant():\n",
    "        lm += f\"\"\"\\\n",
    "        TITLE: [a descriptive sentence that represents the topic]\n",
    "        LABEL: [terse phrase]\n",
    "        \"\"\"\n",
    "\n",
    "    topic_labels = []\n",
    "    topic_titles = []\n",
    "\n",
    "    for topic, keywords, docs in df.iter_rows():\n",
    "        with user():\n",
    "            lm = lm + f\"\"\"\n",
    "            # Topic {topic}\n",
    "            KEYWORDS: {', '.join(keywords)}\n",
    "            SAMPLE STATEMENTS: {'; '.join(docs)}\n",
    "            \"\"\"\n",
    "        with assistant():\n",
    "            lm += f\"TITLE: \" + gen(name=name_title, stop=['\\n', '.'], max_tokens=20, temperature=temperature) + \"\\n\"\n",
    "            lm += f\"LABEL: \" + gen(name=name_label, stop=['\\n', '.'], max_tokens=12, temperature=temperature) + \"\\n\"\n",
    "\n",
    "        # since the title almost always starts with a verb, remove the first word if it ends in 'ing'\n",
    "        title = lm['topic_title']\n",
    "        # if title.split(' ')[0].endswith('ing'):\n",
    "        #     title = ' '.join(title.split(' ')[1:])\n",
    "        topic_labels += [lm['topic_label']]\n",
    "        topic_titles += [title]\n",
    "\n",
    "    return lm\n",
    "\n",
    "# grab topic keywords\n",
    "df_topic_keywords_docs = pl.from_pandas(topic_model.get_topic_info()).select('Topic', 'Representation', 'Representative_Docs')\n",
    "\n",
    "# instruct LLM to generate topic titles\n",
    "lm = mistral + generate_topic_titles('topic_title', 'topic_label', summary['topic'], summary['conversation-description'], df_topic_keywords_docs, temperature=0)"
   ]
  },
  {
   "cell_type": "code",
   "execution_count": null,
   "metadata": {
    "vscode": {
     "languageId": "python"
    }
   },
   "outputs": [
    {
     "name": "stdout",
     "output_type": "stream",
     "text": [
      "Titles:\n",
      "Enhancing Educational Opportunities\n",
      "Managing Rental Property Development\n",
      "Improving Road Infrastructure\n",
      "Regulating Community Ordinances\n",
      "Urban Planning and Transportation\n",
      "Community Economic Development\n",
      "Government Transparency and Accountability\n",
      "Attracting Tourists and Young Professionals\n",
      "Urban Planning and Parking\n",
      "Traffic Law Enforcement\n",
      "Combating Substance Abuse and Teen Pregnancy\n",
      "Urban Green Spaces and Recycling\n",
      "Temporary Worker Benefits and Wages\n",
      "\n",
      "Labels:\n",
      "Education Funding\n",
      "Rental Taxes\n",
      "Road Safety\n",
      "Community Regulations\n",
      "Urban Development\n",
      "Business Growth\n",
      "Government Reform\n",
      "Marketing Campaign\n",
      "Parking Solutions\n",
      "Traffic Safety\n",
      "Health Education\n",
      "Green Initiatives\n",
      "Temp Worker Rights\n"
     ]
    }
   ],
   "source": [
    "print(\"Titles:\", '\\n'.join(topic_titles), \"\", \"Labels:\", '\\n'.join(topic_labels), sep='\\n')"
   ]
  },
  {
   "cell_type": "markdown",
   "metadata": {},
   "source": [
    "### Mistral with context reset"
   ]
  },
  {
   "cell_type": "code",
   "execution_count": null,
   "metadata": {
    "vscode": {
     "languageId": "python"
    }
   },
   "outputs": [
    {
     "data": {
      "text/html": [
       "<pre style='margin: 0px; padding: 0px; vertical-align: middle; padding-left: 8px; margin-left: -8px; border-radius: 0px; border-left: 1px solid rgba(127, 127, 127, 0.2); white-space: pre-wrap; font-family: ColfaxAI, Arial; font-size: 15px; line-height: 23px;'><div style='display: flex; border-bottom: 1px solid rgba(127, 127, 127, 0.2); align-items: center;'><div style='flex: 0 0 80px; opacity: 0.5;'>instruction</div><div style='flex-grow: 1; padding: 5px; padding-top: 10px; padding-bottom: 10px; margin-top: 0px; white-space: pre-wrap; margin-bottom: 0px;'>Respond with a detailed title and a short label to best represent the each given topic.\n",
       "Avoid repetitive words such as &quot;Enhancing&quot; or &quot;Improving&quot;.\n",
       "Start title with a noun.\n",
       "Label should be terse and up to 4 words.\n",
       "Do not output any of the following words: &quot;improving, bowling, green, warren, county&quot;\n",
       "</div></div><div style='display: flex; border-bottom: 1px solid rgba(127, 127, 127, 0.2); align-items: center;'><div style='flex: 0 0 80px; opacity: 0.5;'>user</div><div style='flex-grow: 1; padding: 5px; padding-top: 10px; padding-bottom: 10px; margin-top: 0px; white-space: pre-wrap; margin-bottom: 0px;'>The following is a dataset of comments from an online discussion.\n",
       "Discussion Question: What do you believe should change in Bowling Green/Warren County in order to make it a better place to live, work and spend time?\n",
       "\n",
       "KEYWORDS: [a set of keywords that describe the topic]\n",
       "SAMPLE STATEMENTS: [a set of statements that best represent the topic]\n",
       "</div></div><div style='display: flex; border-bottom: 1px solid rgba(127, 127, 127, 0.2); align-items: center;'><div style='flex: 0 0 80px; opacity: 0.5;'>assistant</div><div style='flex-grow: 1; padding: 5px; padding-top: 10px; padding-bottom: 10px; margin-top: 0px; white-space: pre-wrap; margin-bottom: 0px;'>TITLE: [a descriptive sentence that represents the topic]\n",
       "LABEL: [terse phrase]\n",
       "</div></div></pre>"
      ],
      "text/plain": [
       "<IPython.core.display.HTML object>"
      ]
     },
     "metadata": {},
     "output_type": "display_data"
    }
   ],
   "source": [
    "topic_labels = None\n",
    "topic_titles = None\n",
    "\n",
    "from guidance import user, assistant, instruction\n",
    "import re\n",
    "\n",
    "# TODO: use a reset_context parameter instead of redeffing the function\n",
    "\n",
    "@guidance\n",
    "def generate_topic_titles(lm, name_title, name_label, main_title, question, df, temperature=0):\n",
    "    global topic_labels, topic_titles\n",
    "\n",
    "    main_title_stop_words = re.split(r'\\W+', main_title.lower()) # pick words in summary\n",
    "\n",
    "\n",
    "    with instruction():\n",
    "        lm += f\"\"\"\\\n",
    "        Respond with a detailed title and a short label to best represent each given topic.\n",
    "        Avoid repetitive words such as \"Enhancing\" or \"Improving\".\n",
    "        Start title with a noun.\n",
    "        Label should be terse and up to 4 words.\n",
    "        Do not output any of the following words: \"{', '.join(main_title_stop_words)}\"\n",
    "        \"\"\"\n",
    "\n",
    "    with user():\n",
    "        lm += f\"\"\"\\\n",
    "        The following is a dataset of comments from an online discussion.\n",
    "        Discussion Question: {question}\n",
    "\n",
    "        KEYWORDS: [a set of keywords that describe the topic]\n",
    "        SAMPLE STATEMENTS: [a set of statements that best represent the topic]\n",
    "        \"\"\"\n",
    "\n",
    "    with assistant():\n",
    "        lm += f\"\"\"\\\n",
    "        TITLE: [a descriptive sentence that represents the topic]\n",
    "        LABEL: [terse phrase]\n",
    "        \"\"\"\n",
    "\n",
    "    topic_labels = []\n",
    "    topic_titles = []\n",
    "\n",
    "    for topic, keywords, docs in df.iter_rows():\n",
    "        with user():\n",
    "            lm_topic = lm + f\"\"\"\n",
    "            # Topic {topic}\n",
    "            KEYWORDS: {', '.join(keywords)}\n",
    "            SAMPLE STATEMENTS: {'; '.join(docs)}\n",
    "            \"\"\"\n",
    "        with assistant():\n",
    "            lm_topic += f\"TITLE: \" + gen(name=name_title, stop=['\\n', '.'], max_tokens=20, temperature=temperature) + \"\\n\"\n",
    "            lm_topic += f\"LABEL: \" + gen(name=name_label, stop=['\\n', '.'], max_tokens=12, temperature=temperature) + \"\\n\"\n",
    "\n",
    "        # since the title almost always starts with a verb, remove the first word if it ends in 'ing'\n",
    "        title = lm_topic['topic_title']\n",
    "        # if title.split(' ')[0].endswith('ing'):\n",
    "        #     title = ' '.join(title.split(' ')[1:])\n",
    "        topic_labels += [lm_topic['topic_label']]\n",
    "        topic_titles += [title]\n",
    "\n",
    "    return lm\n",
    "\n",
    "# grab topic keywords\n",
    "df_topic_keywords_docs = pl.from_pandas(topic_model.get_topic_info()).select('Topic', 'Representation', 'Representative_Docs')\n",
    "\n",
    "# instruct LLM to generate topic titles\n",
    "lm = mistral + generate_topic_titles('topic_title', 'topic_label', summary['topic'], summary['conversation-description'], df_topic_keywords_docs, temperature=0)"
   ]
  },
  {
   "cell_type": "code",
   "execution_count": null,
   "metadata": {
    "vscode": {
     "languageId": "python"
    }
   },
   "outputs": [
    {
     "name": "stdout",
     "output_type": "stream",
     "text": [
      "Titles:\n",
      "Enhancing Educational Opportunities\n",
      "Rental Property Taxation and Development in Cities\n",
      "Infrastructure Improvements for Safer Roadways\n",
      "Proposed Ordinances and Fairness Debates in Bowling Green\n",
      "Urban Infrastructure Improvements\n",
      "Community Development and Business Growth\n",
      "Government Reforms for Transparency and Fairness\n",
      "Enhancing Downtown Attractions for Young Professionals and Tourists\n",
      "Urban Development and Parking Solutions in Downtown Bowling Green\n",
      "Police and Traffic Enforcement\n",
      "Addressing the Opioid Crisis and Sex Education\n",
      "Urban Green Spaces Expansion\n",
      "Wage and Tax Policies for Temporary Workers\n",
      "\n",
      "Labels:\n",
      "Education Funding\n",
      "City Rental Taxes\n",
      "Roadway Upgrades\n",
      "Ordinance Debates\n",
      "Infrastructure Upgrades\n",
      "Business, Growth\n",
      "Government Transparency\n",
      "Downtown Revitalization\n",
      "Urban Development, Parking\n",
      "Police Traffic\n",
      "Opioid Crisis, Sex Education\n",
      "Green Spaces Expansion\n",
      "Temp Wage, Tax Policy\n"
     ]
    }
   ],
   "source": [
    "print(\"Titles:\", '\\n'.join(topic_titles), \"\", \"Labels:\", '\\n'.join(topic_labels), sep='\\n')"
   ]
  }
 ],
 "metadata": {
  "kernelspec": {
   "display_name": "Python [conda env:argmap]",
   "language": "python",
   "name": "conda-env-argmap-py"
  }
 },
 "nbformat": 4,
 "nbformat_minor": 2
}
